{
 "cells": [
  {
   "cell_type": "markdown",
   "metadata": {},
   "source": [
    "<h1 align=\"center\">Text Classification</h1> "
   ]
  },
  {
   "cell_type": "markdown",
   "metadata": {},
   "source": [
    "<hr>"
   ]
  },
  {
   "cell_type": "markdown",
   "metadata": {},
   "source": [
    "The project consists in building a text classifier according to the meaning of the text. It is based on precise semantic analysis of the text. The goal of the project is to automate as well as possible the clustering of texts based on their topics. To do that, we will use classical Machine Learning tools applied to a large dataset. All sources, like the dataset, models, and litterature that were useful to make this project are at the end in the bibliography. <br> <br>\n",
    "Our work will be based on Python and all its exhaustive libraries (numpy, pandas, sklearn, ...). We will follow classical Machine Learning approach: loading the dataset, pre process the data, implement a machine learning model, analyze the model. To chose our model, we will test some famous Machine Learning models and compare their performances to pick the best one.\n",
    "<br>"
   ]
  },
  {
   "cell_type": "markdown",
   "metadata": {},
   "source": [
    "## Table of contents\n",
    "\n",
    "* [1. Dataset](#dataset)\n",
    "* [2. Data visualisation](#dataviz)\n",
    "    * [2.1. Labels repartition](#labelsrep)\n",
    "    * [2.2. Texts length](#textlength)\n",
    "* [3. Data preprocessing](#datapreproc)\n",
    "    * [3.1. Normalization](#normalization)\n",
    "    * [3.2. Stopwords](#stopwords)\n",
    "    * [3.3. Tokenization](#tokenization)\n",
    "    * [3.4. Stemming](#stemming)\n",
    "    * [3.5. Lemmatization](#lemmatization)\n",
    "    * [3.6. Text transformation](#textTransform)\n",
    "* [4. Data split](#datasplit)\n",
    "* [5. Text representation](#textrepresentation)\n",
    "    * [5.1. Word appearance](#wordapp)\n",
    "    * [5.2. Word count vectors](#wcv)\n",
    "    * [5.3. Term frequency](#tf)\n",
    "    * [5.4. TF-IDF](#tfidf)\n",
    "    * [5.5. Representation choice](#repchoice)\n",
    "        * [5.5.1. Reminder: KNN algorithm](#knnalgo)\n",
    "        * [5.5.2. Results comparison](#repcomp)\n",
    "* [6. Machine Learning models](#mlmodels)\n",
    "    * [6.1. Logistic regression](#logreg)\n",
    "        * [6.1.1. Model parameters](#params1)\n",
    "        * [6.1.2. Grid search cross validation](#cv1)\n",
    "        * [6.1.3. Model implementation](#implementation1)\n",
    "        * [6.1.4. Performance analysis](#performance1)\n",
    "    * [6.2. KNN](#knn)\n",
    "        * [6.2.1. Model parameters](#params2)\n",
    "        * [6.2.2. Grid search cross validation](#cv2)\n",
    "        * [6.2.3. Model implementation](#implementation2)\n",
    "        * [6.2.4. Performance analysis](#performance2)\n",
    "    * [6.3. Naive Bayes classifier](#nbClassifier)\n",
    "        * [6.3.1. Model parameters](#params3)\n",
    "        * [6.3.2. Grid search cross validation](#cv3)\n",
    "        * [6.3.3. Model implementation](#implementation3)\n",
    "        * [6.3.4. Performance analysis](#performance3)\n",
    "    * [6.4. SVM](#svm)\n",
    "        * [6.4.1. Model parameters](#params4)\n",
    "        * [6.4.2. Grid search cross validation](#cv4)\n",
    "        * [6.4.3. Model implementation](#implementation4)\n",
    "        * [6.4.4. Performance analysis](#performance4)\n",
    "    * [6.5. Random forest](#rf)\n",
    "        * [6.5.1. Model parameters](#params5)\n",
    "        * [6.5.2. Grid search cross validation](#cv5)\n",
    "        * [6.5.3. Model implementation](#implementation5)\n",
    "        * [6.5.4. Performance analysis](#performance5)\n",
    "    * [6.6. Comparison and model choice](#modelChoice)\n",
    "* [7. Model analysis](#modelanalysis)\n",
    "* [8. Dimensionality reduction](#reduction)\n",
    "    * [8.1. PCA](#pca)\n",
    "    * [8.2. TSNE](#tsne)\n",
    "    * [8.3. Factorial analysis](#factorialAnalysis)\n",
    "* [Conclusion](#conclusion)\n",
    "* [Bibliography](#bibliography)"
   ]
  },
  {
   "cell_type": "markdown",
   "metadata": {},
   "source": [
    "### 1. Dataset <a class=\"anchor\" id=\"dataset\"></a>\n",
    "\n",
    "The dataset is a corpus composed of 2225 texts classified in 5 different topics (clusters): business, entertainment, politics, sport and tech. Let's firstly define the labels."
   ]
  },
  {
   "cell_type": "code",
   "execution_count": 2,
   "metadata": {},
   "outputs": [],
   "source": [
    "labels = {\n",
    "    \"business\": 0, \n",
    "    \"entertainment\": 1, \n",
    "    \"politics\": 2, \n",
    "    \"sport\": 3, \n",
    "    \"tech\": 4\n",
    "}"
   ]
  },
  {
   "cell_type": "markdown",
   "metadata": {},
   "source": [
    "Now we build our dataframe with 5 columns:\n",
    "\n",
    "- file name\n",
    "- text content\n",
    "- label\n",
    "- the label code as defined above\n",
    "- the text length which will be useful for the data visualisation"
   ]
  },
  {
   "cell_type": "code",
   "execution_count": 3,
   "metadata": {},
   "outputs": [
    {
     "name": "stdout",
     "output_type": "stream",
     "text": [
      "Running execution time to build dataframe is: 0.0 mn 1.0 sec\n"
     ]
    },
    {
     "data": {
      "text/html": [
       "<div>\n",
       "<style scoped>\n",
       "    .dataframe tbody tr th:only-of-type {\n",
       "        vertical-align: middle;\n",
       "    }\n",
       "\n",
       "    .dataframe tbody tr th {\n",
       "        vertical-align: top;\n",
       "    }\n",
       "\n",
       "    .dataframe thead th {\n",
       "        text-align: right;\n",
       "    }\n",
       "</style>\n",
       "<table border=\"1\" class=\"dataframe\">\n",
       "  <thead>\n",
       "    <tr style=\"text-align: right;\">\n",
       "      <th></th>\n",
       "      <th>File_name</th>\n",
       "      <th>Text</th>\n",
       "      <th>Label</th>\n",
       "      <th>Label_code</th>\n",
       "      <th>Text_length</th>\n",
       "    </tr>\n",
       "  </thead>\n",
       "  <tbody>\n",
       "    <tr>\n",
       "      <th>0</th>\n",
       "      <td>001.txt</td>\n",
       "      <td>Ad sales boost Time Warner profit\\n\\nQuarterly...</td>\n",
       "      <td>business</td>\n",
       "      <td>0</td>\n",
       "      <td>421</td>\n",
       "    </tr>\n",
       "    <tr>\n",
       "      <th>1</th>\n",
       "      <td>002.txt</td>\n",
       "      <td>Dollar gains on Greenspan speech\\n\\nThe dollar...</td>\n",
       "      <td>business</td>\n",
       "      <td>0</td>\n",
       "      <td>384</td>\n",
       "    </tr>\n",
       "    <tr>\n",
       "      <th>2</th>\n",
       "      <td>003.txt</td>\n",
       "      <td>Yukos unit buyer faces loan claim\\n\\nThe owner...</td>\n",
       "      <td>business</td>\n",
       "      <td>0</td>\n",
       "      <td>264</td>\n",
       "    </tr>\n",
       "    <tr>\n",
       "      <th>3</th>\n",
       "      <td>004.txt</td>\n",
       "      <td>High fuel prices hit BA's profits\\n\\nBritish A...</td>\n",
       "      <td>business</td>\n",
       "      <td>0</td>\n",
       "      <td>406</td>\n",
       "    </tr>\n",
       "    <tr>\n",
       "      <th>4</th>\n",
       "      <td>005.txt</td>\n",
       "      <td>Pernod takeover talk lifts Domecq\\n\\nShares in...</td>\n",
       "      <td>business</td>\n",
       "      <td>0</td>\n",
       "      <td>265</td>\n",
       "    </tr>\n",
       "  </tbody>\n",
       "</table>\n",
       "</div>"
      ],
      "text/plain": [
       "  File_name                                               Text     Label  \\\n",
       "0   001.txt  Ad sales boost Time Warner profit\\n\\nQuarterly...  business   \n",
       "1   002.txt  Dollar gains on Greenspan speech\\n\\nThe dollar...  business   \n",
       "2   003.txt  Yukos unit buyer faces loan claim\\n\\nThe owner...  business   \n",
       "3   004.txt  High fuel prices hit BA's profits\\n\\nBritish A...  business   \n",
       "4   005.txt  Pernod takeover talk lifts Domecq\\n\\nShares in...  business   \n",
       "\n",
       "   Label_code  Text_length  \n",
       "0           0          421  \n",
       "1           0          384  \n",
       "2           0          264  \n",
       "3           0          406  \n",
       "4           0          265  "
      ]
     },
     "execution_count": 3,
     "metadata": {},
     "output_type": "execute_result"
    }
   ],
   "source": [
    "import pandas as pd\n",
    "import time\n",
    "import os\n",
    "\n",
    "data = {\"File_name\": [],\"Text\":[], \"Label\": [], \"Label_code\": [], \"Text_length\": []}\n",
    "\n",
    "time1 = time.time()\n",
    "\n",
    "for label in labels.keys():\n",
    "    path = \"dataset/dataset\" + \"/\" + label\n",
    "    dir = os.listdir(path)\n",
    "    nb_files = len(dir)\n",
    "    for k in range(nb_files):\n",
    "        file_name = dir[k]\n",
    "        file = open(os.path.join(path, file_name), \"r\")\n",
    "        file_txt = file.read()\n",
    "        #file_txt = ' '.join(preprocess(file_txt, 'english'))\n",
    "        data[\"File_name\"].append(file_name)\n",
    "        data[\"Text\"].append(file_txt)\n",
    "        data[\"Label\"].append(label)\n",
    "        data[\"Label_code\"].append(labels.get(label))\n",
    "        data[\"Text_length\"].append(len(file_txt.split()))\n",
    "\n",
    "df = pd.DataFrame(data = data)\n",
    "\n",
    "time2 = time.time() - time1\n",
    "\n",
    "print(\"Running execution time to build dataframe is:\", time2//60, \"mn\", round(time2%60, 0), \"sec\")\n",
    "df.head()"
   ]
  },
  {
   "cell_type": "markdown",
   "metadata": {},
   "source": [
    "We show now the first article:"
   ]
  },
  {
   "cell_type": "code",
   "execution_count": 4,
   "metadata": {
    "scrolled": false
   },
   "outputs": [
    {
     "data": {
      "text/plain": [
       "'Ad sales boost Time Warner profit\\n\\nQuarterly profits at US media giant TimeWarner jumped 76% to $1.13bn (Â£600m) for the three months to December, from $639m year-earlier.\\n\\nThe firm, which is now one of the biggest investors in Google, benefited from sales of high-speed internet connections and higher advert sales. TimeWarner said fourth quarter sales rose 2% to $11.1bn from $10.9bn. Its profits were buoyed by one-off gains which offset a profit dip at Warner Bros, and less users for AOL.\\n\\nTime Warner said on Friday that it now owns 8% of search-engine Google. But its own internet business, AOL, had has mixed fortunes. It lost 464,000 subscribers in the fourth quarter profits were lower than in the preceding three quarters. However, the company said AOL\\'s underlying profit before exceptional items rose 8% on the back of stronger internet advertising revenues. It hopes to increase subscribers by offering the online service free to TimeWarner internet customers and will try to sign up AOL\\'s existing customers for high-speed broadband. TimeWarner also has to restate 2000 and 2003 results following a probe by the US Securities Exchange Commission (SEC), which is close to concluding.\\n\\nTime Warner\\'s fourth quarter profits were slightly better than analysts\\' expectations. But its film division saw profits slump 27% to $284m, helped by box-office flops Alexander and Catwoman, a sharp contrast to year-earlier, when the third and final film in the Lord of the Rings trilogy boosted results. For the full-year, TimeWarner posted a profit of $3.36bn, up 27% from its 2003 performance, while revenues grew 6.4% to $42.09bn. \"Our financial performance was strong, meeting or exceeding all of our full-year objectives and greatly enhancing our flexibility,\" chairman and chief executive Richard Parsons said. For 2005, TimeWarner is projecting operating earnings growth of around 5%, and also expects higher revenue and wider profit margins.\\n\\nTimeWarner is to restate its accounts as part of efforts to resolve an inquiry into AOL by US market regulators. It has already offered to pay $300m to settle charges, in a deal that is under review by the SEC. The company said it was unable to estimate the amount it needed to set aside for legal reserves, which it previously set at $500m. It intends to adjust the way it accounts for a deal with German music publisher Bertelsmann\\'s purchase of a stake in AOL Europe, which it had reported as advertising revenue. It will now book the sale of its stake in AOL Europe as a loss on the value of that stake.\\n'"
      ]
     },
     "execution_count": 4,
     "metadata": {},
     "output_type": "execute_result"
    }
   ],
   "source": [
    "df.loc[0][\"Text\"]"
   ]
  },
  {
   "cell_type": "markdown",
   "metadata": {},
   "source": [
    "We can observe that the file is well read. However, this text can not be used like that in Machine Learning algorithms. Therefore, there are some operations to be made in order to make a good analyze of the texts:\n",
    "\n",
    "- remove breaks\n",
    "- remove punctuation\n",
    "- remove digits\n",
    "- remove words which don't give any meaning to the text (also called stopwords)\n",
    "- regroup words that have the same meaning (lemmatization/stemming)\n",
    "- transform the obtained text in a mathematical object"
   ]
  },
  {
   "cell_type": "markdown",
   "metadata": {},
   "source": [
    "## 2. Data visualisation <a class=\"anchor\" id=\"dataviz\"></a>"
   ]
  },
  {
   "cell_type": "markdown",
   "metadata": {},
   "source": [
    "### 2.1 Labels repartition <a class=\"anchor\" id=\"labelsrep\"></a>"
   ]
  },
  {
   "cell_type": "markdown",
   "metadata": {},
   "source": [
    "Firstly we want to check if the dataset is well balanced. Indeed, it is very important to have a good labels repartition. For supervised learning, if the data set isn't well balanced in the training part, the model will have difficulties to predict new values belonging to minor labels. <br>\n",
    "Therefore, we will plot an histogram of labels repartition in the dataset.  We will use matplotlib.pyplot library."
   ]
  },
  {
   "cell_type": "code",
   "execution_count": 76,
   "metadata": {},
   "outputs": [],
   "source": [
    "labels_names = [\"business\",\n",
    "               \"entertainment\",\n",
    "               \"politics\",\n",
    "               \"sport\",\n",
    "               \"tech\"]\n",
    "\n",
    "dataset_size = len(df[\"Label_code\"].tolist()) \n",
    "\n",
    "proportions = [df[\"Label_code\"].tolist().count(0) / dataset_size *100,\n",
    "               df[\"Label_code\"].tolist().count(1) / dataset_size * 100,\n",
    "               df[\"Label_code\"].tolist().count(2) / dataset_size * 100,\n",
    "               df[\"Label_code\"].tolist().count(3) / dataset_size * 100,\n",
    "               df[\"Label_code\"].tolist().count(4) / dataset_size * 100]\n",
    "\n",
    "colors = ['blue', 'red', 'yellow', 'green', 'purple']"
   ]
  },
  {
   "cell_type": "code",
   "execution_count": 77,
   "metadata": {},
   "outputs": [
    {
     "data": {
      "text/plain": [
       "Text(0.5, 1.0, 'Hisograms of labels repartition')"
      ]
     },
     "execution_count": 77,
     "metadata": {},
     "output_type": "execute_result"
    },
    {
     "data": {
      "image/png": "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\n",
      "text/plain": [
       "<Figure size 432x288 with 1 Axes>"
      ]
     },
     "metadata": {
      "needs_background": "light"
     },
     "output_type": "display_data"
    }
   ],
   "source": [
    "import matplotlib.pyplot as plt \n",
    "\n",
    "plt.xlabel('Labels')\n",
    "plt.ylabel('Percentage')\n",
    "plt.bar(labels_names, proportions, color = colors)\n",
    "plt.ylim(0, 100)\n",
    "plt.title('Hisograms of labels repartition')"
   ]
  },
  {
   "cell_type": "markdown",
   "metadata": {},
   "source": [
    "As we can observe, the dataset is pretty well balanced. Indeed, the labels entertainment, politics and tech have approximately the same percentage repartition (17%). Labels business and sport have the same repartition (22%). In order to build a better dataset, we could add more texts about entertainment, politics and tech. However, this dataset is satisfactory and labels repartition is good in order to train ML algorithms."
   ]
  },
  {
   "cell_type": "markdown",
   "metadata": {},
   "source": [
    "### 2.2 Texts length <a class=\"anchor\" id=\"textlength\"></a>"
   ]
  },
  {
   "cell_type": "markdown",
   "metadata": {},
   "source": [
    "Another interesting property is the text length. Indeed, short texts will be very hard to analyze in order to train ML algorithms.  If some labels have too short texts compared to the other ones, prediction on these labels will be less efficient. Let's visualize the distribution of texts length among the whole dataset firstly."
   ]
  },
  {
   "cell_type": "code",
   "execution_count": 78,
   "metadata": {
    "scrolled": false
   },
   "outputs": [
    {
     "data": {
      "image/png": "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\n",
      "text/plain": [
       "<Figure size 432x288 with 1 Axes>"
      ]
     },
     "metadata": {
      "needs_background": "light"
     },
     "output_type": "display_data"
    }
   ],
   "source": [
    "plt.hist(df[\"Text_length\"].tolist(), 50, color='deepskyblue')\n",
    "plt.grid('true')"
   ]
  },
  {
   "cell_type": "markdown",
   "metadata": {},
   "source": [
    "Text length goes from 89 to 4432. However, the distribution shows that the major part of the texts has a length around 200-600 words. Now let's see if there is a link between text length and labels."
   ]
  },
  {
   "cell_type": "code",
   "execution_count": 79,
   "metadata": {},
   "outputs": [
    {
     "data": {
      "text/plain": [
       "<matplotlib.axes._subplots.AxesSubplot at 0x2023451cdc8>"
      ]
     },
     "execution_count": 79,
     "metadata": {},
     "output_type": "execute_result"
    },
    {
     "data": {
      "image/png": "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\n",
      "text/plain": [
       "<Figure size 432x288 with 1 Axes>"
      ]
     },
     "metadata": {
      "needs_background": "light"
     },
     "output_type": "display_data"
    }
   ],
   "source": [
    "df.boxplot(column = \"Text_length\", by = \"Label\")"
   ]
  },
  {
   "cell_type": "markdown",
   "metadata": {},
   "source": [
    "Boxplots are not really usable because of extreme values, also called **outliers**. Let's remove them. We will take only 90% of the values, which will remove 10% of **outliers**."
   ]
  },
  {
   "cell_type": "code",
   "execution_count": 80,
   "metadata": {},
   "outputs": [
    {
     "data": {
      "text/plain": [
       "<matplotlib.axes._subplots.AxesSubplot at 0x20235972e08>"
      ]
     },
     "execution_count": 80,
     "metadata": {},
     "output_type": "execute_result"
    },
    {
     "data": {
      "image/png": "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\n",
      "text/plain": [
       "<Figure size 432x288 with 1 Axes>"
      ]
     },
     "metadata": {
      "needs_background": "light"
     },
     "output_type": "display_data"
    }
   ],
   "source": [
    "outliers = df[\"Text_length\"].quantile(0.90)\n",
    "df[df[\"Text_length\"] < outliers].boxplot(column = \"Text_length\", by = \"Label\")"
   ]
  },
  {
   "cell_type": "markdown",
   "metadata": {},
   "source": [
    "We can observe that texts about politics and tech tend to be longer than the other themes. However, this isn't enough significant in order to pre process here. We will take this observation into account in order to give the same importance to all texts (independently from their lengths). This will be considered in the TF-IDF formula (later in the notebook)."
   ]
  },
  {
   "cell_type": "markdown",
   "metadata": {},
   "source": [
    "## 3. Data Preprocessing <a class=\"anchor\" id=\"datapreproc\"></a>\n",
    "\n",
    "First of all, we will explore different ways to clean a text and prepare it."
   ]
  },
  {
   "cell_type": "code",
   "execution_count": 5,
   "metadata": {},
   "outputs": [],
   "source": [
    "import matplotlib.pyplot as plt \n",
    "import operator\n",
    "import collections\n",
    "import numpy as np\n",
    "import os\n",
    "import re\n",
    "import time\n",
    "from scipy.spatial import distance\n",
    "from math import log"
   ]
  },
  {
   "cell_type": "markdown",
   "metadata": {},
   "source": [
    "**3.1. Normalization** <a class=\"anchor\" id=\"normalization\"></a>\n",
    "\n",
    "Texts always include a lot of punctuation which we have to remove if we want to work only with the words. Here, we will:\n",
    "- remove punctuation\n",
    "- remove breaks\n",
    "- make the text to lower case: indeed we don't want to make any difference between 'Sun' and 'sun' for example\n",
    "\n",
    "We will use regex and replace function to make these removes."
   ]
  },
  {
   "cell_type": "code",
   "execution_count": 6,
   "metadata": {},
   "outputs": [],
   "source": [
    "import string\n",
    "from string import punctuation\n",
    "from string import digits\n",
    "import re\n",
    "\n",
    "def remove_breaks(text):   # removing breaks\n",
    "    regex = re.compile(r'[\\n\\r\\t]')\n",
    "    return regex.sub(\" \", text)\n",
    "\n",
    "def remove_punctuation(text):   # removing punctuation\n",
    "    text_wp = text\n",
    "    for p in punctuation:\n",
    "        text_wp = text_wp.replace(p, '')\n",
    "    return text_wp\n",
    "\n",
    "def remove_digits(text):   # removing digits\n",
    "    text_wd = text\n",
    "    for d in digits:\n",
    "        text_wd = text_wd.replace(d, '')\n",
    "    return text_wd\n",
    "\n",
    "def lower(text):\n",
    "    return text.lower()\n",
    "\n",
    "def normalize(text):\n",
    "    text_normalized = remove_breaks(text)\n",
    "    text_normalized = remove_punctuation(text_normalized)\n",
    "    #text_normalized = remove_digits(text_normalized)\n",
    "    text_normalized = lower(text_normalized)\n",
    "    return text_normalized"
   ]
  },
  {
   "cell_type": "markdown",
   "metadata": {},
   "source": [
    "Now, we print the result of normalization on the first text."
   ]
  },
  {
   "cell_type": "code",
   "execution_count": 7,
   "metadata": {},
   "outputs": [
    {
     "name": "stdout",
     "output_type": "stream",
     "text": [
      "ad sales boost time warner profit  quarterly profits at us media giant timewarner jumped 76 to 113bn â£600m for the three months to december from 639m yearearlier  the firm which is now one of the biggest investors in google benefited from sales of highspeed internet connections and higher advert sales timewarner said fourth quarter sales rose 2 to 111bn from 109bn its profits were buoyed by oneoff gains which offset a profit dip at warner bros and less users for aol  time warner said on friday that it now owns 8 of searchengine google but its own internet business aol had has mixed fortunes it lost 464000 subscribers in the fourth quarter profits were lower than in the preceding three quarters however the company said aols underlying profit before exceptional items rose 8 on the back of stronger internet advertising revenues it hopes to increase subscribers by offering the online service free to timewarner internet customers and will try to sign up aols existing customers for highspeed broadband timewarner also has to restate 2000 and 2003 results following a probe by the us securities exchange commission sec which is close to concluding  time warners fourth quarter profits were slightly better than analysts expectations but its film division saw profits slump 27 to 284m helped by boxoffice flops alexander and catwoman a sharp contrast to yearearlier when the third and final film in the lord of the rings trilogy boosted results for the fullyear timewarner posted a profit of 336bn up 27 from its 2003 performance while revenues grew 64 to 4209bn our financial performance was strong meeting or exceeding all of our fullyear objectives and greatly enhancing our flexibility chairman and chief executive richard parsons said for 2005 timewarner is projecting operating earnings growth of around 5 and also expects higher revenue and wider profit margins  timewarner is to restate its accounts as part of efforts to resolve an inquiry into aol by us market regulators it has already offered to pay 300m to settle charges in a deal that is under review by the sec the company said it was unable to estimate the amount it needed to set aside for legal reserves which it previously set at 500m it intends to adjust the way it accounts for a deal with german music publisher bertelsmanns purchase of a stake in aol europe which it had reported as advertising revenue it will now book the sale of its stake in aol europe as a loss on the value of that stake \n"
     ]
    }
   ],
   "source": [
    "print(normalize(df[\"Text\"][0]))"
   ]
  },
  {
   "cell_type": "markdown",
   "metadata": {},
   "source": [
    "**3.2. Stop words** <a class=\"anchor\" id=\"stopwords\"></a>\n",
    "\n",
    "Once the text is normalized (lowercase, no digits, no punctuation), we need to remove words that don't bring any meaning to the text. These words are called \"stop words\" (e.g. \"the\", \"and\" , \"you\", ...). Taking them into account won't help us determine the subject matter of the text. That is why, we will remove them from our text. <br> Let's firstly load the stopwords list. Here we will work with the english stopwords."
   ]
  },
  {
   "cell_type": "code",
   "execution_count": 8,
   "metadata": {},
   "outputs": [
    {
     "name": "stderr",
     "output_type": "stream",
     "text": [
      "[nltk_data] Downloading package stopwords to\n",
      "[nltk_data]     C:\\Users\\Thomas\\AppData\\Roaming\\nltk_data...\n",
      "[nltk_data]   Package stopwords is already up-to-date!\n"
     ]
    }
   ],
   "source": [
    "import nltk\n",
    "import nltk.corpus\n",
    "from nltk.corpus import stopwords\n",
    "nltk.download('stopwords')\n",
    "\n",
    "stop_words = list(stopwords.words('english'))"
   ]
  },
  {
   "cell_type": "code",
   "execution_count": 9,
   "metadata": {
    "scrolled": true
   },
   "outputs": [
    {
     "name": "stdout",
     "output_type": "stream",
     "text": [
      "['i', 'me', 'my', 'myself', 'we', 'our', 'ours', 'ourselves', 'you', \"you're\"]\n",
      "179\n",
      "True\n"
     ]
    }
   ],
   "source": [
    "print(stop_words[0:10])\n",
    "print(len(stop_words))\n",
    "print('the' in stop_words)"
   ]
  },
  {
   "cell_type": "markdown",
   "metadata": {},
   "source": [
    "As we can see, there are 179 words that are often used in texts. Removing them will reduce the texts."
   ]
  },
  {
   "cell_type": "markdown",
   "metadata": {},
   "source": [
    "Now, we will use regex in order to remove the stopwords."
   ]
  },
  {
   "cell_type": "code",
   "execution_count": 10,
   "metadata": {},
   "outputs": [],
   "source": [
    "def remove_stopwords(text):\n",
    "    text_wsw = text\n",
    "    for w in stop_words:\n",
    "        regex = re.compile(r'\\b' + w + r'\\b')\n",
    "        text_wsw = regex.sub(\"\", text_wsw)\n",
    "    return text_wsw"
   ]
  },
  {
   "cell_type": "markdown",
   "metadata": {},
   "source": [
    "Below, we can see the result of removing stopwords from the first text of the dataset."
   ]
  },
  {
   "cell_type": "code",
   "execution_count": 11,
   "metadata": {},
   "outputs": [
    {
     "name": "stdout",
     "output_type": "stream",
     "text": [
      "Ad sales boost Time Warner profit\n",
      "\n",
      "Quarterly profits  US media giant TimeWarner jumped 76%  $1.13bn (Â£600m)   three months  December,  $639m year-earlier.\n",
      "\n",
      "The firm,    one   biggest investors  Google, benefited  sales  high-speed internet connections  higher advert sales. TimeWarner said fourth quarter sales rose 2%  $11.1bn  $10.9bn. Its profits  buoyed  one- gains  offset  profit dip  Warner Bros,  less users  AOL.\n",
      "\n",
      "Time Warner said  Friday    owns 8%  search-engine Google. But   internet business, AOL,   mixed fortunes. It lost 464,000 subscribers   fourth quarter profits  lower    preceding three quarters. However,  company said AOL' underlying profit  exceptional items rose 8%   back  stronger internet advertising revenues. It hopes  increase subscribers  offering  online service free  TimeWarner internet customers   try  sign  AOL' existing customers  high-speed broadband. TimeWarner also   restate 2000  2003 results following  probe   US Securities Exchange Commission (SEC),   close  concluding.\n",
      "\n",
      "Time Warner' fourth quarter profits  slightly better  analysts' expectations. But  film division saw profits slump 27%  $284m, helped  box-office flops Alexander  Catwoman,  sharp contrast  year-earlier,   third  final film   Lord   Rings trilogy boosted results. For  full-year, TimeWarner posted  profit  $3.36bn,  27%   2003 performance,  revenues grew 6.4%  $42.09bn. \"Our financial performance  strong, meeting  exceeding    full-year objectives  greatly enhancing  flexibility,\" chairman  chief executive Richard Parsons said. For 2005, TimeWarner  projecting operating earnings growth  around 5%,  also expects higher revenue  wider profit margins.\n",
      "\n",
      "TimeWarner   restate  accounts  part  efforts  resolve  inquiry  AOL  US market regulators. It  already offered  pay $300m  settle charges,   deal    review   SEC. The company said   unable  estimate  amount  needed  set aside  legal reserves,   previously set  $500m. It intends  adjust  way  accounts   deal  German music publisher Bertelsmann' purchase   stake  AOL Europe,    reported  advertising revenue. It   book  sale   stake  AOL Europe   loss   value   stake.\n",
      "\n"
     ]
    }
   ],
   "source": [
    "print(remove_stopwords(df[\"Text\"][0]))"
   ]
  },
  {
   "cell_type": "markdown",
   "metadata": {},
   "source": [
    "**3.3. Tokenization** <a class=\"anchor\" id=\"tokenization\"></a>\n",
    "\n",
    "This step consists in converting our text in a **list of words** of the text. This preprocessing step, is very useful if we consider our dataset like a matrix composed of count words vectors."
   ]
  },
  {
   "cell_type": "code",
   "execution_count": 12,
   "metadata": {},
   "outputs": [],
   "source": [
    "from nltk import tokenize\n",
    "from nltk.tokenize import word_tokenize\n",
    "\n",
    "def tokenization(text):\n",
    "    return sorted(word_tokenize(text))"
   ]
  },
  {
   "cell_type": "code",
   "execution_count": 13,
   "metadata": {},
   "outputs": [
    {
     "name": "stdout",
     "output_type": "stream",
     "text": [
      "Input text:  When gone am I, the last of the Jedi will you be. The Force runs strong in your family. Pass on what you have learned\n",
      "*****Tokenization result*****\n",
      "Output text:  ['family', 'force', 'gone', 'jedi', 'last', 'learned', 'pass', 'runs', 'strong']\n"
     ]
    }
   ],
   "source": [
    "text_input = \"When gone am I, the last of the Jedi will you be. The Force runs strong in your family. Pass on what you have learned\"\n",
    "text_o = normalize(text_input)\n",
    "text_o = remove_stopwords(text_o)\n",
    "print('Input text: ', text_input)\n",
    "print('*****Tokenization result*****')\n",
    "print('Output text: ', tokenization(text_o))"
   ]
  },
  {
   "cell_type": "markdown",
   "metadata": {},
   "source": [
    "As we can see:\n",
    "- stopwords are successfully removed: 'will', 'this' and 'in' \n",
    "- the text is transformed in a sorted list composed of its words"
   ]
  },
  {
   "cell_type": "markdown",
   "metadata": {},
   "source": [
    "**3.4. Stemming** <a class=\"anchor\" id=\"stemming\"></a>\n",
    "\n",
    "To perform well our model, we need to take into account that two derived words can have the same meaning. For instance, \"fish\", \"fished\", \"fishes\" carry the same semantical meaning and are all derived from the same **stem**: \"fish\".\n",
    "\n",
    "Now, we will process to stemming by reducing words to their word stem."
   ]
  },
  {
   "cell_type": "code",
   "execution_count": 14,
   "metadata": {},
   "outputs": [],
   "source": [
    "from nltk import stem\n",
    "from nltk.stem.porter import PorterStemmer\n",
    "ps = PorterStemmer()\n",
    "\n",
    "def stemming(text):\n",
    "    return ' '.join([ps.stem(w) for w in text.split()])"
   ]
  },
  {
   "cell_type": "markdown",
   "metadata": {},
   "source": [
    "**3.5. Lemmatization** <a class=\"anchor\" id=\"lemmatization\"></a>\n",
    "\n",
    "Let us now explore another approach called lemmatization, very **similar** to stemming."
   ]
  },
  {
   "cell_type": "code",
   "execution_count": 15,
   "metadata": {},
   "outputs": [],
   "source": [
    "from nltk.stem import WordNetLemmatizer\n",
    "wnl = WordNetLemmatizer()\n",
    "\n",
    "def lemmatization(text):\n",
    "    return ' '.join([wnl.lemmatize(w) for w in text.split()])"
   ]
  },
  {
   "cell_type": "markdown",
   "metadata": {},
   "source": [
    "Lemmatization on the first text of the dataset gives:"
   ]
  },
  {
   "cell_type": "code",
   "execution_count": 16,
   "metadata": {},
   "outputs": [
    {
     "name": "stdout",
     "output_type": "stream",
     "text": [
      "Ad sale boost Time Warner profit Quarterly profit at US medium giant TimeWarner jumped 76% to $1.13bn (Â£600m) for the three month to December, from $639m year-earlier. The firm, which is now one of the biggest investor in Google, benefited from sale of high-speed internet connection and higher advert sales. TimeWarner said fourth quarter sale rose 2% to $11.1bn from $10.9bn. Its profit were buoyed by one-off gain which offset a profit dip at Warner Bros, and le user for AOL. Time Warner said on Friday that it now owns 8% of search-engine Google. But it own internet business, AOL, had ha mixed fortunes. It lost 464,000 subscriber in the fourth quarter profit were lower than in the preceding three quarters. However, the company said AOL's underlying profit before exceptional item rose 8% on the back of stronger internet advertising revenues. It hope to increase subscriber by offering the online service free to TimeWarner internet customer and will try to sign up AOL's existing customer for high-speed broadband. TimeWarner also ha to restate 2000 and 2003 result following a probe by the US Securities Exchange Commission (SEC), which is close to concluding. Time Warner's fourth quarter profit were slightly better than analysts' expectations. But it film division saw profit slump 27% to $284m, helped by box-office flop Alexander and Catwoman, a sharp contrast to year-earlier, when the third and final film in the Lord of the Rings trilogy boosted results. For the full-year, TimeWarner posted a profit of $3.36bn, up 27% from it 2003 performance, while revenue grew 6.4% to $42.09bn. \"Our financial performance wa strong, meeting or exceeding all of our full-year objective and greatly enhancing our flexibility,\" chairman and chief executive Richard Parsons said. For 2005, TimeWarner is projecting operating earnings growth of around 5%, and also expects higher revenue and wider profit margins. TimeWarner is to restate it account a part of effort to resolve an inquiry into AOL by US market regulators. It ha already offered to pay $300m to settle charges, in a deal that is under review by the SEC. The company said it wa unable to estimate the amount it needed to set aside for legal reserves, which it previously set at $500m. It intends to adjust the way it account for a deal with German music publisher Bertelsmann's purchase of a stake in AOL Europe, which it had reported a advertising revenue. It will now book the sale of it stake in AOL Europe a a loss on the value of that stake.\n"
     ]
    }
   ],
   "source": [
    "print(lemmatization(df[\"Text\"][0]))"
   ]
  },
  {
   "cell_type": "markdown",
   "metadata": {},
   "source": [
    "#### Stemming or lemmatization ? \n",
    "\n",
    "A question springs to mind: stemming or lemmatization? Even if these two methods are very similar, we illustrate here the clear difference between stemming and lemmatization."
   ]
  },
  {
   "cell_type": "code",
   "execution_count": 17,
   "metadata": {},
   "outputs": [
    {
     "name": "stdout",
     "output_type": "stream",
     "text": [
      "First text: studies studying\n",
      "Stemming computes the following list: studi studi\n",
      "Lemmatization computes the following list: study studying\n",
      "Second text: wait waiting waited\n",
      "Stemming computes the following list: wait wait wait\n",
      "Lemmatization computes the following list: wait waiting waited\n"
     ]
    }
   ],
   "source": [
    "text1 = 'studies studying'\n",
    "text2 = 'wait waiting waited'\n",
    "\n",
    "print('First text:', text1)\n",
    "print(\"Stemming computes the following list:\", stemming(text1))\n",
    "print(\"Lemmatization computes the following list:\", lemmatization(text1))\n",
    "\n",
    "print('Second text:', text2)\n",
    "print(\"Stemming computes the following list:\", stemming(text2))\n",
    "print(\"Lemmatization computes the following list:\", lemmatization(text2))"
   ]
  },
  {
   "cell_type": "markdown",
   "metadata": {},
   "source": [
    "Both methods seem to be interesting in order to group together derived words that have the same meaning. <br> <br>\n",
    "The results show that stemming cut the end of the word, without taking into account the meaning: indeed, 'studi' doesn't exist and doesn't mean anything. Lemmatization seems to take more into account the meaning: 'study' and 'studying' exist and have a real sense. Moreover, for the second list for instance, we can see that stemming works better by reducing \"wait, \"waiting\" and \"waited\" to the same stem word \"wait\". <br> <br>\n",
    "Here, we will make the choice to work with words that have a real meaning. Therefore, we will base the follow-up of our work on **lemmatization**."
   ]
  },
  {
   "cell_type": "markdown",
   "metadata": {},
   "source": [
    "**3.6. Transform the text** <a class=\"anchor\" id=\"textTransform\"></a>\n",
    "\n",
    "In this section, we transform our text using the previous operations: normalization, removing stop words and lemmatization."
   ]
  },
  {
   "cell_type": "code",
   "execution_count": 18,
   "metadata": {},
   "outputs": [],
   "source": [
    "def preprocess(text):\n",
    "    text_prepared = normalize(text)\n",
    "    text_prepared = remove_stopwords(text_prepared)\n",
    "    text_prepared = lemmatization(text_prepared)\n",
    "    return text_prepared"
   ]
  },
  {
   "cell_type": "code",
   "execution_count": 19,
   "metadata": {},
   "outputs": [
    {
     "name": "stdout",
     "output_type": "stream",
     "text": [
      "ad sale boost time warner profit quarterly profit u medium giant timewarner jumped 76 113bn â£600m three month december 639m yearearlier firm one biggest investor google benefited sale highspeed internet connection higher advert sale timewarner said fourth quarter sale rose 2 111bn 109bn profit buoyed oneoff gain offset profit dip warner bros le user aol time warner said friday owns 8 searchengine google internet business aol mixed fortune lost 464000 subscriber fourth quarter profit lower preceding three quarter however company said aols underlying profit exceptional item rose 8 back stronger internet advertising revenue hope increase subscriber offering online service free timewarner internet customer try sign aols existing customer highspeed broadband timewarner also restate 2000 2003 result following probe u security exchange commission sec close concluding time warner fourth quarter profit slightly better analyst expectation film division saw profit slump 27 284m helped boxoffice flop alexander catwoman sharp contrast yearearlier third final film lord ring trilogy boosted result fullyear timewarner posted profit 336bn 27 2003 performance revenue grew 64 4209bn financial performance strong meeting exceeding fullyear objective greatly enhancing flexibility chairman chief executive richard parson said 2005 timewarner projecting operating earnings growth around 5 also expects higher revenue wider profit margin timewarner restate account part effort resolve inquiry aol u market regulator already offered pay 300m settle charge deal review sec company said unable estimate amount needed set aside legal reserve previously set 500m intends adjust way account deal german music publisher bertelsmanns purchase stake aol europe reported advertising revenue book sale stake aol europe loss value stake\n"
     ]
    }
   ],
   "source": [
    "print(preprocess(df[\"Text\"][0]))"
   ]
  },
  {
   "cell_type": "markdown",
   "metadata": {},
   "source": [
    "As observed, we obtained a cleaned text based on the previous operations. Now let's apply this preprocessing to the whole dataset. To do that, we will create a new column in our dataframe."
   ]
  },
  {
   "cell_type": "code",
   "execution_count": 20,
   "metadata": {},
   "outputs": [
    {
     "name": "stdout",
     "output_type": "stream",
     "text": [
      "Running execution time to build the preprocessed dataframe is: 0.0 mn 55.0 sec\n"
     ]
    },
    {
     "data": {
      "text/html": [
       "<div>\n",
       "<style scoped>\n",
       "    .dataframe tbody tr th:only-of-type {\n",
       "        vertical-align: middle;\n",
       "    }\n",
       "\n",
       "    .dataframe tbody tr th {\n",
       "        vertical-align: top;\n",
       "    }\n",
       "\n",
       "    .dataframe thead th {\n",
       "        text-align: right;\n",
       "    }\n",
       "</style>\n",
       "<table border=\"1\" class=\"dataframe\">\n",
       "  <thead>\n",
       "    <tr style=\"text-align: right;\">\n",
       "      <th></th>\n",
       "      <th>File_name</th>\n",
       "      <th>Text</th>\n",
       "      <th>Label</th>\n",
       "      <th>Label_code</th>\n",
       "      <th>Text_length</th>\n",
       "      <th>Preprocessed_text</th>\n",
       "    </tr>\n",
       "  </thead>\n",
       "  <tbody>\n",
       "    <tr>\n",
       "      <th>0</th>\n",
       "      <td>001.txt</td>\n",
       "      <td>Ad sales boost Time Warner profit\\n\\nQuarterly...</td>\n",
       "      <td>business</td>\n",
       "      <td>0</td>\n",
       "      <td>421</td>\n",
       "      <td>ad sale boost time warner profit quarterly pro...</td>\n",
       "    </tr>\n",
       "    <tr>\n",
       "      <th>1</th>\n",
       "      <td>002.txt</td>\n",
       "      <td>Dollar gains on Greenspan speech\\n\\nThe dollar...</td>\n",
       "      <td>business</td>\n",
       "      <td>0</td>\n",
       "      <td>384</td>\n",
       "      <td>dollar gain greenspan speech dollar hit highes...</td>\n",
       "    </tr>\n",
       "    <tr>\n",
       "      <th>2</th>\n",
       "      <td>003.txt</td>\n",
       "      <td>Yukos unit buyer faces loan claim\\n\\nThe owner...</td>\n",
       "      <td>business</td>\n",
       "      <td>0</td>\n",
       "      <td>264</td>\n",
       "      <td>yukos unit buyer face loan claim owner embattl...</td>\n",
       "    </tr>\n",
       "    <tr>\n",
       "      <th>3</th>\n",
       "      <td>004.txt</td>\n",
       "      <td>High fuel prices hit BA's profits\\n\\nBritish A...</td>\n",
       "      <td>business</td>\n",
       "      <td>0</td>\n",
       "      <td>406</td>\n",
       "      <td>high fuel price hit ba profit british airway b...</td>\n",
       "    </tr>\n",
       "    <tr>\n",
       "      <th>4</th>\n",
       "      <td>005.txt</td>\n",
       "      <td>Pernod takeover talk lifts Domecq\\n\\nShares in...</td>\n",
       "      <td>business</td>\n",
       "      <td>0</td>\n",
       "      <td>265</td>\n",
       "      <td>pernod takeover talk lift domecq share uk drin...</td>\n",
       "    </tr>\n",
       "  </tbody>\n",
       "</table>\n",
       "</div>"
      ],
      "text/plain": [
       "  File_name                                               Text     Label  \\\n",
       "0   001.txt  Ad sales boost Time Warner profit\\n\\nQuarterly...  business   \n",
       "1   002.txt  Dollar gains on Greenspan speech\\n\\nThe dollar...  business   \n",
       "2   003.txt  Yukos unit buyer faces loan claim\\n\\nThe owner...  business   \n",
       "3   004.txt  High fuel prices hit BA's profits\\n\\nBritish A...  business   \n",
       "4   005.txt  Pernod takeover talk lifts Domecq\\n\\nShares in...  business   \n",
       "\n",
       "   Label_code  Text_length                                  Preprocessed_text  \n",
       "0           0          421  ad sale boost time warner profit quarterly pro...  \n",
       "1           0          384  dollar gain greenspan speech dollar hit highes...  \n",
       "2           0          264  yukos unit buyer face loan claim owner embattl...  \n",
       "3           0          406  high fuel price hit ba profit british airway b...  \n",
       "4           0          265  pernod takeover talk lift domecq share uk drin...  "
      ]
     },
     "execution_count": 20,
     "metadata": {},
     "output_type": "execute_result"
    }
   ],
   "source": [
    "time1 = time.time()\n",
    "\n",
    "preprocessed_texts = []\n",
    "\n",
    "for k in range(len(df.index)):\n",
    "    preprocessed_texts.append(preprocess(df[\"Text\"][k]))\n",
    "    \n",
    "df[\"Preprocessed_text\"] = preprocessed_texts\n",
    "\n",
    "time2 = time.time() - time1\n",
    "\n",
    "print(\"Running execution time to build the preprocessed dataframe is:\", time2//60, \"mn\", round(time2%60, 0), \"sec\")\n",
    "\n",
    "df.head()"
   ]
  },
  {
   "cell_type": "markdown",
   "metadata": {},
   "source": [
    "## 4. Data split <a class=\"anchor\" id=\"datasplit\"></a>\n",
    "\n",
    "Now that our dataset is loaded in our dataframe, we have to split it into two sets: the trainset which will train our model and the testset which will test the validity of our model. <br>\n",
    "For the datasplit, we will use common repartition: 80% of the data for the train part and 20% for the test. We will use sklearn to compute this split."
   ]
  },
  {
   "cell_type": "code",
   "execution_count": 21,
   "metadata": {
    "scrolled": false
   },
   "outputs": [
    {
     "name": "stdout",
     "output_type": "stream",
     "text": [
      "1088    tory attack eu asylum move david blunkett accu...\n",
      "968     royal succession shakeup labour peer withdrawn...\n",
      "1699    lion blow world cup winner british irish lion ...\n",
      "353     asia share defy postquake gloom thailand becom...\n",
      "2023    computer grid help world computer help solve w...\n",
      "                              ...                        \n",
      "938     party warned grey vote political party cannot ...\n",
      "1593    wenger shock newcastle dip arsenal manager ars...\n",
      "996     council tax rise reasonable welsh council set ...\n",
      "2128    mobile get set visual radio growth mobile phon...\n",
      "2203    sun offer processing hour sun microsystems lau...\n",
      "Name: Preprocessed_text, Length: 1780, dtype: object\n",
      "1088    2\n",
      "968     2\n",
      "1699    3\n",
      "353     0\n",
      "2023    4\n",
      "       ..\n",
      "938     2\n",
      "1593    3\n",
      "996     2\n",
      "2128    4\n",
      "2203    4\n",
      "Name: Label_code, Length: 1780, dtype: int64\n"
     ]
    }
   ],
   "source": [
    "import sklearn\n",
    "from sklearn import model_selection\n",
    "from sklearn.model_selection import train_test_split\n",
    "\n",
    "X_train, X_test, y_train, y_test = train_test_split(df[\"Preprocessed_text\"], \n",
    "                                                    df[\"Label_code\"], \n",
    "                                                    test_size = 0.2, \n",
    "                                                    random_state = None)\n",
    "\n",
    "print(X_train)\n",
    "print(y_train)"
   ]
  },
  {
   "cell_type": "markdown",
   "metadata": {},
   "source": [
    "## 5. Ways to represent the text <a class=\"anchor\" id=\"textrepresentation\"></a>\n",
    "\n",
    "Now that we prepare our texts, we have to make a mathematical representation of them. Indeed, in that state, texts are not in a form that we can exploit in order to apply models based on mathematical and statistical tools. In this section, we will explore different ways to represent texts and pick one for the following-up."
   ]
  },
  {
   "cell_type": "markdown",
   "metadata": {},
   "source": [
    "**5.1. Word appearance** <a class=\"anchor\" id=\"wordapp\"></a>\n",
    "\n",
    "The first approach to model the data is to take into account the words appearances in the text. The corpus text is represented by a matrix. Each line corresponds to a text, and each column to a word. The value of the matrix term is:\n",
    "- one if the word appears in the text\n",
    "- zero else\n",
    "\n",
    "Let's build this matrix. On the columns, we have to discuss about the words we will take into consideration. Words that appear in the test set but not in the train set are useless to be considered. Indeed words that are not present in the training part won't have any influence in the prediction. Therefore, only words of the training corpus will be taken into consideration."
   ]
  },
  {
   "cell_type": "markdown",
   "metadata": {},
   "source": [
    "Firstly, we implement a function which returns the list of the words of the corpus train."
   ]
  },
  {
   "cell_type": "code",
   "execution_count": 93,
   "metadata": {},
   "outputs": [],
   "source": [
    "def distinct_words(corpus):\n",
    "    corpus_distinct_words = []\n",
    "    for text in corpus:\n",
    "        text_words = text.split()\n",
    "        for word in text_words:\n",
    "            if word not in corpus_distinct_words:\n",
    "                corpus_distinct_words.append(word)\n",
    "    return corpus_distinct_words"
   ]
  },
  {
   "cell_type": "code",
   "execution_count": 94,
   "metadata": {},
   "outputs": [],
   "source": [
    "distinct_words = distinct_words(X_train.tolist())"
   ]
  },
  {
   "cell_type": "code",
   "execution_count": 95,
   "metadata": {},
   "outputs": [],
   "source": [
    "for w in distinct_words:\n",
    "    if distinct_words.count(w) > 1:\n",
    "        print('List does not contain unique words')\n",
    "        break"
   ]
  },
  {
   "cell_type": "code",
   "execution_count": 66,
   "metadata": {},
   "outputs": [],
   "source": [
    "def build_appareances(corpus, distinct_words):\n",
    "    matrix = np.zeros((len(corpus), len(distinct_words)))\n",
    "    (n, m) = matrix.shape\n",
    "    for i in range(n):\n",
    "        for k in range(m):\n",
    "            if distinct_words[k] in corpus.tolist()[i]:\n",
    "                matrix[i,k] += 1\n",
    "    return matrix"
   ]
  },
  {
   "cell_type": "code",
   "execution_count": 96,
   "metadata": {},
   "outputs": [
    {
     "name": "stdout",
     "output_type": "stream",
     "text": [
      "Time to build the words appearances matrix: 28.0 mn 2.2297401428222656 sec\n"
     ]
    }
   ],
   "source": [
    "start_build_app = time.time()\n",
    "X_train_app = build_appareances(X_train, distinct_words)\n",
    "X_test_app = build_appareances(X_test, distinct_words)\n",
    "end_build_app = time.time() - start_build_app\n",
    "print(\"Time to build the words appearances matrix:\", end_build_app//60, \"mn\", end_build_app%60, \"sec\")"
   ]
  },
  {
   "cell_type": "markdown",
   "metadata": {},
   "source": [
    "**5.2. Ocurrences (Word count vectors)** <a class=\"anchor\" id=\"wcv\"></a>\n",
    "\n",
    "Another approach is to build a matrix composed of the word count vectors. The corpus is still represented by a matrix. Again, each line corresponds to a text and each column to a word. Now, the value of the term is the number of apparitions of the word in the text."
   ]
  },
  {
   "cell_type": "code",
   "execution_count": 73,
   "metadata": {},
   "outputs": [],
   "source": [
    "def build_occurences(corpus, distinct_words):\n",
    "    matrix = np.zeros((len(corpus), len(distinct_words)))\n",
    "    (n, m) = matrix.shape\n",
    "    for i in range(n):\n",
    "        for k in range(m):\n",
    "            matrix[i,k] = corpus.tolist()[i].count(distinct_words[k])\n",
    "    return matrix"
   ]
  },
  {
   "cell_type": "code",
   "execution_count": 97,
   "metadata": {},
   "outputs": [
    {
     "name": "stdout",
     "output_type": "stream",
     "text": [
      "Time to build the word count vectors matrix: 27.0 mn 34.68605375289917 sec\n"
     ]
    }
   ],
   "source": [
    "start_build_occ = time.time()\n",
    "X_train_occ = build_occurences(X_train, distinct_words)\n",
    "X_test_occ = build_occurences(X_test, distinct_words)\n",
    "end_build_occ = time.time() - start_build_occ\n",
    "print(\"Time to build the word count vectors matrix:\", end_build_occ//60, \"mn\", end_build_occ%60, \"sec\")"
   ]
  },
  {
   "cell_type": "markdown",
   "metadata": {},
   "source": [
    "**5.3. Term frequency** <a class=\"anchor\" id=\"tf\"></a>\n",
    "\n",
    "These two approaches are interesting. However, no one takes into account the texts length. Indeed, it is important to give the same importance to all the texts, independently from their length. Therefore, we will build the term frequency matrix. Each term is the frequency of the word in the text."
   ]
  },
  {
   "cell_type": "code",
   "execution_count": 77,
   "metadata": {},
   "outputs": [],
   "source": [
    "def build_tf(corpus, distinct_words):\n",
    "    matrix = np.zeros((len(corpus), len(distinct_words)))\n",
    "    (n, m) = matrix.shape\n",
    "    for i in range(n):\n",
    "        for k in range(m):\n",
    "            matrix[i,k] = (corpus.tolist()[i].count(distinct_words[k]))/len(corpus.tolist()[i])\n",
    "    return matrix"
   ]
  },
  {
   "cell_type": "code",
   "execution_count": 79,
   "metadata": {},
   "outputs": [
    {
     "name": "stdout",
     "output_type": "stream",
     "text": [
      "Time to build the term frequency matrix: 50.0 mn 27.55806589126587 sec\n"
     ]
    }
   ],
   "source": [
    "start_build_tf = time.time()\n",
    "X_train_tf = build_tf(X_train, distinct_words)\n",
    "X_test_tf = build_tf(X_test, distinct_words)\n",
    "end_build_tf = time.time() - start_build_tf\n",
    "print(\"Time to build the term frequency matrix:\", end_build_tf//60, \"mn\", end_build_tf%60, \"sec\")"
   ]
  },
  {
   "cell_type": "code",
   "execution_count": 80,
   "metadata": {
    "scrolled": true
   },
   "outputs": [
    {
     "name": "stdout",
     "output_type": "stream",
     "text": [
      "[[0.005743   0.00071788 0.0028715  ... 0.         0.         0.        ]\n",
      " [0.         0.         0.         ... 0.         0.         0.        ]\n",
      " [0.         0.         0.         ... 0.         0.         0.        ]\n",
      " ...\n",
      " [0.         0.         0.         ... 0.         0.         0.        ]\n",
      " [0.         0.         0.         ... 0.         0.         0.        ]\n",
      " [0.         0.         0.         ... 0.00064599 0.00064599 0.00064599]]\n"
     ]
    }
   ],
   "source": [
    "print(X_train_tf)"
   ]
  },
  {
   "cell_type": "markdown",
   "metadata": {},
   "source": [
    "**5.4. Tf-Idf** <a class=\"anchor\" id=\"tfidf\"></a>\n",
    "\n",
    "We will now see a more precise way to represent the text. Before, let's define the three following ratios:\n",
    "\n",
    "- TF: term frequency\n",
    "- IDF: Inverse Document Frequency (IDF) = log($\\frac{N}{n}$), where, N is the number of documents and n is the number of documents the word has appeared in. The IDF of a rare word is high, whereas the IDF of a frequent word is likely to be low. Thus having the effect of highlighting words that are distinct. \n",
    "- TF-IDF: defined as $TF\\times IDF$\n",
    "\n",
    "This score takes into account the importance of a word in the document and in the entire corpus. Indeed, this ratio increases with the number of times a word appears in the document. It is also offset by the number of documents in the corpus that contain the world. It helps to compensate that certain words appear more often than others. The term frequency score helps for the normalization: indeed some texts are longer than other ones. This term gives the same importance to all the texts, independently from their lengths. <br> <br>\n",
    "On the IDF formula, the number of documents N is divided by the number of documents that contain the word. Therefore, if a word doesn't appear in a document, the formula will lead to an error (impossible to divide by 0). That is why, we need to remove words that never appear in the corpus train. Here, we have to take the intersection between the words of the corpus train and the words of the corpus test. This operation can be implemented on Python. We will use sklearn library to build the TF-IDF matrix."
   ]
  },
  {
   "cell_type": "code",
   "execution_count": 22,
   "metadata": {},
   "outputs": [],
   "source": [
    "import sklearn\n",
    "from sklearn import feature_extraction\n",
    "from sklearn.feature_extraction import text\n",
    "from sklearn.feature_extraction.text import TfidfVectorizer"
   ]
  },
  {
   "cell_type": "markdown",
   "metadata": {},
   "source": [
    "We will now fix some parameters of the TF-IDF builder."
   ]
  },
  {
   "cell_type": "markdown",
   "metadata": {},
   "source": [
    "**Parameters choice:**\n",
    "\n",
    "- ngram_range: we take into account unigrams and bigrams. Indeed, it can be efficient to consider couple of words that appear often\n",
    "- min_df = 50: by taking this value, we ignore words that appear in less than 5% of the texts of the testing set. These words don't have influence, so we can omit them\n",
    "- max_df = 1.0: ignore words that appear in more than 100% of documents (in other terms don't ignore any other words)\n",
    "- max_features: limit to 500 words for tf_idf ratios"
   ]
  },
  {
   "cell_type": "code",
   "execution_count": 23,
   "metadata": {},
   "outputs": [],
   "source": [
    "ngram_range = (1,2)\n",
    "max_df = 1.0\n",
    "min_df = 20\n",
    "max_features = 500 "
   ]
  },
  {
   "cell_type": "code",
   "execution_count": 24,
   "metadata": {},
   "outputs": [],
   "source": [
    "tfidfVectorizer = TfidfVectorizer(ngram_range = ngram_range,\n",
    "                                  min_df = min_df,\n",
    "                                  max_df = max_df,\n",
    "                                  max_features = max_features)\n",
    "\n",
    "features_train_tfidf = tfidfVectorizer.fit_transform(X_train).toarray()\n",
    "features_test_tfidf = tfidfVectorizer.transform(X_test).toarray()\n",
    "\n",
    "labels_train = y_train.tolist()\n",
    "labels_test = y_test.tolist()"
   ]
  },
  {
   "cell_type": "code",
   "execution_count": 25,
   "metadata": {
    "scrolled": true
   },
   "outputs": [
    {
     "name": "stdout",
     "output_type": "stream",
     "text": [
      "(1780, 500)\n",
      "(445, 500)\n",
      "445\n"
     ]
    }
   ],
   "source": [
    "print(features_train_tfidf.shape)\n",
    "print(features_test_tfidf.shape)\n",
    "print(len(y_test))"
   ]
  },
  {
   "cell_type": "markdown",
   "metadata": {},
   "source": [
    "**5.5. Representation choice** <a class=\"anchor\" id=\"repchoice\"></a>\n",
    "\n",
    "As we want to take equally into account each text (independently from its length) and reduce the importance of common words (which are nearly present in all texts), we chose to pick the TF-IDF representation. As a little proof, we will compare accuracy computed on KNN algorithm between these 4 data representations. <br>\n",
    "Let's implement the KNN-algorithm (later we will use sklearn)."
   ]
  },
  {
   "cell_type": "markdown",
   "metadata": {},
   "source": [
    "**5.5.1. KNN algorithm** <a class=\"anchor\" id=\"knnalgo\"></a>\n",
    "\n",
    "We chose KNN  algorithm because it is a good one for clustering and it is a very simple and intuitive approach."
   ]
  },
  {
   "cell_type": "markdown",
   "metadata": {},
   "source": [
    "#### Reminder: Algorithm\n",
    "\n",
    "Given a query point $\\mathbf{x}_0$ and a training set $T=(\\mathbf{x}_i, y_i)$, $i = 1,..., N$:\n",
    "\n",
    "1- Compute the distance $d(\\mathbf{x}_0, \\mathbf{x}_i)$ between $\\mathbf{x}_0$ and all $\\mathbf{x}_i \\in T$.  <br>\n",
    "2- Sort all $ \\mathbf{x}_i$ using $d(\\mathbf{x}_0, \\mathbf{x}_i)$ as sorting criterion. <br>\n",
    "3- Select the first $K$ points. This points are denoted the k-neighborhood of $\\mathbf{x}_0$, $N_k(\\mathbf{x}_0)$. <br>\n",
    "4- Assign $\\hat{y}(\\mathbf{x}_0$) based on majority voting:\n"
    
    "Given a query point $\\mathbf{x}_0$ and a training set $T=(\\mathbf{x}_i, y_i)$, $i = 1,..., N$: <br>\n",
    "1- Compute the distance $d(\\mathbf{x}_0, \\mathbf{x}_i)$ between $\\mathbf{x}_0$ and all $\\mathbf{x}_i \\in T$. <br>\n",
    "2- Sort all $ \\mathbf{x}_i$ using $d(\\mathbf{x}_0, \\mathbf{x}_i)$ as sorting criterion. <br>\n",
    "3- Select the first $K$ points. This points are denoted the k-neighborhood of $\\mathbf{x}_0$, $N_k(\\mathbf{x}_0)$. <br>\n",
    "4- Assign $\\hat{y}(\\mathbf{x}_0$) based on majority voting:\n",
    "\\begin{equation}\n",
    "\\hat{y}(\\mathbf{x}_0) = \\arg\\max_{y} \\sum_{\\mathbf{x}_i \\in N_k} I(y = y_i)\n",
    "\\end{equation}"
   ]
  },
  {
   "cell_type": "code",
   "execution_count": 98,
   "metadata": {},
   "outputs": [],
   "source": [
    "class KNN:\n",
    "    def __init__(self, K):\n",
    "        self.X = []\n",
    "        self.y = []\n",
    "        self.k = K\n",
    "\n",
    "    def train(self,X,y):\n",
    "        self.X = X\n",
    "        self.y = y\n",
    "        return\n",
    "\n",
    "    def predict(self, X_new):\n",
    "        distances = []\n",
    "        for i in range(len(self.y)):\n",
    "            distances.append([self.X[i], distance.euclidean(self.X[i], X_new), self.y[i]])\n",
    "        KN = sorted(distances, key=lambda x: x[1], reverse=False)\n",
    "        KN = KN[:self.k]\n",
    "        labels = []\n",
    "        distinctLabels = []\n",
    "        occurences = []\n",
    "        for i in range(len(KN)):\n",
    "            labels.append(KN[i][2])\n",
    "        for i in range(len(labels)):\n",
    "            if labels[i] not in distinctLabels:\n",
    "                distinctLabels.append(labels[i])\n",
    "        for i in range(len(distinctLabels)):\n",
    "            occurences+=[labels.count(distinctLabels[i])]\n",
    "        return distinctLabels[occurences.index(max(occurences))]\n",
    "    \n",
    "    def predict_testset(self, testset):\n",
    "        predicted_labels = []\n",
    "        predicted_labels = np.array([self.predict(x_new) for x_new in testset])\n",
    "        return predicted_labels.astype('int64')\n",
    "\n",
    "    def accuracy(self, testset, labels_of_testset):\n",
    "        prediction = self.predict_testset(testset)\n",
    "        return np.sum(prediction == labels_of_testset)/len(testset)"
   ]
  },
  {
   "cell_type": "markdown",
   "metadata": {},
   "source": [
    "Now we prepare a dataframe which will contain results comparison:"
   ]
  },
  {
   "cell_type": "code",
   "execution_count": 129,
   "metadata": {},
   "outputs": [],
   "source": [
    "representations_comparison = {\"model\": [], \"accuracy\": [] }"
   ]
  },
  {
   "cell_type": "markdown",
   "metadata": {},
   "source": [
    "**5.5.2. Results comparison** <a class=\"anchor\" id=\"repcomp\"></a>"
   ]
  },
  {
   "cell_type": "markdown",
   "metadata": {},
   "source": [
    "For this simple comparison, we will chose an arbitrary value for K. We will describe further how to optimally chose the value of K. If K is too small, it can generate noise and indecision in boundaries. If K is too large, bias will increase, and it will be very expensive. <br>\n",
    "Here we will chose $ \\sqrt{N} $, where N is the number of samples in the training dataset, so approximately 40. <br>\n",
    "Moreover, we compute our KNN with the euclidian distance. Again, we will discuss later about the distances we can pick."
   ]
  },
  {
   "cell_type": "code",
   "execution_count": 130,
   "metadata": {},
   "outputs": [],
   "source": [
    "k = 40"
   ]
  },
  {
   "cell_type": "code",
   "execution_count": 131,
   "metadata": {},
   "outputs": [],
   "source": [
    "knn_app = KNN(k)\n",
    "knn_app.train(X_train_app, labels_train)\n",
    "knn_app.accuracy(X_test_app, labels_test)\n",
    "representations_comparison[\"model\"].append(\"Words appearance\")\n",
    "representations_comparison[\"accuracy\"].append(round(knn_app.accuracy(X_test_app, labels_test),3))"
   ]
  },
  {
   "cell_type": "code",
   "execution_count": 132,
   "metadata": {},
   "outputs": [],
   "source": [
    "knn_occ = KNN(k)\n",
    "knn_occ.train(X_train_occ, labels_train)\n",
    "knn_occ.accuracy(X_test_occ, labels_test)\n",
    "representations_comparison[\"model\"].append(\"Words count vectors\")\n",
    "representations_comparison[\"accuracy\"].append(round(knn_occ.accuracy(X_test_occ, labels_test),3))"
   ]
  },
  {
   "cell_type": "code",
   "execution_count": 133,
   "metadata": {},
   "outputs": [],
   "source": [
    "knn_tf = KNN(k)\n",
    "knn_tf.train(X_train_tf, labels_train)\n",
    "knn_tf.accuracy(X_test_tf, labels_test)\n",
    "representations_comparison[\"model\"].append(\"Term frequency\")\n",
    "representations_comparison[\"accuracy\"].append(round(knn_tf.accuracy(X_test_tf, labels_test),3))"
   ]
  },
  {
   "cell_type": "code",
   "execution_count": 134,
   "metadata": {},
   "outputs": [],
   "source": [
    "knn_tfidf = KNN(k)\n",
    "knn_tfidf.train(features_train_tfidf, labels_train)\n",
    "knn_tfidf.accuracy(features_test_tfidf, labels_test)\n",
    "representations_comparison[\"model\"].append(\"TF-IDF\")\n",
    "representations_comparison[\"accuracy\"].append(round(knn_tfidf.accuracy(features_test_tfidf, labels_test),3))"
   ]
  },
  {
   "cell_type": "code",
   "execution_count": 135,
   "metadata": {
    "scrolled": true
   },
   "outputs": [
    {
     "data": {
      "text/html": [
       "<div>\n",
       "<style scoped>\n",
       "    .dataframe tbody tr th:only-of-type {\n",
       "        vertical-align: middle;\n",
       "    }\n",
       "\n",
       "    .dataframe tbody tr th {\n",
       "        vertical-align: top;\n",
       "    }\n",
       "\n",
       "    .dataframe thead th {\n",
       "        text-align: right;\n",
       "    }\n",
       "</style>\n",
       "<table border=\"1\" class=\"dataframe\">\n",
       "  <thead>\n",
       "    <tr style=\"text-align: right;\">\n",
       "      <th></th>\n",
       "      <th>model</th>\n",
       "      <th>accuracy</th>\n",
       "    </tr>\n",
       "  </thead>\n",
       "  <tbody>\n",
       "    <tr>\n",
       "      <th>0</th>\n",
       "      <td>Words appearance</td>\n",
       "      <td>0.515</td>\n",
       "    </tr>\n",
       "    <tr>\n",
       "      <th>1</th>\n",
       "      <td>Words count vectors</td>\n",
       "      <td>0.652</td>\n",
       "    </tr>\n",
       "    <tr>\n",
       "      <th>2</th>\n",
       "      <td>Term frequency</td>\n",
       "      <td>0.778</td>\n",
       "    </tr>\n",
       "    <tr>\n",
       "      <th>3</th>\n",
       "      <td>TF-IDF</td>\n",
       "      <td>0.930</td>\n",
       "    </tr>\n",
       "  </tbody>\n",
       "</table>\n",
       "</div>"
      ],
      "text/plain": [
       "                 model  accuracy\n",
       "0     Words appearance     0.515\n",
       "1  Words count vectors     0.652\n",
       "2       Term frequency     0.778\n",
       "3               TF-IDF     0.930"
      ]
     },
     "execution_count": 135,
     "metadata": {},
     "output_type": "execute_result"
    }
   ],
   "source": [
    "representations_comparison_df = pd.DataFrame(data = representations_comparison)\n",
    "representations_comparison_df.head()"
   ]
  },
  {
   "cell_type": "markdown",
   "metadata": {},
   "source": [
    "As expected, the more precise is the representation, the bigger is the accuracy. \n",
    "\n",
    "- Words appearance is a first approach, but not enough precise because it doesn't give any weights to the words present in the text\n",
    "- Word Count Vectors works better. However, it gives more important to long texts than the shorter ones\n",
    "- Term Frequency is a better approach than the two previous ones: however, the IDF term that appears in the TF-IDF gives even more precision to the data representation.\n",
    "\n",
    "This short analysis justifies our choice: the **TF-IDF representation**."
   ]
  },
  {
   "cell_type": "markdown",
   "metadata": {},
   "source": [
    "We can now take for X_train and X_test the tf-idf representations:"
   ]
  },
  {
   "cell_type": "code",
   "execution_count": 28,
   "metadata": {},
   "outputs": [],
   "source": [
    "X_train = features_train_tfidf\n",
    "X_test = features_test_tfidf"
   ]
  },
  {
   "cell_type": "markdown",
   "metadata": {},
   "source": [
    "## 6. Machine Learning models <a class=\"anchor\" id=\"mlmodels\"></a>"
   ]
  },
  {
   "cell_type": "markdown",
   "metadata": {},
   "source": [
    "Now that we mathematically represented our data, we have to build a Machine Learning model that will predict new values for our text classifier. In this part, we are going to implement and test several machine learning models. We will compare their performances. <br>\n",
    "Let's firstly create a dictionnary in order to build a dataframe which will contain the performances results for our different models."
   ]
  },
  {
   "cell_type": "code",
   "execution_count": 26,
   "metadata": {},
   "outputs": [
    {
     "data": {
      "text/plain": [
       "{'Model': [], 'Accuracy': []}"
      ]
     },
     "execution_count": 26,
     "metadata": {},
     "output_type": "execute_result"
    }
   ],
   "source": [
    "models_results = {\"Model\": [], \"Accuracy\": []}\n",
    "models_results"
   ]
  },
  {
   "cell_type": "markdown",
   "metadata": {},
   "source": [
    "**6.1 Logistic regression** <a class=\"anchor\" id=\"logreg\"></a>"
   ]
  },
  {
   "cell_type": "markdown",
   "metadata": {},
   "source": [
    "Logistic regression is one of the classical approach in order to make classification in supervised learning. We could use linear regression. However, when the number of class K is greater than 3 (K $\\ge$ 3), there is a problem with linear regression. Indeed classes can be masked by others (from Elements of statistical Learning). <br>\n",
    "Let's firstly implement the logistic regression model from sklearn and see what are the model parameters."
   ]
  },
  {
   "cell_type": "markdown",
   "metadata": {},
   "source": [
    "**6.1.1. Model parameters** <a class=\"anchor\" id=\"params1\"></a>"
   ]
  },
  {
   "cell_type": "code",
   "execution_count": 27,
   "metadata": {},
   "outputs": [],
   "source": [
    "from sklearn import linear_model\n",
    "from sklearn.linear_model import LogisticRegression"
   ]
  },
  {
   "cell_type": "code",
   "execution_count": 28,
   "metadata": {},
   "outputs": [],
   "source": [
    "logreg = LogisticRegression()"
   ]
  },
  {
   "cell_type": "code",
   "execution_count": 29,
   "metadata": {},
   "outputs": [
    {
     "data": {
      "text/plain": [
       "{'C': 1.0,\n",
       " 'class_weight': None,\n",
       " 'dual': False,\n",
       " 'fit_intercept': True,\n",
       " 'intercept_scaling': 1,\n",
       " 'l1_ratio': None,\n",
       " 'max_iter': 100,\n",
       " 'multi_class': 'auto',\n",
       " 'n_jobs': None,\n",
       " 'penalty': 'l2',\n",
       " 'random_state': None,\n",
       " 'solver': 'lbfgs',\n",
       " 'tol': 0.0001,\n",
       " 'verbose': 0,\n",
       " 'warm_start': False}"
      ]
     },
     "execution_count": 29,
     "metadata": {},
     "output_type": "execute_result"
    }
   ],
   "source": [
    "logreg.get_params()"
   ]
  },
  {
   "cell_type": "markdown",
   "metadata": {},
   "source": [
    "These model parameters have to be optimized. We will use cross validation in order to find the optimal ones."
   ]
  },
  {
   "cell_type": "markdown",
   "metadata": {},
   "source": [
    "**6.1.2. Grid search cross validation** <a class=\"anchor\" id=\"cv1\"></a>\n",
    "\n",
    "We will focus on these following parameters: \n",
    "- C: inverse of regularization strength. Smaller values specify stronger regularization\n",
    "- class_weight: we will use the value 'balanced'. Indeed, our dataset isn't perfectly well balanced between labels. The value 'balanced' will use the values of y to automatically adjust weights inversely proportional to class frequencies in the input data\n",
    "- solver: algorithm to use in the optimization problem between {‘newton-cg’, ‘lbfgs’, ‘liblinear’, ‘sag’, ‘saga’}. However for multiclass problems, only ‘newton-cg’, ‘sag’, ‘saga’ and ‘lbfgs’ handle multinomial loss\n",
    "- penalty: the ‘newton-cg’, ‘sag’ and ‘lbfgs’ solvers support only l2 penalties. That's why we will pick l2 penalty"
   ]
  },
  {
   "cell_type": "code",
   "execution_count": 30,
   "metadata": {
    "scrolled": true
   },
   "outputs": [
    {
     "data": {
      "text/plain": [
       "{'C': [0.1,\n",
       "  0.2,\n",
       "  0.30000000000000004,\n",
       "  0.4,\n",
       "  0.5,\n",
       "  0.6,\n",
       "  0.7000000000000001,\n",
       "  0.8,\n",
       "  0.9,\n",
       "  1.0],\n",
       " 'class_weight': ['balanced'],\n",
       " 'solver': ['newton-cg', 'sag', 'saga', 'lbfgs'],\n",
       " 'penalty': ['l2']}"
      ]
     },
     "execution_count": 30,
     "metadata": {},
     "output_type": "execute_result"
    }
   ],
   "source": [
    "{'C': [x for x in np.linspace(0.1, 1, 10)],\n",
    " 'class_weight': ['balanced'],\n",
    " 'solver': ['newton-cg', 'sag', 'saga', 'lbfgs'],\n",
    "  'penalty': ['l2']\n",
    "}"
   ]
  },
  {
   "cell_type": "markdown",
   "metadata": {},
   "source": [
    "We will compute an exhaustive grid search parameters optimization. We build a grid containing different parameters values. The grid search cross validation will pick the optimal values for this model."
   ]
  },
  {
   "cell_type": "code",
   "execution_count": 31,
   "metadata": {},
   "outputs": [],
   "source": [
    "param_grid = [{'C': [x for x in np.linspace(0.1,1, 10)],\n",
    "               'class_weight': ['balanced'],\n",
    "               'solver': ['newton-cg', 'sag', 'saga', 'lbfgs'],\n",
    "               'penalty': ['l2']\n",
    "              }]"
   ]
  },
  {
   "cell_type": "code",
   "execution_count": 32,
   "metadata": {},
   "outputs": [],
   "source": [
    "from sklearn import model_selection\n",
    "from sklearn.model_selection import GridSearchCV"
   ]
  },
  {
   "cell_type": "code",
   "execution_count": 33,
   "metadata": {},
   "outputs": [
    {
     "data": {
      "text/plain": [
       "GridSearchCV(cv=None, error_score=nan,\n",
       "             estimator=LogisticRegression(C=1.0, class_weight=None, dual=False,\n",
       "                                          fit_intercept=True,\n",
       "                                          intercept_scaling=1, l1_ratio=None,\n",
       "                                          max_iter=100, multi_class='auto',\n",
       "                                          n_jobs=None, penalty='l2',\n",
       "                                          random_state=None, solver='lbfgs',\n",
       "                                          tol=0.0001, verbose=0,\n",
       "                                          warm_start=False),\n",
       "             iid='deprecated', n_jobs=None,\n",
       "             param_grid=[{'C': [0.1, 0.2, 0.30000000000000004, 0.4, 0.5, 0.6,\n",
       "                                0.7000000000000001, 0.8, 0.9, 1.0],\n",
       "                          'class_weight': ['balanced'], 'penalty': ['l2'],\n",
       "                          'solver': ['newton-cg', 'sag', 'saga', 'lbfgs']}],\n",
       "             pre_dispatch='2*n_jobs', refit=True, return_train_score=False,\n",
       "             scoring=None, verbose=0)"
      ]
     },
     "execution_count": 33,
     "metadata": {},
     "output_type": "execute_result"
    }
   ],
   "source": [
    "clf = GridSearchCV(estimator = logreg,param_grid = param_grid)\n",
    "clf.fit(X_train, labels_train)"
   ]
  },
  {
   "cell_type": "markdown",
   "metadata": {},
   "source": [
    "Now we can print the best parameters:"
   ]
  },
  {
   "cell_type": "code",
   "execution_count": 34,
   "metadata": {},
   "outputs": [
    {
     "name": "stdout",
     "output_type": "stream",
     "text": [
      "Best parameters are: {'C': 0.8, 'class_weight': 'balanced', 'penalty': 'l2', 'solver': 'newton-cg'}\n"
     ]
    }
   ],
   "source": [
    "print(\"Best parameters are:\", clf.best_params_)"
   ]
  },
  {
   "cell_type": "markdown",
   "metadata": {},
   "source": [
    "We will apply these parameters in order to compute our logistic regression."
   ]
  },
  {
   "cell_type": "markdown",
   "metadata": {},
   "source": [
    "**6.1.3. Model implementation** <a class=\"anchor\" id=\"implementation1\"></a>"
   ]
  },
  {
   "cell_type": "markdown",
   "metadata": {},
   "source": [
    "We implement the logistic regression model with parameters we found before."
   ]
  },
  {
   "cell_type": "code",
   "execution_count": 35,
   "metadata": {},
   "outputs": [
    {
     "data": {
      "text/plain": [
       "LogisticRegression(C=0.8, class_weight='balanced', dual=False,\n",
       "                   fit_intercept=True, intercept_scaling=1, l1_ratio=None,\n",
       "                   max_iter=100, multi_class='auto', n_jobs=None, penalty='l2',\n",
       "                   random_state=None, solver='newton-cg', tol=0.0001, verbose=0,\n",
       "                   warm_start=False)"
      ]
     },
     "execution_count": 35,
     "metadata": {},
     "output_type": "execute_result"
    }
   ],
   "source": [
    "op_logreg = clf.best_estimator_\n",
    "op_logreg"
   ]
  },
  {
   "cell_type": "markdown",
   "metadata": {},
   "source": [
    "Training:"
   ]
  },
  {
   "cell_type": "code",
   "execution_count": 36,
   "metadata": {},
   "outputs": [
    {
     "data": {
      "text/plain": [
       "LogisticRegression(C=0.8, class_weight='balanced', dual=False,\n",
       "                   fit_intercept=True, intercept_scaling=1, l1_ratio=None,\n",
       "                   max_iter=100, multi_class='auto', n_jobs=None, penalty='l2',\n",
       "                   random_state=None, solver='newton-cg', tol=0.0001, verbose=0,\n",
       "                   warm_start=False)"
      ]
     },
     "execution_count": 36,
     "metadata": {},
     "output_type": "execute_result"
    }
   ],
   "source": [
    "op_logreg.fit(X_train, labels_train)"
   ]
  },
  {
   "cell_type": "markdown",
   "metadata": {},
   "source": [
    "Prediction:"
   ]
  },
  {
   "cell_type": "code",
   "execution_count": 37,
   "metadata": {},
   "outputs": [],
   "source": [
    "op_logreg_predict = op_logreg.predict(X_test)"
   ]
  },
  {
   "cell_type": "markdown",
   "metadata": {},
   "source": [
    "**6.1.4. Performance analysis** <a class=\"anchor\" id=\"performance1\"></a>"
   ]
  },
  {
   "cell_type": "markdown",
   "metadata": {},
   "source": [
    "**Test accuracy:**"
   ]
  },
  {
   "cell_type": "code",
   "execution_count": 38,
   "metadata": {},
   "outputs": [
    {
     "name": "stdout",
     "output_type": "stream",
     "text": [
      "Logistic regression testing accuracy is: 0.955\n"
     ]
    }
   ],
   "source": [
    "print(\"Logistic regression testing accuracy is:\", round(np.mean(op_logreg_predict == labels_test), 3))"
   ]
  },
  {
   "cell_type": "markdown",
   "metadata": {},
   "source": [
    "**Train accuracy:**"
   ]
  },
  {
   "cell_type": "code",
   "execution_count": 39,
   "metadata": {
    "scrolled": false
   },
   "outputs": [
    {
     "name": "stdout",
     "output_type": "stream",
     "text": [
      "Logistic regression training accuracy is: 0.984\n"
     ]
    }
   ],
   "source": [
    "print(\"Logistic regression training accuracy is:\", round(np.mean(op_logreg.predict(X_train) == labels_train), 3))"
   ]
  },
  {
   "cell_type": "markdown",
   "metadata": {},
   "source": [
    "We can't really say that training accuracy is very superior to the testing one: it doesn't seem to be **overfit** there."
   ]
  },
  {
   "cell_type": "markdown",
   "metadata": {},
   "source": [
    "Now let's compute the **confusion matrix**."
   ]
  },
  {
   "cell_type": "code",
   "execution_count": 40,
   "metadata": {},
   "outputs": [],
   "source": [
    "from sklearn import metrics\n",
    "from sklearn.metrics import confusion_matrix\n",
    "from sklearn.metrics import plot_confusion_matrix"
   ]
  },
  {
   "cell_type": "code",
   "execution_count": 27,
   "metadata": {},
   "outputs": [],
   "source": [
    "labels_names = [\"business\",\n",
    "                \"entertainment\",\n",
    "                \"politics\",\n",
    "                \"sport\",\n",
    "                \"tech\"]"
   ]
  },
  {
   "cell_type": "code",
   "execution_count": 42,
   "metadata": {
    "scrolled": false
   },
   "outputs": [
    {
     "data": {
      "image/png": "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\n",
      "text/plain": [
       "<Figure size 1296x720 with 2 Axes>"
      ]
     },
     "metadata": {
      "needs_background": "light"
     },
     "output_type": "display_data"
    }
   ],
   "source": [
    "fig, ax = plt.subplots(figsize=(18, 10))\n",
    "plot_confusion_matrix(op_logreg, X_test, labels_test, values_format = 'd', display_labels = labels_names,\n",
    "                      cmap = plt.cm.Blues,\n",
    "                      ax = ax)\n",
    "plt.title('Confusion Matrix')\n",
    "plt.show()\n"
   ]
  },
  {
   "cell_type": "markdown",
   "metadata": {},
   "source": [
    "Using classification report from sklearn, we can also show interesting results as **F1-score, recall, and so on**."
   ]
  },
  {
   "cell_type": "code",
   "execution_count": 43,
   "metadata": {
    "scrolled": false
   },
   "outputs": [
    {
     "name": "stdout",
     "output_type": "stream",
     "text": [
      "               precision    recall  f1-score   support\n",
      "\n",
      "     business       0.95      0.95      0.95       103\n",
      "entertainment       0.96      0.92      0.94        75\n",
      "     politics       0.92      0.96      0.94        82\n",
      "        sport       0.97      0.99      0.98       104\n",
      "         tech       0.97      0.94      0.96        81\n",
      "\n",
      "     accuracy                           0.96       445\n",
      "    macro avg       0.95      0.95      0.95       445\n",
      " weighted avg       0.96      0.96      0.96       445\n",
      "\n"
     ]
    }
   ],
   "source": [
    "from sklearn.metrics import classification_report\n",
    "\n",
    "print(classification_report(labels_test, op_logreg_predict, target_names = labels_names))"
   ]
  },
  {
   "cell_type": "markdown",
   "metadata": {},
   "source": [
    "The model seems to predict a little bit better sport and tech texts. Regarding to our data visualization, there is no link between good prediction and labels repartition or texts length. It means that our way to represent texts did a good job in order to try to give the same importance to each label and each text independently from its length."
   ]
  },
  {
   "cell_type": "markdown",
   "metadata": {},
   "source": [
    "Now we will compute the area under **ROC (Receiver operating characteristic) curve**, also called **AUC**. As we are in multi class problem, we have two possibilities:\n",
    "- one-vs-one algorithm: plot the average AUC of all possible pairwise combinations of classes\n",
    "- one-vs-rest: plot ROC curves for each class versus the others ones."
   ]
  },
  {
   "cell_type": "markdown",
   "metadata": {},
   "source": [
    "As ROC curve makes sense only for binary problem classes, we can't apply ROC tools or plot ROC curves directly to current predictions. We have to encode our predictions in labels in order to transform them in a data that can be binary interpreted. Therefore we will use **label_binarize** tool from sklearn. Let's observe the result of label_binarize on test labels:"
   ]
  },
  {
   "cell_type": "code",
   "execution_count": 44,
   "metadata": {
    "scrolled": true
   },
   "outputs": [
    {
     "name": "stdout",
     "output_type": "stream",
     "text": [
      "[1, 0, 0, 0, 2, 0, 4, 0, 2, 3]\n",
      "[[0 1 0 0 0]\n",
      " [1 0 0 0 0]\n",
      " [1 0 0 0 0]\n",
      " [1 0 0 0 0]\n",
      " [0 0 1 0 0]\n",
      " [1 0 0 0 0]\n",
      " [0 0 0 0 1]\n",
      " [1 0 0 0 0]\n",
      " [0 0 1 0 0]\n",
      " [0 0 0 1 0]]\n"
     ]
    }
   ],
   "source": [
    "from sklearn import preprocessing\n",
    "from sklearn.preprocessing import label_binarize\n",
    "print(labels_test[0:10])\n",
    "print(label_binarize(labels_test, classes = [0, 1, 2, 3, 4])[0:10])"
   ]
  },
  {
   "cell_type": "markdown",
   "metadata": {},
   "source": [
    "We can observ the result of binarize operation: information concerning the 5 labels is conserved but transformed in binary data with only 0 or 1 as possible values. <br> <br>\n",
    "Now let's compute the one-vs-one algorithm."
   ]
  },
  {
   "cell_type": "markdown",
   "metadata": {},
   "source": [
    "**One-vs-One**\n",
    "\n",
    "We will use sklearn to do that."
   ]
  },
  {
   "cell_type": "code",
   "execution_count": 45,
   "metadata": {},
   "outputs": [
    {
     "name": "stdout",
     "output_type": "stream",
     "text": [
      "Average AUC of all possible pairwise is: 0.971\n"
     ]
    }
   ],
   "source": [
    "classes = [0, 1, 2, 3, 4]\n",
    "\n",
    "from sklearn.metrics import roc_auc_score\n",
    "print('Average AUC of all possible pairwise is:',\n",
    "      round(roc_auc_score(label_binarize(labels_test, classes = classes),\n",
    "                          label_binarize(op_logreg_predict, classes = classes), \n",
    "                          multi_class = 'ovo', \n",
    "                          average = 'macro', \n",
    "                          labels = labels_names),\n",
    "            3))"
   ]
  },
  {
   "cell_type": "markdown",
   "metadata": {},
   "source": [
    "This value is closer to 1 than 0, which shows the precision of our prediction."
   ]
  },
  {
   "cell_type": "markdown",
   "metadata": {},
   "source": [
    "**One-vs-Rest**\n",
    "\n",
    "Now we compute the one-vs-rest algorithm. We will plot the ROC curve for each class versus the other ones. Again we will user sklearn metrics to compute that."
   ]
  },
  {
   "cell_type": "code",
   "execution_count": 46,
   "metadata": {
    "scrolled": false
   },
   "outputs": [
    {
     "data": {
      "text/plain": [
       "<matplotlib.legend.Legend at 0x241ba108bc8>"
      ]
     },
     "execution_count": 46,
     "metadata": {},
     "output_type": "execute_result"
    },
    {
     "data": {
      "image/png": "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\n",
      "text/plain": [
       "<Figure size 1152x648 with 1 Axes>"
      ]
     },
     "metadata": {
      "needs_background": "light"
     },
     "output_type": "display_data"
    }
   ],
   "source": [
    "from sklearn.metrics import roc_curve\n",
    "from sklearn.metrics import auc\n",
    "\n",
    "classes = [0, 1, 2, 3, 4]\n",
    "fpr, tpr, roc_auc = [0] * len(classes), [0] * len(classes), [0] * len(classes)\n",
    "for i in range(len(classes)):\n",
    "    fpr[i], tpr[i], _ = roc_curve(label_binarize(labels_test, classes = classes)[:,i],\n",
    "                                  label_binarize(op_logreg_predict, classes = classes)[:,i])\n",
    "    roc_auc[i] = auc(fpr[i], tpr[i])\n",
    "\n",
    "colors = ['blue', 'green', 'red', 'yellow', 'black']\n",
    "\n",
    "fig, ax = plt.subplots(figsize=(16, 9))\n",
    "for i in range(len(colors)):\n",
    "    plt.plot(fpr[i], tpr[i], color = colors[i],\n",
    "             label = 'ROC curve of class {0} (area = {1:0.2f})'.format(labels_names[i], roc_auc[i]))\n",
    "plt.legend()"
   ]
  },
  {
   "cell_type": "markdown",
   "metadata": {},
   "source": [
    "As observed, all class have a ROC curve that tends to an ideal one. Each label seems to be well predicted, in particular for sport."
   ]
  },
  {
   "cell_type": "markdown",
   "metadata": {},
   "source": [
    "**Conclusion**\n",
    "\n",
    "As far as we are in a multi class problem, the previous analysis elements are not that much relevant. Indeed, these elements are just useful in order to compare performances for each class but not in general. The most relevant information are testing and training accuracy."
   ]
  },
  {
   "cell_type": "markdown",
   "metadata": {},
   "source": [
    "We add to the dictionnary the accuracy:"
   ]
  },
  {
   "cell_type": "code",
   "execution_count": 47,
   "metadata": {},
   "outputs": [
    {
     "data": {
      "text/plain": [
       "{'Model': ['Logistic Regression'], 'Accuracy': [0.955]}"
      ]
     },
     "execution_count": 47,
     "metadata": {},
     "output_type": "execute_result"
    }
   ],
   "source": [
    "models_results[\"Model\"].append('Logistic Regression')\n",
    "models_results[\"Accuracy\"].append(round(np.mean(op_logreg.predict(X_test) == labels_test), 3))\n",
    "models_results"
   ]
  },
  {
   "cell_type": "markdown",
   "metadata": {},
   "source": [
    "**6.2. KNN** <a class=\"anchor\" id=\"knn\"></a>"
   ]
  },
  {
   "cell_type": "markdown",
   "metadata": {},
   "source": [
    "We will now implement the KNN algorithm. Before, we implemented our own version. In this section we will use the sklearn library. <br>\n",
    "KNN is a good algorithm for classification. It is a very intuitive and classical method which is based on nearest neighbors principle. Let's firstly display the model parameters."
   ]
  },
  {
   "cell_type": "markdown",
   "metadata": {},
   "source": [
    "**6.2.1. Model parameters** <a class=\"anchor\" id=\"params2\"></a>"
   ]
  },
  {
   "cell_type": "code",
   "execution_count": 48,
   "metadata": {
    "scrolled": true
   },
   "outputs": [
    {
     "data": {
      "text/plain": [
       "KNeighborsClassifier(algorithm='auto', leaf_size=30, metric='minkowski',\n",
       "                     metric_params=None, n_jobs=None, n_neighbors=5, p=2,\n",
       "                     weights='uniform')"
      ]
     },
     "execution_count": 48,
     "metadata": {},
     "output_type": "execute_result"
    }
   ],
   "source": [
    "from sklearn import neighbors\n",
    "from sklearn.neighbors import KNeighborsClassifier\n",
    "knn = KNeighborsClassifier()\n",
    "knn"
   ]
  },
  {
   "cell_type": "markdown",
   "metadata": {},
   "source": [
    "As before we will optimize these parameters. We fill focus only on K, the number of neighbors used by default for neighbors queries. Indeed by experience, it takes too long times to optimize other parameters. Moreover, for a KNN, the value of K is essential, as it is also shown in the KNN version that I have implemented before. Let's compute a grid search cross validation in order to pick the best parameter."
   ]
  },
  {
   "cell_type": "markdown",
   "metadata": {},
   "source": [
    "**6.2.2. Grid search cross validation** <a class=\"anchor\" id=\"cv2\"></a>\n",
    "\n",
    "Let's build our grid:"
   ]
  },
  {
   "cell_type": "code",
   "execution_count": 50,
   "metadata": {},
   "outputs": [],
   "source": [
    "param_grid = {'n_neighbors': [int(x) for x in np.linspace(5, 100, 96)]}"
   ]
  },
  {
   "cell_type": "code",
   "execution_count": 51,
   "metadata": {},
   "outputs": [
    {
     "data": {
      "text/plain": [
       "GridSearchCV(cv=None, error_score=nan,\n",
       "             estimator=KNeighborsClassifier(algorithm='auto', leaf_size=30,\n",
       "                                            metric='minkowski',\n",
       "                                            metric_params=None, n_jobs=None,\n",
       "                                            n_neighbors=5, p=2,\n",
       "                                            weights='uniform'),\n",
       "             iid='deprecated', n_jobs=None,\n",
       "             param_grid={'n_neighbors': [5, 6, 7, 8, 9, 10, 11, 12, 13, 14, 15,\n",
       "                                         16, 17, 18, 19, 20, 21, 22, 23, 24, 25,\n",
       "                                         26, 27, 28, 29, 30, 31, 32, 33, 34, ...]},\n",
       "             pre_dispatch='2*n_jobs', refit=True, return_train_score=False,\n",
       "             scoring=None, verbose=0)"
      ]
     },
     "execution_count": 51,
     "metadata": {},
     "output_type": "execute_result"
    }
   ],
   "source": [
    "clf = GridSearchCV(estimator = knn,param_grid = param_grid)\n",
    "clf.fit(X_train, labels_train)"
   ]
  },
  {
   "cell_type": "code",
   "execution_count": 52,
   "metadata": {},
   "outputs": [
    {
     "name": "stdout",
     "output_type": "stream",
     "text": [
      "Best parameters for KNN are: {'n_neighbors': 38}\n"
     ]
    }
   ],
   "source": [
    "print('Best parameters for KNN are:', clf.best_params_)"
   ]
  },
  {
   "cell_type": "markdown",
   "metadata": {},
   "source": [
    "**6.2.3 Model implementation** <a class=\"anchor\" id=\"implementation2\"></a>"
   ]
  },
  {
   "cell_type": "code",
   "execution_count": 53,
   "metadata": {},
   "outputs": [
    {
     "data": {
      "text/plain": [
       "KNeighborsClassifier(algorithm='auto', leaf_size=30, metric='minkowski',\n",
       "                     metric_params=None, n_jobs=None, n_neighbors=38, p=2,\n",
       "                     weights='uniform')"
      ]
     },
     "execution_count": 53,
     "metadata": {},
     "output_type": "execute_result"
    }
   ],
   "source": [
    "op_knn = clf.best_estimator_\n",
    "op_knn"
   ]
  },
  {
   "cell_type": "markdown",
   "metadata": {},
   "source": [
    "Training:"
   ]
  },
  {
   "cell_type": "code",
   "execution_count": 54,
   "metadata": {},
   "outputs": [
    {
     "data": {
      "text/plain": [
       "KNeighborsClassifier(algorithm='auto', leaf_size=30, metric='minkowski',\n",
       "                     metric_params=None, n_jobs=None, n_neighbors=38, p=2,\n",
       "                     weights='uniform')"
      ]
     },
     "execution_count": 54,
     "metadata": {},
     "output_type": "execute_result"
    }
   ],
   "source": [
    "op_knn.fit(X_train, labels_train)"
   ]
  },
  {
   "cell_type": "code",
   "execution_count": 56,
   "metadata": {},
   "outputs": [],
   "source": [
    "op_knn_predict = op_knn.predict(X_test)"
   ]
  },
  {
   "cell_type": "markdown",
   "metadata": {},
   "source": [
    "**6.2.4. Performance analysis** <a class=\"anchor\" id=\"performance2\"></a>"
   ]
  },
  {
   "cell_type": "markdown",
   "metadata": {},
   "source": [
    "**Testing accuracy:**"
   ]
  },
  {
   "cell_type": "code",
   "execution_count": 57,
   "metadata": {},
   "outputs": [
    {
     "name": "stdout",
     "output_type": "stream",
     "text": [
      "KNN testing accuracy: 0.917\n"
     ]
    }
   ],
   "source": [
    "print('KNN testing accuracy:', round(np.mean(op_knn_predict == labels_test), 3))"
   ]
  },
  {
   "cell_type": "markdown",
   "metadata": {},
   "source": [
    "**Training accuracy:**"
   ]
  },
  {
   "cell_type": "code",
   "execution_count": 58,
   "metadata": {},
   "outputs": [
    {
     "name": "stdout",
     "output_type": "stream",
     "text": [
      "KNN training accuracy: 0.935\n"
     ]
    }
   ],
   "source": [
    "print('KNN training accuracy:', round(np.mean(op_knn.predict(X_train) == labels_train), 3))"
   ]
  },
  {
   "cell_type": "markdown",
   "metadata": {},
   "source": [
    "As we can see, training accuracy and testing accuracy are really close, which means that again there is no **overfitting**. We said before that all metrics are not really interesting because we are in a multiclass problem. However, we will display F1-score, recall, precision and confusion matrix:"
   ]
  },
  {
   "cell_type": "code",
   "execution_count": 59,
   "metadata": {},
   "outputs": [
    {
     "data": {
      "image/png": "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\n",
      "text/plain": [
       "<Figure size 1296x720 with 2 Axes>"
      ]
     },
     "metadata": {
      "needs_background": "light"
     },
     "output_type": "display_data"
    }
   ],
   "source": [
    "fig, ax = plt.subplots(figsize=(18, 10))\n",
    "plot_confusion_matrix(op_knn, X_test, labels_test, values_format = 'd', display_labels = labels_names,\n",
    "                      cmap = plt.cm.Blues,\n",
    "                      ax = ax)\n",
    "plt.title('Confusion Matrix')\n",
    "plt.show()"
   ]
  },
  {
   "cell_type": "code",
   "execution_count": 60,
   "metadata": {},
   "outputs": [
    {
     "name": "stdout",
     "output_type": "stream",
     "text": [
      "               precision    recall  f1-score   support\n",
      "\n",
      "     business       0.90      0.93      0.91       103\n",
      "entertainment       0.92      0.87      0.89        75\n",
      "     politics       0.92      0.94      0.93        82\n",
      "        sport       0.91      0.97      0.94       104\n",
      "         tech       0.96      0.85      0.90        81\n",
      "\n",
      "     accuracy                           0.92       445\n",
      "    macro avg       0.92      0.91      0.91       445\n",
      " weighted avg       0.92      0.92      0.92       445\n",
      "\n"
     ]
    }
   ],
   "source": [
    "print(classification_report(labels_test, op_knn_predict, target_names = labels_names))"
   ]
  },
  {
   "cell_type": "markdown",
   "metadata": {},
   "source": [
    "Again, the F1-score and matrix confusion show that the prediction works the better on sport."
   ]
  },
  {
   "cell_type": "markdown",
   "metadata": {},
   "source": [
    "We add accuracy to the dictionnary:"
   ]
  },
  {
   "cell_type": "code",
   "execution_count": 61,
   "metadata": {},
   "outputs": [
    {
     "data": {
      "text/plain": [
       "{'Model': ['Logistic Regression', 'KNN'], 'Accuracy': [0.955, 0.917]}"
      ]
     },
     "execution_count": 61,
     "metadata": {},
     "output_type": "execute_result"
    }
   ],
   "source": [
    "models_results[\"Model\"].append('KNN')\n",
    "models_results[\"Accuracy\"].append(round(np.mean(op_knn.predict(X_test) == labels_test), 3))\n",
    "models_results"
   ]
  },
  {
   "cell_type": "markdown",
   "metadata": {},
   "source": [
    "**6.3. Naive Bayes Classifier** <a class=\"anchor\" id=\"nbClassifier\"></a>"
   ]
  },
  {
   "cell_type": "markdown",
   "metadata": {},
   "source": [
    "We will now implement the Naive Bayes classifier, which is again a classical method in multi class problem."
   ]
  },
  {
   "cell_type": "markdown",
   "metadata": {},
   "source": [
    "**6.3.1. Model parameters** <a class=\"anchor\" id=\"params3\"></a>"
   ]
  },
  {
   "cell_type": "code",
   "execution_count": 62,
   "metadata": {},
   "outputs": [
    {
     "data": {
      "text/plain": [
       "MultinomialNB(alpha=1.0, class_prior=None, fit_prior=True)"
      ]
     },
     "execution_count": 62,
     "metadata": {},
     "output_type": "execute_result"
    }
   ],
   "source": [
    "from sklearn import naive_bayes\n",
    "from sklearn.naive_bayes import MultinomialNB\n",
    "\n",
    "multinomialNB = MultinomialNB()\n",
    "multinomialNB"
   ]
  },
  {
   "cell_type": "markdown",
   "metadata": {},
   "source": [
    "Here, we have three parameters:\n",
    "- alpha: additive (Laplace/Lidstone) smoothing parameter (0 for no smoothing)\n",
    "- fit_prior: whether to learn class prior probabilities or not. If false, a uniform prior will be used\n",
    "- class_prior: prior probabilities of the classes. If specified the priors are not adjusted according to the data"
   ]
  },
  {
   "cell_type": "markdown",
   "metadata": {},
   "source": [
    "We want our Naive Bayes classifier to learn class prior probabilities. For this reason, we will let default values for fit_prior (True) and class_prior (None). Now we optimize the parameter alpha."
   ]
  },
  {
   "cell_type": "markdown",
   "metadata": {},
   "source": [
    "**6.3.2. Grid search cross validation** <a class=\"anchor\" id=\"cv3\"></a>"
   ]
  },
  {
   "cell_type": "code",
   "execution_count": 63,
   "metadata": {},
   "outputs": [],
   "source": [
    "param_grid = {'alpha': [x for x in np.linspace(0.1, 1, 11)]}"
   ]
  },
  {
   "cell_type": "code",
   "execution_count": 64,
   "metadata": {},
   "outputs": [
    {
     "data": {
      "text/plain": [
       "GridSearchCV(cv=None, error_score=nan,\n",
       "             estimator=MultinomialNB(alpha=1.0, class_prior=None,\n",
       "                                     fit_prior=True),\n",
       "             iid='deprecated', n_jobs=None,\n",
       "             param_grid={'alpha': [0.1, 0.19, 0.28, 0.37, 0.45999999999999996,\n",
       "                                   0.5499999999999999, 0.64, 0.73, 0.82,\n",
       "                                   0.9099999999999999, 1.0]},\n",
       "             pre_dispatch='2*n_jobs', refit=True, return_train_score=False,\n",
       "             scoring=None, verbose=0)"
      ]
     },
     "execution_count": 64,
     "metadata": {},
     "output_type": "execute_result"
    }
   ],
   "source": [
    "clf = GridSearchCV(multinomialNB, param_grid = param_grid)\n",
    "clf.fit(X_train, labels_train)"
   ]
  },
  {
   "cell_type": "code",
   "execution_count": 65,
   "metadata": {},
   "outputs": [
    {
     "data": {
      "text/plain": [
       "{'alpha': 0.1}"
      ]
     },
     "execution_count": 65,
     "metadata": {},
     "output_type": "execute_result"
    }
   ],
   "source": [
    "clf.best_params_"
   ]
  },
  {
   "cell_type": "code",
   "execution_count": 66,
   "metadata": {},
   "outputs": [
    {
     "data": {
      "text/plain": [
       "MultinomialNB(alpha=0.1, class_prior=None, fit_prior=True)"
      ]
     },
     "execution_count": 66,
     "metadata": {},
     "output_type": "execute_result"
    }
   ],
   "source": [
    "clf.best_estimator_"
   ]
  },
  {
   "cell_type": "markdown",
   "metadata": {},
   "source": [
    "**6.3.3. Model implementation** <a class=\"anchor\" id=\"implementation3\"></a>"
   ]
  },
  {
   "cell_type": "markdown",
   "metadata": {},
   "source": [
    "Now we implement our Naive Bayes classifier with the optmized alpha:"
   ]
  },
  {
   "cell_type": "code",
   "execution_count": 67,
   "metadata": {},
   "outputs": [],
   "source": [
    "op_multinomialNB = clf.best_estimator_"
   ]
  },
  {
   "cell_type": "code",
   "execution_count": 68,
   "metadata": {},
   "outputs": [
    {
     "data": {
      "text/plain": [
       "MultinomialNB(alpha=0.1, class_prior=None, fit_prior=True)"
      ]
     },
     "execution_count": 68,
     "metadata": {},
     "output_type": "execute_result"
    }
   ],
   "source": [
    "op_multinomialNB.fit(X_train, labels_train)"
   ]
  },
  {
   "cell_type": "code",
   "execution_count": 69,
   "metadata": {},
   "outputs": [],
   "source": [
    "op_multinomialNB_predict = op_multinomialNB.predict(X_test)"
   ]
  },
  {
   "cell_type": "markdown",
   "metadata": {},
   "source": [
    "**6.3.4. Performance analysis** <a class=\"anchor\" id=\"performance3\"></a>"
   ]
  },
  {
   "cell_type": "markdown",
   "metadata": {},
   "source": [
    "**Testing accuracy:**"
   ]
  },
  {
   "cell_type": "code",
   "execution_count": 70,
   "metadata": {},
   "outputs": [
    {
     "name": "stdout",
     "output_type": "stream",
     "text": [
      "Naive Bayes classifier testing accuracy is: 0.955\n"
     ]
    }
   ],
   "source": [
    "print('Naive Bayes classifier testing accuracy is:', round(np.mean(op_multinomialNB_predict == labels_test), 3))"
   ]
  },
  {
   "cell_type": "markdown",
   "metadata": {},
   "source": [
    "**Training accuracy:**"
   ]
  },
  {
   "cell_type": "code",
   "execution_count": 71,
   "metadata": {
    "scrolled": false
   },
   "outputs": [
    {
     "name": "stdout",
     "output_type": "stream",
     "text": [
      "Naive Bayes classifier training accuracy is: 0.964\n"
     ]
    }
   ],
   "source": [
    "print('Naive Bayes classifier training accuracy is:', round(np.mean(op_multinomialNB.predict(X_train) == labels_train), 3))"
   ]
  },
  {
   "cell_type": "markdown",
   "metadata": {},
   "source": [
    "Training accuracy is not that much higher than testing accuracy. The model doesn't seem to learn training data: we can consider that again there is no **overfitting**."
   ]
  },
  {
   "cell_type": "markdown",
   "metadata": {},
   "source": [
    "**Confusion Matrix**"
   ]
  },
  {
   "cell_type": "code",
   "execution_count": 72,
   "metadata": {
    "scrolled": false
   },
   "outputs": [
    {
     "data": {
      "image/png": "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\n",
      "text/plain": [
       "<Figure size 1296x720 with 2 Axes>"
      ]
     },
     "metadata": {
      "needs_background": "light"
     },
     "output_type": "display_data"
    }
   ],
   "source": [
    "fig, ax = plt.subplots(figsize=(18, 10))\n",
    "plot_confusion_matrix(op_multinomialNB, X_test, labels_test, values_format = 'd', display_labels = labels_names,\n",
    "                      cmap = plt.cm.Blues,\n",
    "                      ax = ax)\n",
    "plt.title('Confusion Matrix')\n",
    "plt.show()"
   ]
  },
  {
   "cell_type": "markdown",
   "metadata": {},
   "source": [
    "**Precision, recall, F1-score**"
   ]
  },
  {
   "cell_type": "code",
   "execution_count": 73,
   "metadata": {
    "scrolled": true
   },
   "outputs": [
    {
     "name": "stdout",
     "output_type": "stream",
     "text": [
      "               precision    recall  f1-score   support\n",
      "\n",
      "     business       0.93      0.96      0.95       103\n",
      "entertainment       0.97      0.89      0.93        75\n",
      "     politics       0.94      0.99      0.96        82\n",
      "        sport       0.98      0.99      0.99       104\n",
      "         tech       0.95      0.93      0.94        81\n",
      "\n",
      "     accuracy                           0.96       445\n",
      "    macro avg       0.96      0.95      0.95       445\n",
      " weighted avg       0.96      0.96      0.95       445\n",
      "\n"
     ]
    }
   ],
   "source": [
    "print(classification_report(labels_test, op_multinomialNB_predict, target_names = labels_names))"
   ]
  },
  {
   "cell_type": "markdown",
   "metadata": {},
   "source": [
    "Again, the model makes very good predictions for the label sport. In this case, the label politics is well predicted too with a good F1-score. "
   ]
  },
  {
   "cell_type": "markdown",
   "metadata": {},
   "source": [
    "Now we add accuracy to the results dictionnary."
   ]
  },
  {
   "cell_type": "code",
   "execution_count": 74,
   "metadata": {},
   "outputs": [
    {
     "data": {
      "text/plain": [
       "{'Model': ['Logistic Regression', 'KNN', 'Naive Bayes classifier'],\n",
       " 'Accuracy': [0.955, 0.917, 0.955]}"
      ]
     },
     "execution_count": 74,
     "metadata": {},
     "output_type": "execute_result"
    }
   ],
   "source": [
    "models_results[\"Model\"].append('Naive Bayes classifier')\n",
    "models_results[\"Accuracy\"].append(round(np.mean(op_multinomialNB.predict(X_test) == labels_test), 3))\n",
    "models_results"
   ]
  },
  {
   "cell_type": "markdown",
   "metadata": {},
   "source": [
    "**6.4 SVM** <a class=\"anchor\" id=\"svm\"></a>"
   ]
  },
  {
   "cell_type": "markdown",
   "metadata": {},
   "source": [
    "**6.4.1. Model parameters** <a class=\"anchor\" id=\"params4\"></a>"
   ]
  },
  {
   "cell_type": "code",
   "execution_count": 30,
   "metadata": {},
   "outputs": [
    {
     "data": {
      "text/plain": [
       "SVC(C=1.0, break_ties=False, cache_size=200, class_weight=None, coef0=0.0,\n",
       "    decision_function_shape='ovr', degree=3, gamma='scale', kernel='rbf',\n",
       "    max_iter=-1, probability=False, random_state=None, shrinking=True,\n",
       "    tol=0.001, verbose=False)"
      ]
     },
     "execution_count": 30,
     "metadata": {},
     "output_type": "execute_result"
    }
   ],
   "source": [
    "from sklearn import svm\n",
    "from sklearn.svm import SVC\n",
    "svm = SVC()\n",
    "svm"
   ]
  },
  {
   "cell_type": "markdown",
   "metadata": {},
   "source": [
    "There are many parameters. We will focus on the following ones:\n",
    "- C: regularization parameter. The strength of the regularization is inversely proportional to C. Must be strictly positive\n",
    "- kernel: specifies the kernel type to be used in the algorithm. It must be one of 'linear', 'poly', 'rbf', 'sigmoid', 'precomputed' or a callable\n",
    "- degree: degree of the polynomial kernel function\n",
    "- gamma: kernel coefficient for 'rbf', 'poly' and 'sigmoid'\n",
    "- coef0: independent term in kernel function. It is only significant in 'poly' and 'sigmoid'\n",
    "\n",
    "<br>\n",
    "In this section, we will use randomized search cross validation in order to optimize parameters because the grid search took too much time to execute. In contrast to GridSearchCV, not all parameter values are tried out, but rather a fixed number of parameter settings is sampled from the specified distributions. We will compute a grid search after randomized search with a parameter grid built thanks to the values predicted by the randomized search."
   ]
  },
  {
   "cell_type": "markdown",
   "metadata": {},
   "source": [
    "**6.4.2. Randomized search cross validation** <a class=\"anchor\" id=\"cv4\"></a>"
   ]
  },
  {
   "cell_type": "code",
   "execution_count": 76,
   "metadata": {},
   "outputs": [],
   "source": [
    "param_grid = {'C': [x for x in np.linspace(0.1, 1, 10)],\n",
    "             'kernel': ['poly', 'rbf', 'linear', 'sigmoid'],\n",
    "             'degree': [1, 2, 3, 4, 5, 6],\n",
    "             'gamma': [0.1, 1, 10, 100, 1000, 10000, 100000, 1000000, 10000000, 100000000]}"
   ]
  },
  {
   "cell_type": "code",
   "execution_count": 77,
   "metadata": {},
   "outputs": [
    {
     "data": {
      "text/plain": [
       "RandomizedSearchCV(cv=None, error_score=nan,\n",
       "                   estimator=SVC(C=1.0, break_ties=False, cache_size=200,\n",
       "                                 class_weight=None, coef0=0.0,\n",
       "                                 decision_function_shape='ovr', degree=3,\n",
       "                                 gamma='scale', kernel='rbf', max_iter=-1,\n",
       "                                 probability=False, random_state=None,\n",
       "                                 shrinking=True, tol=0.001, verbose=False),\n",
       "                   iid='deprecated', n_iter=10, n_jobs=None,\n",
       "                   param_distributions={'C': [0.1, 0.2, 0.30000000000000004,\n",
       "                                              0.4, 0.5, 0.6, 0.7000000000000001,\n",
       "                                              0.8, 0.9, 1.0],\n",
       "                                        'degree': [1, 2, 3, 4, 5, 6],\n",
       "                                        'gamma': [0.1, 1, 10, 100, 1000, 10000,\n",
       "                                                  100000, 1000000, 10000000,\n",
       "                                                  100000000],\n",
       "                                        'kernel': ['poly', 'rbf', 'linear',\n",
       "                                                   'sigmoid']},\n",
       "                   pre_dispatch='2*n_jobs', random_state=None, refit=True,\n",
       "                   return_train_score=False, scoring=None, verbose=0)"
      ]
     },
     "execution_count": 77,
     "metadata": {},
     "output_type": "execute_result"
    }
   ],
   "source": [
    "from sklearn.model_selection import RandomizedSearchCV\n",
    "clf = RandomizedSearchCV(svm, param_distributions = param_grid)\n",
    "clf.fit(X_train, labels_train)"
   ]
  },
  {
   "cell_type": "code",
   "execution_count": 78,
   "metadata": {},
   "outputs": [
    {
     "data": {
      "text/plain": [
       "{'kernel': 'linear', 'gamma': 10000000, 'degree': 5, 'C': 0.6}"
      ]
     },
     "execution_count": 78,
     "metadata": {},
     "output_type": "execute_result"
    }
   ],
   "source": [
    "clf.best_params_"
   ]
  },
  {
   "cell_type": "markdown",
   "metadata": {},
   "source": [
    "As the randomized search picked a linear kernel, it seems that data is linearly separable. Polynomial and RBF are especially useful when data isn't linearly separable. So we will take a linear kernel. Now we are just going to refine the parameter C (gamma and degree values are useless for a linear kernel)."
   ]
  },
  {
   "cell_type": "code",
   "execution_count": 86,
   "metadata": {},
   "outputs": [],
   "source": [
    "param_grid = {'C': [x for x in np.linspace(0.1, 1, 10)],\n",
    "             'kernel': ['linear']}"
   ]
  },
  {
   "cell_type": "code",
   "execution_count": 88,
   "metadata": {},
   "outputs": [
    {
     "data": {
      "text/plain": [
       "GridSearchCV(cv=None, error_score=nan,\n",
       "             estimator=SVC(C=1.0, break_ties=False, cache_size=200,\n",
       "                           class_weight=None, coef0=0.0,\n",
       "                           decision_function_shape='ovr', degree=3,\n",
       "                           gamma='scale', kernel='rbf', max_iter=-1,\n",
       "                           probability=False, random_state=None, shrinking=True,\n",
       "                           tol=0.001, verbose=False),\n",
       "             iid='deprecated', n_jobs=None,\n",
       "             param_grid={'C': [0.1, 0.2, 0.30000000000000004, 0.4, 0.5, 0.6,\n",
       "                               0.7000000000000001, 0.8, 0.9, 1.0],\n",
       "                         'kernel': ['linear']},\n",
       "             pre_dispatch='2*n_jobs', refit=True, return_train_score=False,\n",
       "             scoring=None, verbose=0)"
      ]
     },
     "execution_count": 88,
     "metadata": {},
     "output_type": "execute_result"
    }
   ],
   "source": [
    "clf = GridSearchCV(svm, param_grid = param_grid)\n",
    "clf.fit(X_train, labels_train)"
   ]
  },
  {
   "cell_type": "code",
   "execution_count": 89,
   "metadata": {},
   "outputs": [
    {
     "data": {
      "text/plain": [
       "{'C': 0.6, 'kernel': 'linear'}"
      ]
     },
     "execution_count": 89,
     "metadata": {},
     "output_type": "execute_result"
    }
   ],
   "source": [
    "clf.best_params_"
   ]
  },
  {
   "cell_type": "markdown",
   "metadata": {},
   "source": [
    "**6.4.3. Model implementation** <a class=\"anchor\" id=\"implementation4\"></a>"
   ]
  },
  {
   "cell_type": "code",
   "execution_count": 90,
   "metadata": {},
   "outputs": [],
   "source": [
    "op_svm = clf.best_estimator_"
   ]
  },
  {
   "cell_type": "code",
   "execution_count": 91,
   "metadata": {},
   "outputs": [
    {
     "data": {
      "text/plain": [
       "SVC(C=0.6, break_ties=False, cache_size=200, class_weight=None, coef0=0.0,\n",
       "    decision_function_shape='ovr', degree=3, gamma='scale', kernel='linear',\n",
       "    max_iter=-1, probability=False, random_state=None, shrinking=True,\n",
       "    tol=0.001, verbose=False)"
      ]
     },
     "execution_count": 91,
     "metadata": {},
     "output_type": "execute_result"
    }
   ],
   "source": [
    "op_svm.fit(X_train, labels_train)"
   ]
  },
  {
   "cell_type": "code",
   "execution_count": 92,
   "metadata": {},
   "outputs": [],
   "source": [
    "op_svm_predict = op_svm.predict(X_test)"
   ]
  },
  {
   "cell_type": "markdown",
   "metadata": {},
   "source": [
    "**Performance analysis** <a class=\"anchor\" id=\"performance4\"></a>"
   ]
  },
  {
   "cell_type": "markdown",
   "metadata": {},
   "source": [
    "**Test accuracy**"
   ]
  },
  {
   "cell_type": "code",
   "execution_count": 93,
   "metadata": {},
   "outputs": [
    {
     "data": {
      "text/plain": [
       "0.9595505617977528"
      ]
     },
     "execution_count": 93,
     "metadata": {},
     "output_type": "execute_result"
    }
   ],
   "source": [
    "np.mean(op_svm_predict == labels_test)"
   ]
  },
  {
   "cell_type": "markdown",
   "metadata": {},
   "source": [
    "**Train accuracy**"
   ]
  },
  {
   "cell_type": "code",
   "execution_count": 94,
   "metadata": {},
   "outputs": [
    {
     "data": {
      "text/plain": [
       "0.9893258426966293"
      ]
     },
     "execution_count": 94,
     "metadata": {},
     "output_type": "execute_result"
    }
   ],
   "source": [
    "np.mean(op_svm.predict(X_train) == labels_train)"
   ]
  },
  {
   "cell_type": "markdown",
   "metadata": {},
   "source": [
    "Again, the gap between testing accuracy and training accuracy is not so big. It seems that our parameter C used to make regularisation works. The model doesn't seem to learn the training data, so there isn't **overfitting**."
   ]
  },
  {
   "cell_type": "markdown",
   "metadata": {},
   "source": [
    "**Confusion matrix**"
   ]
  },
  {
   "cell_type": "code",
   "execution_count": 95,
   "metadata": {},
   "outputs": [
    {
     "data": {
      "image/png": "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\n",
      "text/plain": [
       "<Figure size 1296x720 with 2 Axes>"
      ]
     },
     "metadata": {
      "needs_background": "light"
     },
     "output_type": "display_data"
    }
   ],
   "source": [
    "fig, ax = plt.subplots(figsize=(18, 10))\n",
    "plot_confusion_matrix(op_svm, X_test, labels_test, values_format = 'd', display_labels = labels_names,\n",
    "                      cmap = plt.cm.Blues,\n",
    "                      ax = ax)\n",
    "plt.title('Confusion Matrix')\n",
    "plt.show()"
   ]
  },
  {
   "cell_type": "markdown",
   "metadata": {},
   "source": [
    "**Precision, recall, F1-score**"
   ]
  },
  {
   "cell_type": "code",
   "execution_count": 96,
   "metadata": {
    "scrolled": true
   },
   "outputs": [
    {
     "name": "stdout",
     "output_type": "stream",
     "text": [
      "               precision    recall  f1-score   support\n",
      "\n",
      "     business       0.94      0.95      0.95       103\n",
      "entertainment       0.97      0.93      0.95        75\n",
      "     politics       0.93      0.96      0.95        82\n",
      "        sport       0.98      0.98      0.98       104\n",
      "         tech       0.97      0.96      0.97        81\n",
      "\n",
      "     accuracy                           0.96       445\n",
      "    macro avg       0.96      0.96      0.96       445\n",
      " weighted avg       0.96      0.96      0.96       445\n",
      "\n"
     ]
    }
   ],
   "source": [
    "print(classification_report(labels_test, op_svm_predict, target_names = labels_names))"
   ]
  },
  {
   "cell_type": "markdown",
   "metadata": {},
   "source": [
    "We add the accuracy to the dictionnary:"
   ]
  },
  {
   "cell_type": "code",
   "execution_count": 97,
   "metadata": {},
   "outputs": [
    {
     "data": {
      "text/plain": [
       "{'Model': ['Logistic Regression', 'KNN', 'Naive Bayes classifier', 'SVM'],\n",
       " 'Accuracy': [0.955, 0.917, 0.955, 0.96]}"
      ]
     },
     "execution_count": 97,
     "metadata": {},
     "output_type": "execute_result"
    }
   ],
   "source": [
    "models_results[\"Model\"].append('SVM')\n",
    "models_results[\"Accuracy\"].append(round(np.mean(op_svm.predict(X_test) == labels_test), 3))\n",
    "models_results"
   ]
  },
  {
   "cell_type": "markdown",
   "metadata": {},
   "source": [
    "**6.5 Random Forest** <a class=\"anchor\" id=\"rf\"></a>"
   ]
  },
  {
   "cell_type": "markdown",
   "metadata": {},
   "source": [
    "**6.5.1. Model parameters** <a class=\"anchor\" id=\"params5\"></a>"
   ]
  },
  {
   "cell_type": "markdown",
   "metadata": {},
   "source": [
    "Let's display the parameters of random forest classifier:"
   ]
  },
  {
   "cell_type": "code",
   "execution_count": 120,
   "metadata": {},
   "outputs": [],
   "source": [
    "from sklearn import ensemble\n",
    "from sklearn.ensemble import RandomForestClassifier"
   ]
  },
  {
   "cell_type": "code",
   "execution_count": 121,
   "metadata": {},
   "outputs": [
    {
     "data": {
      "text/plain": [
       "RandomForestClassifier(bootstrap=True, ccp_alpha=0.0, class_weight=None,\n",
       "                       criterion='gini', max_depth=None, max_features='auto',\n",
       "                       max_leaf_nodes=None, max_samples=None,\n",
       "                       min_impurity_decrease=0.0, min_impurity_split=None,\n",
       "                       min_samples_leaf=1, min_samples_split=2,\n",
       "                       min_weight_fraction_leaf=0.0, n_estimators=100,\n",
       "                       n_jobs=None, oob_score=False, random_state=None,\n",
       "                       verbose=0, warm_start=False)"
      ]
     },
     "execution_count": 121,
     "metadata": {},
     "output_type": "execute_result"
    }
   ],
   "source": [
    "rf = RandomForestClassifier()\n",
    "rf"
   ]
  },
  {
   "cell_type": "markdown",
   "metadata": {},
   "source": [
    "There are many parameters. We will especially focus on:\n",
    "- n_estimators: the number of trees in the forest\n",
    "- min_samples_split: the minimum number of samples required to split an internal node <br> <br>\n",
    "\n",
    "In litterature and by experience, we know that a good choice for these two hyperparameters is:\n",
    "- as large as possible for the number of trees in the forest\n",
    "- $\\sqrt{d}$ for the number of samples, where d is the number of features\n",
    "<br> <br>\n",
    "We will use these two argument to build our grid for the grid search cross validation."
   ]
  },
  {
   "cell_type": "markdown",
   "metadata": {},
   "source": [
    "**6.5.2. Cross validation** <a class=\"anchor\" id=\"cv5\"></a>"
   ]
  },
  {
   "cell_type": "code",
   "execution_count": 122,
   "metadata": {},
   "outputs": [],
   "source": [
    "param_grid = {'n_estimators': [10, 100, 500, 1000],\n",
    "             'min_samples_split': [int(x) for x in np.linspace(2, 40, 20)]}"
   ]
  },
  {
   "cell_type": "code",
   "execution_count": 123,
   "metadata": {},
   "outputs": [
    {
     "data": {
      "text/plain": [
       "RandomizedSearchCV(cv=None, error_score=nan,\n",
       "                   estimator=RandomForestClassifier(bootstrap=True,\n",
       "                                                    ccp_alpha=0.0,\n",
       "                                                    class_weight=None,\n",
       "                                                    criterion='gini',\n",
       "                                                    max_depth=None,\n",
       "                                                    max_features='auto',\n",
       "                                                    max_leaf_nodes=None,\n",
       "                                                    max_samples=None,\n",
       "                                                    min_impurity_decrease=0.0,\n",
       "                                                    min_impurity_split=None,\n",
       "                                                    min_samples_leaf=1,\n",
       "                                                    min_samples_split=2,\n",
       "                                                    min_weight_fraction_leaf=0.0,\n",
       "                                                    n_estimators=100,\n",
       "                                                    n_jobs=None,\n",
       "                                                    oob_score=False,\n",
       "                                                    random_state=None,\n",
       "                                                    verbose=0,\n",
       "                                                    warm_start=False),\n",
       "                   iid='deprecated', n_iter=10, n_jobs=None,\n",
       "                   param_distributions={'min_samples_split': [2, 4, 6, 8, 10,\n",
       "                                                              12, 14, 16, 18,\n",
       "                                                              20, 22, 24, 26,\n",
       "                                                              28, 30, 32, 34,\n",
       "                                                              36, 38, 40],\n",
       "                                        'n_estimators': [10, 100, 500, 1000]},\n",
       "                   pre_dispatch='2*n_jobs', random_state=None, refit=True,\n",
       "                   return_train_score=False, scoring=None, verbose=0)"
      ]
     },
     "execution_count": 123,
     "metadata": {},
     "output_type": "execute_result"
    }
   ],
   "source": [
    "clf = RandomizedSearchCV(rf, param_distributions = param_grid)\n",
    "clf.fit(X_train, labels_train)"
   ]
  },
  {
   "cell_type": "code",
   "execution_count": 124,
   "metadata": {
    "scrolled": true
   },
   "outputs": [
    {
     "data": {
      "text/plain": [
       "{'n_estimators': 1000, 'min_samples_split': 12}"
      ]
     },
     "execution_count": 124,
     "metadata": {},
     "output_type": "execute_result"
    }
   ],
   "source": [
    "clf.best_params_"
   ]
  },
  {
   "cell_type": "markdown",
   "metadata": {},
   "source": [
    "As predicted, n_estimators must be as big as possible. Now let's build a grid in order to refine parameters values with a grid search cross validation."
   ]
  },
  {
   "cell_type": "code",
   "execution_count": 126,
   "metadata": {},
   "outputs": [],
   "source": [
    "param_grid = {'n_estimators': [1000],\n",
    "             'min_samples_split': [int(x) for x in np.linspace(2,40,10)]}"
   ]
  },
  {
   "cell_type": "code",
   "execution_count": 127,
   "metadata": {},
   "outputs": [
    {
     "data": {
      "text/plain": [
       "GridSearchCV(cv=None, error_score=nan,\n",
       "             estimator=RandomForestClassifier(bootstrap=True, ccp_alpha=0.0,\n",
       "                                              class_weight=None,\n",
       "                                              criterion='gini', max_depth=None,\n",
       "                                              max_features='auto',\n",
       "                                              max_leaf_nodes=None,\n",
       "                                              max_samples=None,\n",
       "                                              min_impurity_decrease=0.0,\n",
       "                                              min_impurity_split=None,\n",
       "                                              min_samples_leaf=1,\n",
       "                                              min_samples_split=2,\n",
       "                                              min_weight_fraction_leaf=0.0,\n",
       "                                              n_estimators=100, n_jobs=None,\n",
       "                                              oob_score=False,\n",
       "                                              random_state=None, verbose=0,\n",
       "                                              warm_start=False),\n",
       "             iid='deprecated', n_jobs=None,\n",
       "             param_grid={'min_samples_split': [2, 6, 10, 14, 18, 23, 27, 31, 35,\n",
       "                                               40],\n",
       "                         'n_estimators': [1000]},\n",
       "             pre_dispatch='2*n_jobs', refit=True, return_train_score=False,\n",
       "             scoring=None, verbose=0)"
      ]
     },
     "execution_count": 127,
     "metadata": {},
     "output_type": "execute_result"
    }
   ],
   "source": [
    "clf = GridSearchCV(rf, param_grid = param_grid)\n",
    "clf.fit(X_train, labels_train)"
   ]
  },
  {
   "cell_type": "code",
   "execution_count": 128,
   "metadata": {},
   "outputs": [
    {
     "data": {
      "text/plain": [
       "{'min_samples_split': 6, 'n_estimators': 1000}"
      ]
     },
     "execution_count": 128,
     "metadata": {},
     "output_type": "execute_result"
    }
   ],
   "source": [
    "clf.best_params_"
   ]
  },
  {
   "cell_type": "markdown",
   "metadata": {},
   "source": [
    "**6.5.3. Model implementation** <a class=\"anchor\" id=\"implementation5\"></a>"
   ]
  },
  {
   "cell_type": "code",
   "execution_count": 129,
   "metadata": {},
   "outputs": [],
   "source": [
    "op_rf = clf.best_estimator_"
   ]
  },
  {
   "cell_type": "code",
   "execution_count": 130,
   "metadata": {},
   "outputs": [
    {
     "data": {
      "text/plain": [
       "RandomForestClassifier(bootstrap=True, ccp_alpha=0.0, class_weight=None,\n",
       "                       criterion='gini', max_depth=None, max_features='auto',\n",
       "                       max_leaf_nodes=None, max_samples=None,\n",
       "                       min_impurity_decrease=0.0, min_impurity_split=None,\n",
       "                       min_samples_leaf=1, min_samples_split=6,\n",
       "                       min_weight_fraction_leaf=0.0, n_estimators=1000,\n",
       "                       n_jobs=None, oob_score=False, random_state=None,\n",
       "                       verbose=0, warm_start=False)"
      ]
     },
     "execution_count": 130,
     "metadata": {},
     "output_type": "execute_result"
    }
   ],
   "source": [
    "op_rf.fit(X_train, labels_train)"
   ]
  },
  {
   "cell_type": "code",
   "execution_count": 131,
   "metadata": {},
   "outputs": [],
   "source": [
    "op_rf_predict = op_rf.predict(X_test)"
   ]
  },
  {
   "cell_type": "markdown",
   "metadata": {},
   "source": [
    "**Performance analysis** <a class=\"anchor\" id=\"performance5\"></a>"
   ]
  },
  {
   "cell_type": "markdown",
   "metadata": {},
   "source": [
    "**Testing accuracy**"
   ]
  },
  {
   "cell_type": "code",
   "execution_count": 132,
   "metadata": {},
   "outputs": [
    {
     "data": {
      "text/plain": [
       "0.952808988764045"
      ]
     },
     "execution_count": 132,
     "metadata": {},
     "output_type": "execute_result"
    }
   ],
   "source": [
    "np.mean(op_rf_predict == labels_test)"
   ]
  },
  {
   "cell_type": "markdown",
   "metadata": {},
   "source": [
    "**Training accuracy**"
   ]
  },
  {
   "cell_type": "code",
   "execution_count": 133,
   "metadata": {},
   "outputs": [
    {
     "data": {
      "text/plain": [
       "1.0"
      ]
     },
     "execution_count": 133,
     "metadata": {},
     "output_type": "execute_result"
    }
   ],
   "source": [
    "np.mean(op_rf.predict(X_train) == labels_train)"
   ]
  },
  {
   "cell_type": "markdown",
   "metadata": {},
   "source": [
    "In this case, the training accuracy is 100% and the testing one is 95%. It shows that the model learns too much the training data. There is an **overfitting**."
   ]
  },
  {
   "cell_type": "markdown",
   "metadata": {},
   "source": [
    "**Confusion matrix**"
   ]
  },
  {
   "cell_type": "code",
   "execution_count": 134,
   "metadata": {},
   "outputs": [
    {
     "data": {
      "image/png": "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\n",
      "text/plain": [
       "<Figure size 1296x720 with 2 Axes>"
      ]
     },
     "metadata": {
      "needs_background": "light"
     },
     "output_type": "display_data"
    }
   ],
   "source": [
    "fig, ax = plt.subplots(figsize=(18, 10))\n",
    "plot_confusion_matrix(op_rf, X_test, labels_test, values_format = 'd', display_labels = labels_names,\n",
    "                      cmap = plt.cm.Blues,\n",
    "                      ax = ax)\n",
    "plt.title('Confusion Matrix')\n",
    "plt.show()"
   ]
  },
  {
   "cell_type": "markdown",
   "metadata": {},
   "source": [
    "**Precision, recall, F1-score**"
   ]
  },
  {
   "cell_type": "code",
   "execution_count": 135,
   "metadata": {},
   "outputs": [
    {
     "name": "stdout",
     "output_type": "stream",
     "text": [
      "               precision    recall  f1-score   support\n",
      "\n",
      "     business       0.96      0.95      0.96       103\n",
      "entertainment       0.95      0.92      0.93        75\n",
      "     politics       0.94      0.93      0.93        82\n",
      "        sport       0.96      0.97      0.97       104\n",
      "         tech       0.95      0.99      0.97        81\n",
      "\n",
      "     accuracy                           0.95       445\n",
      "    macro avg       0.95      0.95      0.95       445\n",
      " weighted avg       0.95      0.95      0.95       445\n",
      "\n"
     ]
    }
   ],
   "source": [
    "print(classification_report(labels_test, op_rf_predict, target_names = labels_names))"
   ]
  },
  {
   "cell_type": "markdown",
   "metadata": {},
   "source": [
    "We add to the dictionnary the accuracy of the random forest model:"
   ]
  },
  {
   "cell_type": "code",
   "execution_count": 137,
   "metadata": {},
   "outputs": [
    {
     "data": {
      "text/plain": [
       "{'Model': ['Logistic Regression',\n",
       "  'KNN',\n",
       "  'Naive Bayes classifier',\n",
       "  'SVM',\n",
       "  'Random Forest'],\n",
       " 'Accuracy': [0.955, 0.917, 0.955, 0.96, 0.953]}"
      ]
     },
     "execution_count": 137,
     "metadata": {},
     "output_type": "execute_result"
    }
   ],
   "source": [
    "models_results[\"Model\"].append('Random Forest')\n",
    "models_results[\"Accuracy\"].append(round(np.mean(op_rf.predict(X_test) == labels_test), 3))\n",
    "models_results"
   ]
  },
  {
   "cell_type": "markdown",
   "metadata": {},
   "source": [
    "### 6.6 Comparison and model choice <a class=\"anchor\" id=\"modelChoice\"></a>"
   ]
  },
  {
   "cell_type": "markdown",
   "metadata": {},
   "source": [
    "As we said before, because we are in a multiclass problem, the accuracy is the tool that makes more sense. Let's display the comparative accuracies:"
   ]
  },
  {
   "cell_type": "code",
   "execution_count": 138,
   "metadata": {},
   "outputs": [
    {
     "data": {
      "text/html": [
       "<div>\n",
       "<style scoped>\n",
       "    .dataframe tbody tr th:only-of-type {\n",
       "        vertical-align: middle;\n",
       "    }\n",
       "\n",
       "    .dataframe tbody tr th {\n",
       "        vertical-align: top;\n",
       "    }\n",
       "\n",
       "    .dataframe thead th {\n",
       "        text-align: right;\n",
       "    }\n",
       "</style>\n",
       "<table border=\"1\" class=\"dataframe\">\n",
       "  <thead>\n",
       "    <tr style=\"text-align: right;\">\n",
       "      <th></th>\n",
       "      <th>Model</th>\n",
       "      <th>Accuracy</th>\n",
       "    </tr>\n",
       "  </thead>\n",
       "  <tbody>\n",
       "    <tr>\n",
       "      <th>0</th>\n",
       "      <td>Logistic Regression</td>\n",
       "      <td>0.955</td>\n",
       "    </tr>\n",
       "    <tr>\n",
       "      <th>1</th>\n",
       "      <td>KNN</td>\n",
       "      <td>0.917</td>\n",
       "    </tr>\n",
       "    <tr>\n",
       "      <th>2</th>\n",
       "      <td>Naive Bayes classifier</td>\n",
       "      <td>0.955</td>\n",
       "    </tr>\n",
       "    <tr>\n",
       "      <th>3</th>\n",
       "      <td>SVM</td>\n",
       "      <td>0.960</td>\n",
       "    </tr>\n",
       "    <tr>\n",
       "      <th>4</th>\n",
       "      <td>Random Forest</td>\n",
       "      <td>0.953</td>\n",
       "    </tr>\n",
       "  </tbody>\n",
       "</table>\n",
       "</div>"
      ],
      "text/plain": [
       "                    Model  Accuracy\n",
       "0     Logistic Regression     0.955\n",
       "1                     KNN     0.917\n",
       "2  Naive Bayes classifier     0.955\n",
       "3                     SVM     0.960\n",
       "4           Random Forest     0.953"
      ]
     },
     "execution_count": 138,
     "metadata": {},
     "output_type": "execute_result"
    }
   ],
   "source": [
    "models_results_df = pd.DataFrame(data = models_results)\n",
    "models_results_df.head()"
   ]
  },
  {
   "cell_type": "markdown",
   "metadata": {},
   "source": [
    "As Random Forest overfits, we can exclude it. KNN has a satisfactory accuracy (> 90%). However, logistic regression, naive Bayes and SVM have a much better one. <br>\n",
    "For logistic regression and SVM, the training accuracy is very high (~98%), which means 2% more than the testing accuracy. For the Naive Bayes Classifier, training accuracy (96.4%) is really close to the testing one. So this model seems to be the best which combines accuracy and **generalisation** (the model makes equal prediction independently from the dataset). However SVM has the highest accuracy. Moreover, in the next section, we will be lead to work with negative input data X. A Naive Bayes classifier can't work with such values. Finally, a Naive Bayes classifier makes the assumption of **strong independencies between vectors**. That's not really the case here, because words can be linked, which lead to links between input vectors. For all these reasons, we will pick **SVM** here, even if the Naive Bayes Classifier would have been a great choice too."
   ]
  },
  {
   "cell_type": "markdown",
   "metadata": {},
   "source": [
    "## 7. Model analysis <a class=\"anchor\" id=\"modelanalysis\"></a>"
   ]
  },
  {
   "cell_type": "markdown",
   "metadata": {},
   "source": [
    "Let's remind the chosen model and the parameters picked during the grid search cross validation:"
   ]
  },
  {
   "cell_type": "code",
   "execution_count": 178,
   "metadata": {},
   "outputs": [],
   "source": [
    "model = op_svm"
   ]
  },
  {
   "cell_type": "code",
   "execution_count": 179,
   "metadata": {},
   "outputs": [
    {
     "data": {
      "text/plain": [
       "{'C': 0.6,\n",
       " 'break_ties': False,\n",
       " 'cache_size': 200,\n",
       " 'class_weight': None,\n",
       " 'coef0': 0.0,\n",
       " 'decision_function_shape': 'ovr',\n",
       " 'degree': 3,\n",
       " 'gamma': 'scale',\n",
       " 'kernel': 'linear',\n",
       " 'max_iter': -1,\n",
       " 'probability': False,\n",
       " 'random_state': None,\n",
       " 'shrinking': True,\n",
       " 'tol': 0.001,\n",
       " 'verbose': False}"
      ]
     },
     "execution_count": 179,
     "metadata": {},
     "output_type": "execute_result"
    }
   ],
   "source": [
    "model.get_params()"
   ]
  },
  {
   "cell_type": "markdown",
   "metadata": {},
   "source": [
    "Let's recap also the statistical performance analysis:"
   ]
  },
  {
   "cell_type": "code",
   "execution_count": 180,
   "metadata": {},
   "outputs": [
    {
     "data": {
      "image/png": "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\n",
      "text/plain": [
       "<Figure size 1080x504 with 2 Axes>"
      ]
     },
     "metadata": {
      "needs_background": "light"
     },
     "output_type": "display_data"
    }
   ],
   "source": [
    "fig, ax = plt.subplots(figsize=(15, 7))\n",
    "plot_confusion_matrix(op_svm, X_test, labels_test, values_format = 'd', display_labels = labels_names,\n",
    "                      cmap = plt.cm.Blues,\n",
    "                      ax = ax)\n",
    "plt.title('Confusion Matrix')\n",
    "plt.show()"
   ]
  },
  {
   "cell_type": "code",
   "execution_count": 182,
   "metadata": {},
   "outputs": [
    {
     "name": "stdout",
     "output_type": "stream",
     "text": [
      "               precision    recall  f1-score   support\n",
      "\n",
      "     business       0.94      0.95      0.95       103\n",
      "entertainment       0.97      0.93      0.95        75\n",
      "     politics       0.93      0.96      0.95        82\n",
      "        sport       0.98      0.98      0.98       104\n",
      "         tech       0.97      0.96      0.97        81\n",
      "\n",
      "     accuracy                           0.96       445\n",
      "    macro avg       0.96      0.96      0.96       445\n",
      " weighted avg       0.96      0.96      0.96       445\n",
      "\n"
     ]
    }
   ],
   "source": [
    "print(classification_report(labels_test, op_svm_predict, target_names = labels_names))"
   ]
  },
  {
   "cell_type": "code",
   "execution_count": 183,
   "metadata": {},
   "outputs": [
    {
     "data": {
      "text/plain": [
       "<matplotlib.legend.Legend at 0x241c32c86c8>"
      ]
     },
     "execution_count": 183,
     "metadata": {},
     "output_type": "execute_result"
    },
    {
     "data": {
      "image/png": "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\n",
      "text/plain": [
       "<Figure size 1152x648 with 1 Axes>"
      ]
     },
     "metadata": {
      "needs_background": "light"
     },
     "output_type": "display_data"
    }
   ],
   "source": [
    "classes = [0, 1, 2, 3, 4]\n",
    "fpr, tpr, roc_auc = [0] * len(classes), [0] * len(classes), [0] * len(classes)\n",
    "for i in range(len(classes)):\n",
    "    fpr[i], tpr[i], _ = roc_curve(label_binarize(labels_test, classes = classes)[:,i],\n",
    "                                  label_binarize(op_svm_predict, classes = classes)[:,i])\n",
    "    roc_auc[i] = auc(fpr[i], tpr[i])\n",
    "\n",
    "colors = ['blue', 'green', 'red', 'yellow', 'black']\n",
    "\n",
    "fig, ax = plt.subplots(figsize=(16, 9))\n",
    "for i in range(len(colors)):\n",
    "    plt.plot(fpr[i], tpr[i], color = colors[i],\n",
    "             label = 'ROC curve of class {0} (area = {1:0.2f})'.format(labels_names[i], roc_auc[i]))\n",
    "plt.legend()"
   ]
  },
  {
   "cell_type": "markdown",
   "metadata": {},
   "source": [
    "Regarding these two results, the prediction works the best on sport and tech. Indeed the confusion matrix shows:\n",
    "- only two false positive for sport \n",
    "- three false positive for tech\n",
    "- two false negative for sport\n",
    "- two false negative for tech \n",
    "<br>\n",
    "\n",
    "Moreover, the F1-score, which is a harmonic mean of precision and recall is the hightest for these 2 labels.\n",
    "<br> <br>\n",
    "Finally, it is visual that the two ROC curves wich tend to a perfect ROC curve are for the labels **sport** and **tech**."
   ]
  },
  {
   "cell_type": "markdown",
   "metadata": {},
   "source": [
    "If we go back to the data visualisation, we can't really establish a link between good prediction and labels reparition or texts length. It seems that our pre processing data part made a good job in ignoring texts length or data repartition among labels."
   ]
  },
  {
   "cell_type": "markdown",
   "metadata": {},
   "source": [
    "## 8. Dimensionality reduction <a class=\"anchor\" id=\"reduction\"></a>"
   ]
  },
  {
   "cell_type": "markdown",
   "metadata": {},
   "source": [
    "If we take a look at the data, one of the major problem is that there are many 0 in the matrix:"
   ]
  },
  {
   "cell_type": "code",
   "execution_count": 29,
   "metadata": {},
   "outputs": [
    {
     "data": {
      "text/plain": [
       "array([[0.        , 0.        , 0.        , ..., 0.02393606, 0.        ,\n",
       "        0.        ],\n",
       "       [0.        , 0.        , 0.        , ..., 0.        , 0.        ,\n",
       "        0.        ],\n",
       "       [0.        , 0.06212034, 0.        , ..., 0.02712891, 0.        ,\n",
       "        0.        ],\n",
       "       ...,\n",
       "       [0.        , 0.        , 0.        , ..., 0.01291384, 0.0283283 ,\n",
       "        0.        ],\n",
       "       [0.        , 0.        , 0.        , ..., 0.01762272, 0.        ,\n",
       "        0.        ],\n",
       "       [0.        , 0.17003041, 0.        , ..., 0.        , 0.        ,\n",
       "        0.        ]])"
      ]
     },
     "execution_count": 29,
     "metadata": {},
     "output_type": "execute_result"
    }
   ],
   "source": [
    "X_train"
   ]
  },
  {
   "cell_type": "markdown",
   "metadata": {},
   "source": [
    "So we could make a dimensionality reduction on the data. The reasons of why we compute a dimensionality reduction are:\n",
    "- algorithms time computing can be reduced\n",
    "- a model with less dimensions can be easier interpreted\n",
    "<br> \n",
    "\n",
    "We can list some methods to reduce the data dimension:\n",
    "- PCA: (Principal Component Analysis) can be defined as the orthogonal projection of the data onto a lower dimensional linear space\n",
    "- TSNE\n",
    "- Factorial analysis"
   ]
  },
  {
   "cell_type": "markdown",
   "metadata": {},
   "source": [
    "Let's firstly implement PCA on our training and testing features."
   ]
  },
  {
   "cell_type": "markdown",
   "metadata": {},
   "source": [
    "**8.1. PCA** <a class=\"anchor\" id=\"pca\"></a>"
   ]
  },
  {
   "cell_type": "code",
   "execution_count": 46,
   "metadata": {},
   "outputs": [],
   "source": [
    "from sklearn import decomposition\n",
    "from sklearn.decomposition import PCA\n",
    "\n",
    "PCA = PCA(n_components = 2)"
   ]
  },
  {
   "cell_type": "code",
   "execution_count": 47,
   "metadata": {},
   "outputs": [],
   "source": [
    "X_train_PCA = PCA.fit_transform(X_train)"
   ]
  },
  {
   "cell_type": "code",
   "execution_count": 48,
   "metadata": {},
   "outputs": [
    {
     "data": {
      "text/plain": [
       "array([[ 0.25383752,  0.14349644],\n",
       "       [ 0.1443492 ,  0.13701622],\n",
       "       [-0.24023371,  0.22833876],\n",
       "       ...,\n",
       "       [ 0.18442617,  0.04549564],\n",
       "       [-0.02486861, -0.06911197],\n",
       "       [ 0.07598727, -0.11023294]])"
      ]
     },
     "execution_count": 48,
     "metadata": {},
     "output_type": "execute_result"
    }
   ],
   "source": [
    "X_train_PCA"
   ]
  },
  {
   "cell_type": "markdown",
   "metadata": {},
   "source": [
    "Now let's plot the point we obtained with the labels:"
   ]
  },
  {
   "cell_type": "code",
   "execution_count": 49,
   "metadata": {},
   "outputs": [
    {
     "data": {
      "text/plain": [
       "<matplotlib.legend.Legend at 0x19af83c04c8>"
      ]
     },
     "execution_count": 49,
     "metadata": {},
     "output_type": "execute_result"
    },
    {
     "data": {
      "image/png": "iVBORw0KGgoAAAANSUhEUgAAAXwAAAD4CAYAAADvsV2wAAAABHNCSVQICAgIfAhkiAAAAAlwSFlzAAALEgAACxIB0t1+/AAAADh0RVh0U29mdHdhcmUAbWF0cGxvdGxpYiB2ZXJzaW9uMy4xLjEsIGh0dHA6Ly9tYXRwbG90bGliLm9yZy8QZhcZAAAgAElEQVR4nOxdd5QUxde9PTntLhkkCYIiQRABUcGIKCBgQFRQEEyY9WdWMKOimCX4KYooQUEUEVREkgSRICAuWXJGwsKmiff74+0wqXtmdnc2AH3PqbMz3dXV1d2zt6rfe3WfQhI6dOjQoePkh6GsO6BDhw4dOkoHOuHr0KFDxykCnfB16NCh4xSBTvg6dOjQcYpAJ3wdOnToOEVgKusOaKFKlSqsV69eWXdDhw4dOk4oLF++/D+SVdX2lVvCr1evHpYtW1bW3dChQ4eOEwqKomzT2qebdHTo0KHjFIFO+Dp06NBxikAnfB06dOg4RaATvg4dOnScItAJX4cOHTpOEeiEr0OHDh2nCHTC16FDh45TBCkhfEVROimKsl5RlE2KojwTp96NiqJQUZTWqTivDh06dOhIHsUmfEVRjACGA+gMoAmAXoqiNFGplwbgYQB/FvecOnTo0HHCYPdu4I47gKuvBj76CAgEyqwrqZjhnw9gE8nNJD0AvgZwrUq9VwG8BSA/BefUoUOHjvKPceOAWrWA0aOBX38FHn4YqFoVyM0tk+6kgvBrAdgR9n1nwbbjUBSlJYA6JKfFa0hRlHsURVmmKMqyAwcOpKBrOnTo0FFGCASAfv1itx86BNx+e6l3B0gN4Ssq247nTVQUxQDgPQCPJ2qI5CckW5NsXbWqqvaPDh06dJwY+OUXwOdT3zct7ty3xJAKwt8JoE7Y99oAdod9TwPQDMBcRVG2ArgAwFTdcatDh45TFmWUSzwVhL8UwJmKotRXFMUC4BYAU4M7SWaRrEKyHsl6ABYD6E5Sl8LUoUPHyYtOnQCjUX2f1wuccw6wfn2pdqnYhE/SB+BBADMArAUwkWSmoiivKIrSvbjt69ChQ0eZYNMmcbJeeSXwwgvAvn2FO95gAD77TH1fIABkZgKXXAK43cXva5JQWEavFonQunVr6nr4OnToKBMsXChhlB6PzMZtNsDhAJYtA+rXL1xb27cDN9wArFgRG5KZliYRPD16pKzriqIsJ6lqMtdX2urQoUNHNO66C8jJEbIHgPx84MgR4OmnC99W3boyk1eLv/d4gF27itfXQkAnfB06dOgIR1aWmHOiEQhILH1RcPHFgMsVu91oBC68sGhtFgE64evQoUNHOGw2sb+rIS2taG126wacdZa0HYTDAVx+OdCmTdHaLAJ0wtehQ8fJhwULgJtukpn1W28BR48mf6zVKjZ3qzVyu8MBPPig9nFuN/Djj8BXXwE7d0buM5mA338HBg4U4m/aFHj9deD774GDB8W+n5WVfB+LCpLlsrRq1Yo6dOjQUWh8/DHpcJCKQgKk3U7Wr08eOZJ8G1lZ5KWXyrEZGaTNRvbpQ/p86vWXLSMrVSLT0kiXS+o//3z8c3g85B13kFYrmZ4ux/zvf6Tfn3w/VQBgGTV4VY/S0aFDx8mD3Fx1rRqbDRg0SGbYhcHatcDmzRIzX7eueh2/H6hZE9i/P3K70wn88APQoYP6cU89BQwbBuTlhbY5HMArrwCPJxQm0IQepaNDh45TAytWiPkkGvn5wNSpsdsToXFj4JprtMkeEPNROGkHkZMDfPKJ+jEkMGJE7HG5ucA77xS+n0lC5c7o0KFDxwmKSpW09WuKos/1xx/AxIkyiNx6K3DuubF18vIARU1SDEB2tvp2n09bMfPQocL3M0noM3wdOnScPGjcGGjYMFbSwGaT7ePHA8eOJdfWI4/IKtsPPgDefRe46CJxtEajfXv1QcbpBG65Rb1tsxk4+2z1fSUYtaMTvg4dOk4uTJ8uxO90AunpQv4+n5hXBgwQe/u8eaH6gYAQer16QMWKsup1yhRg1CiZhZNSJy8PePllYMuW0LEksGQJ0K6dnCc40DidwPnnaxM+IPZ7hyP0dmAwyHHvvZfyWxKE7rQFACwAMAzAAQDXA7gDgKOUzq1Dh46kQQKzZgEzZwJVqoiZpWZN9Xr//AP89ps4a6PNJxkZoo2TkwPcd5+EUwbt6QYDYLGI3V8Nb70FPPmknKN3bzk2JyfkOzj/fOCJJyT2Xs2fEI6//pK3hsxMoFUr4LnngCYxCQMLhXhOW53w8SGAZwHkQWT8HQDqA1gCnfR16ChH8PmA7t2B+fPFNm61yox68mRRplRD377A2LGxcsTp6WKPX7xY5A2iYTBopyJs00Zm9T/9JLH+OTmR+202kUuoVCm56/rvP2DOHFmJ26GDDDbFQDzCP8WdtlkAnoGQfRC5ALYAGA3ggbLolA4dOtQwfrwsXgoSbFBl8pZbgAMHxC4eDbdbXXs+N1ccskGtnGjEyzu7bp38nTgxluwB6cevvwpxjxwp5+rVSxZbzZolg02vXkCdOsD77wPPPivHKIq8EfzyS4nZ8U9xwv8TgBmRhA8I6X8HnfB16ChHGDNGnWBJmalffHHsvl69ZCYeHS2jFckTRLwZfnAFblCCIbqeoshq23nzQv3988+QL8BiAV56CXj+eWDwYDEdhZuPOnUC9uwp9kxf9bJS3uIJhYoA1B6qAkAthGsrgJ4AMiBpewcD0Jgh6NChI7XQsocHAtr7uncHrrpKnKGAzKSt1sRkarVq6+ncfbf87dcvUhsnCL9fZvLhg5PfHxoYPB7xFzz/vLqfwOcDZs+O378i4hQn/NYAqiE2La8dktMlHP8V1P8OwFFIFsfXAdxawn3UoUMHAKBWLfXtPp84StVgMADffisrXh9+GHjoIZE+jmeyqVVL3ia++SY2vv6MM4A77pDPTZqI6UVRpFitEnVz332JnbWAHKPWD1I7fr+YOMVNOgokUVcnAPsg458XwBAA7aPqfgwgB5FvBHkAfgTwL4AGJd1ZHTpObWjNegMBKVrpBBVFnKFOJ3DppepOWiDkA9i/X5yx6enARx+JENqkScCOHSJ0ds450s7WrVLCfQTXXSf7tFbYRp/PZIqd5Xu9oqJZAjjFZ/gA0BDARgCzAUwCsBfAQyr1FgFQC9OyAFhdYr3ToUNHAbRWoAZj5OMhN1dIVI3sjUYZFLzeUAFEYfORR0Q6YfduOTYrSwh61izg338j0xO63cB330lGrGilTTUYDKKFHzQ3GQyA3Q4MGQJUrpz4+CIgJYSvKEonRVHWK4qySVGUZ1T236soympFUVYqirJAUZTiBZqmHAqANgCuApAetY8Q524uALUZhA/AGUU8by6AdwrOfTmAiQXn06HjFAYpBBtt1mjXTl3CoG7dxDr1X3+tHVfv96tH8gT3qWnl+Hzqjl+TSWLrZ88GTj9dQi3T08VnYLHIQOB0iuln8mSJ5vniC4k0uvtuiUJ65JH411IcaMloJlsgLPgvhPUsAFYBaBJVJz3sc3cAvyRqt3zII3tJtidpoHo3LSTbqRyXTfJjkv1Ivklyv0odN8mWJO1h7TlJ3p/SK9Cho8zgdpMjR5Lt2pFXXEFOmEAGAvGP+fFHsmZNkQq2WMibbiKPHpV9//wj8sMmk8geK4rIIM+Ykbgvd98tx5R0SUsjZ86UcwYC5F9/kYsWyb345hu5F+3bk5MmJb4XRQTiyCOngvAvBDAj7PuzAJ6NU78XgJ8TtVt2hP8XyZtInkPyrATdtJF8n+QBkutJekjuJVmHQt7BOukkV0adZ1xYneg2N5fUxenQUTrw+URP3uEIkaHTSfbvr33M8uWR9QHRir/66lCdTZvI224jK1YU4k9LIx98MDQoaGHoUNJoLBqJB3X1o4vBEPv99NPVNfOfeII0m0NtOZ1k794lQvolTfg3AhgV9r0PgGEq9R4oeBPYAeBMjbbuAbAMwLK6deum/EbEx16St5M0klTUuqdRjAXFRbIiyYtJmlTqtYw6Xx+N9lwkx5TIFerQUWqYNk0SgUSTpN1OZmaqH3PLLerkarORW7dKnfx8SWZiNkcOCi1bqpPngQPkO+/IQGOzFZ7sTSby/PMlQYnFEtrmdJIffUTWqCGfbTbyvPPILVti+/D22+ptO53knDmpuuPHEY/wU2HDV9MFjTGIkRxOsgGApwEMUmuI5CckW5NsXbUoUqZFxhoAZwEYA8CPwtnR/QUlG8BhAPMhdv1o/AMJ5wyiJmTRVzQUSKioDh0nMH79VTu0cO7c0OdDh0LpBzduVLelW63A9u3yefJkWVUbvkLW7ZZj58yRBVg33ijKloMGSRjloEHA6NFi/7fZxM5uNIZWt2rBZAK6dJFrycyUsM6LLwbuuQdYuVLSHe7aJQu77rxTtH1GjoxMb7h/P/BMjFtTkJsrKQ5LEakIy9wJoE7Y99qQIHUtfA1gZArOm0Lch0gyLgkQkQR/N4CPELlwSwHgBHBlCfdFh44SRvXqQtThUSyAkGiVKsCqVaJzs26dkHz79sB55wGrV8dG0rjdEhbZv78MDmoDiccDDB0qsgRB/PFHZJ28PCH6jAwhWy0nrskk8fXTp4t6JiDHDB0aW3f9elnclZ8v/Zw7V0h//nygRQtg2rSQWqcaghE6pQWtqX+yBTJobIYojgWdtk2j6pwZ9rkb4rxyBEvp2fD91HbKprooJCuRfIWkj+SPFDNQGsWefybJdSV7uTp0lAZ27Ii1xwNie9+xQ0wk4duNRrJOHdkfbht3OCSnbNCcolWczsKba7RKnz6JfQJBdOigboa66CLZ//nn6vchaBpauzbltz4evxbbpEPSB1mWOgPAWgATSWYqivKKoijdC6o9qChKpqIoKwE8BuD24p43dVAg41Q8GAFYC/4m81KkFNSPfl0kgEMA3gBwP4CukAVfsyChn+sBNEq24zp0lF/Uri0x6RUrSliiyyUrWGfNkhWs0aJlfj9w5Ihowd9yi7whNG4M3HCDzN61FksFkSgOP1lYLMCXXyYO8wzi99/VzVCLF8v6gK5dtVf1PvWUdhKUEkJK4vBJ/kQJaWlA8rWCbS+QnFrw+RGSTUmeS/JykpmpOG9qoAC4DdqkbwIwDWKbPwzgZai7LcJBABWgfXvzAHwJkWswAzgdwFAAzSFBTPEsYjp0nCC4+mrRnJ8xQ4TEtm8HWrYENmxQJ2ifT0wj48YBe/cCa9bI91SReSKYzZL8pDBwaEioW63iH6haFfi//xPfQVDO2WwGHnsMeO214ve5kDjFpRWCeA/AYohjNRqEEP6wgu8adr8Y7Euw3wpgE4DtkIVXwVnAPwC+gaz8vSzJc+nQUU5hNgMXXBC57aKLROo42hZvMMjM/6KLxLZfpYqUeMqVQSTaHw+KIm8gNWoAH35YuGPvvlsyV4X7A2w28TcEHcJ9+wJXXCEOZ7dbbP6lPLMP4iROgBIAMBPADxB1y36Iby75BsCdEL2caJwJId8ekIie55A88WvBCiH78wDsUtlfCcDBYp5Dh45yiPx8ER7buTNk2gnmnP3339Kb0QMy4+7fX0i4SxdtPR4tuN2iuzNzppiDPB7gkkvEnKU1+y9hnIIZrwKQVIWzIeGSJojpZCS03Qd7IX5nNSJXIDP9YATNr4jV0C8MjBDBtmmIbx56BRLFGjQ3eQB8BWA8gDQAAwB0LkY/dOgoIxw8KPLAkycLUd55J/Dxx2ICKimovSlYLELydeuKqmazZkVre9MmMUE1aiSlDHEKEv53APoidrZuhxB7tF5OEIMhDtVcjf0AYIMQfypm3yaox+wHYQVwCYBHAWRCsnBtC+ufE+IvHxJ2jB/qmj86dJRD+HwS/jh7NjB8uDhvtZCMaSceatYUjR41KIqkJNyxQwTMAOnLpEkilWwwyJvADTdo6+SXE5yChH8TRPkyGumQxVXXxTl2DkQKeS2ADQDcceqWBhTIQOWGkHk0rJB+ToQQ/0EA9QC8C3nL0aGjnCI3V8wf69cnr/9eqZLUtVgkwUhh+KtxYzmX1qDhcomDtXdvaffGG8XhHExk4nBIfL7RCBw+LOT/8MMShVSOEI/wy/dQVWTYoW0qUclQE4HLIfb8QUgcrlkaIGRGrzXzMUMiXV9E6K1jKyQxy4yS7pwOHUXHO+/ICtbCJPs4fFgWK33zjcgQJwuzOT7ZA2KP37NHPi9cGEn2gAxQ8+bJ28iKFRJl07q1etrFcoqTlPDvhJB+NAwQQk8GXaCe/rC8wQ/gJ8SaofKgoWChQ0diBALA2rVimy4pK8BXX2mvdtUCKattu3eX5CPJwGYDevZMbA6yWCRCCBAnbG480y6k77t2ibzxCYKTlPAvAfA4Qvb2tIIyFWICSQYuSISPC4nj7ssSedAemP4tzY7oOFmwYIE4Mdu0EXmAJk2E/FONwkbEBOH3R+aI1UL9+kDbthIJNH58/Lo2m+jkBENIK1VKLolJbq74IE4QnKSED0iEy3oA7wMYBWAPAJWs9nHRAcCnKJyYWiqRgeQekZafoWxifXWcwNi3D+jUSWauOTlCaOvXS9q+aF2cZLF5s+R5bdkSuPVWMYfs2gXcfnvJhi5u2QIsXx7fERyE3y9aPsHY+VtuSc45azQCdeokrldOcJIvvKoL4K5itlH6q+EEJshAY0TRTEt2SJJ1HToKgS+/jCVIUswX06eLo7IwyMyUNH55eRKRs3KlzLaDs+dgKj+fT8i2qIOKFrREy6Lh9YqsQ69eEppZvbooWXbrFl/WwWoF7r8/NX0tBZzEM/xUwA+J1ikL+CAKnt5EFVVQBWKOuiyVHdJxKmDnTnW7utcbcmgWBk88IU7ZaOJ1u6UcOiSpC4cMkVWudjXfWynB44mUK77qKpGH0ILDAXz+uZi9ThCc5DP8VKA82++1UBFAxyTr+iFJ2G2Qlcgn4vXqKBaOHAE++ACYMkVm9zZbLOkbDELMWvD7gUWLgGPHROo4GKq4YEF8p29+vgiQff212M1//ln6URZQFJFGDkeXLiL4Fu3AtViAf/4pXKRQOYA+w48LIySxeVEXMpXV7d0B9TDOnZBFXG0ggnEfA6gB8W20ghD+ulLqo45ygaNHxXY9ZIiYW4J69OHEZzTKDP/qq4Gnnw6ZZ2bMACZMkIiWOnWAa64Rk0iNGhLPDoT05OPB4xHTDyCDRnFgNgMNGhRtcVQgINE84ejbV5Q/bWHh3E6nJD85wcgeQPH18EuqlI8k5iS5g2RtSurBwlyCkeTpLFy6xFQVK8ldUdexkWQFkuaCOmo5ABSS1Sm5eXWcEnjrLUk7GK3VbjSSjRpJKsHwXLA2G9mqFVmtmuSTVUtjGNSxX76cfPddbT348HLXXdKf005LXFctBWK3bpL+MBAgX3ut8G0AosOflRV5f/btI++5R/T7rVayYUPy669LLAF5KoASTnF4kqM2RNVyFIDCpF30Q8TRyiLCxw/JQxN+7mcQ6RNQcwQHF3npC7ZOGfz0k7pYmcslM3aLJdKJm58vkS/794v5RmvRVH4+8MknwCOPiE6OzRY/u9OkSfKmcNNNyfU7GE1js8ks/JtvQpLEHTrEPXQ9zsLjeBs3YwLGoC/yg6HaRmNkysOsLHn7GT1a3oTcbpFmmDUrfmrE8gytkaCsS/mZ4YdjKEk7y8HtSVCMlETqNpK9Sa6hZNZK5lgbyfdTdcN0lHfceqt6xiank+zRo2gz5WDp0SN0nv/+I2fOjHxbCC+KIm8M1atHJigPL2ecQTZuTLZuLW8OBw+SPl/sNQUC5Omnq7YxBd1pRw5NcMtl4hjPwSpmKy7y4osj23n7bfW3H6uV3LZN/X76/XJPzWa5ppo1yV9/TdnjSgbQZ/ipwkMA2iJ5x2ZZ3V4/JMonH6Ks2Rra0gzRyAfwJIBrINm5dJzUePjh2MgYo1Hs0+3aFT1O3ukUueMrrxTt9+efF4VMLZDyxrB/v9j9wxc9BfXqJ08WH8G6dZKYvE4d4IUXYhdgKYokNHe5ImbiXpjQD18gDw74CmRTcuDCJjTECOeTIpIWjtmz1d9+rFbgr7/kcyAQqelz4YWSwMXrlW27d0u0T3R+3bKC1khQ1qV8zvBJcj+TuwQnyfOTrFvcYqHM6OPVSbQ/uphJXpiie6ajXGPMGJnRB2eldjs5dCh54ABZoYL6G0C84nTKbDzcdm8yJX+8y0WOHk126iQ28169yDVryI8+ivUHOBySV7ZtW/LGG8mFC0PXtXcvOXDg8bpL0JppyFI9Zavz/LH35eGH1fvtdJJLlpBvvCH3x2gU38O772pf0znnlNrjRJwZfkoYByLuvh5i7H5GZf9jkMwhf0MSuJ6eqM3yS/jrmfiWVCN5GckqSdRNRRnAkDO2sMVEMkNjn4NkZmpum47yiyNHyFq1IsnN6SQHDCAzM8nzz5d9iYhfUcTR++KLkYnIC1vS08kFC2L7WbNm4vM7HJI4PBwFpqlMNKYDx1QPvewylfuyfn3sAGMykc2bk4MHx+7TMkUB4lguJZQo4UNiFv8FcAZEXnIVgCZRdS4H4Cj4fB+AbxK1W34J38f4XbdRZtylFZ1jJPkLya4Fn+PVje6TgeQ5JCtr1E8nOSM1t+1kx4YN5EsvkU8+Sc6fX66jOGLwzjvqtmqbjdy+XepkZ5OzZiUXcVPckpYmETfRSPYtIfr4nTtJl4sBgI2whgp8MRP2SZM07s3MmWTt2nJ/rFZ5m9i9WwalwlxT7dopf2xaKGnCvxDAjLDvzwJ4Nk79lgAWJmq3/BJ+vBm+wqLPtItampL0k9xGebNI1nRjpuSc/yXOMSaSa0lOJvkrSW8K7t9JiM8/F0IImkScTrJfvxOH9K+5Rp2k0tPJ778P1fN4yBdekOsrzgxeqxiNMqBMnKjez3PPTa6dtDQJCQ3H6NGkycQNaMja2M40ZDENWbQZPXzkkQSPKhAgt2wRExcpb0TxZvNq5auvivGACod4hJ+Klba1ICt9gtgJ8Wxq4U4AP6fgvGWE9+PsI4omhVBUWAD8CXEO14VY1M6BZMVKBAMkg9ZmiIKomuZIJcj4bIFcmw2SQGYdJHzzGgDnFusKTngcOiRaKuErU3NyJMzw1lvFaVneUbu2ejYpvx+oVUs+jxkD3HNPfF2Z4uKii2TBVuPG6vvffVdCRRPlvPV6Qxo9Qbz3HuDz4UxswlbUw1xchv2ohnZcjLovLAeUStrtKQpQr17oe1oakJEB/PdfbN2WLSWcc/Nm+W40ioP5ttvi97m0oDUSJFsA9AQwKux7HwAfadS9DcBiAFaN/fcAWAZgWd26dUt6ICwiarF0Z/Dxio0SJtqJ5B6SBynmpGSOVUjeQ3IO1ReVGan9tmIt2G8n2ZHkhyTXFeOensAYP15mlGqzujvuKOveJcaWLWTlyuqz7XPOkTDD228v/Gy9KKVfv8T9XbRIzCrVq5PNmomZJbwNk4m86KLY49SuMViuuabw9+2TT2LNW3Y7OXu27D94kPznH7l/pQyUB5MOJPv3WgDVkmm3/Jp00ll6hF6YYiW5ickTPiiRRA1JVmWsWcdE9dW4asVCIf9HSJ4gZoxUYdIkbcK/5Zay7p1g61byiSfIjh3JQYPEBh3EFVeom2dq1CD37JFVpYWJsClO6dKl8Nc2ZIgQbUaGEHCbNrI6NhqdO2uf12qViJ7CYvx48qyz5LytWomPoxygpAnfBLEL1EfIads0qk5LiGP3zGTbLb+E351lR+qJSl9KZE1RjjVQSN5CsjHJK4rQhpPiE0iMQCDAlStXcv78+czLy0vqmHKJY8fEualGJDVqlL0df/lyCXO0WELkVqGCRKDk52svhDKbZVFT48bJE7bLRfbpk3z9aNIdNKho15iVRc6dS66L85a5cqV2lFF6eqzN/wRGiRK+tI8ukEza/wIYWLDtFQDdCz7/BmAfgJUFZWqiNssv4a+jzPLDNWnKQi9HrRTXaVybss6AJEcz+Rl+eLk54R3csGEDGzZsSKfTyfT0dLpcLo4dOzbhceUW55+vTYDLlpVt31q3ju2Xoshs2u2OP3t/992Scc5qkW74m0cQa9aQw4aR48ZJpFA4Dh+W9QLXXEM++ii5aVP8e3HDDeqkb7fLwH2SoMQJvyRK+SV8ktxK8kFKSGMVFn5RU6JSlgPI8yTzSD5WxH5cH/fO+Xw+1q5dm4qiEMDxYrfb+ffffye68eUTl1yiTWJz55ZdvzwebcK226XOlVdqk3CdOrE28pIolSuLvTuILVvIBx8UgTajUd5O0tLEbPPHH1Jnzx5Z7BQMJzWbxbQydSo5fDj5zDPkDz9ESi9s3izPJPyeOJ3kyy+X2iMpDeiEXyIIkGzExLHvwVKYQaEoM+tUFRNlhW3VIhzrpIRwamPOnDlMS0uLIHsANBqNvO+++6RSTg45YoTYXfv1I5cujdtmmWPYMPX4dJeLzM0tu375/dqEXbmy1PnjD20irlJFCLEkyd7hIH/+OdTnv/8WctcyNVWtKiQ+YID620lwpTAgA0WjRpGz9/XrZUVutWri9P3qq7I3u6UYOuGXCBYxeclkA8mnmGhwcLtBn8/Bshdos7Jwzt/gMTdQ1gRo49tvv2V6enoM4QPgdde1JrNnkE2bhgjUYFBfPVmekJcnTrsgOQbjyceNK+ueiexwtI/BbieffZZ87DHthVRmM3nffWTduur7i1LCSdxslsHo2Wcj+3v55fHbcLnIkSOFsJM9b8OG8rZzikAn/BLBt9SO2AkSu5XiRJ1OchjjEbnXC44YAc6dW6fguDJ/BIUoJpJPMJkInT179tBms8WQvdMJfvaZjXzHQto11BtzchK2X2Zwu2W22LMn+dBD5OrVsn3zZvLHH8m1a8umX9nZYrYJRrLYbGLLfuABbbJ3OERqYd8+mXFXqCDkXNjFRtGDzLRpQrw//USOHUvu2BHb36BzOV5xOgun76Mo5PunjgKsTvglgu2UOPjorjtI3ksJUXyNkkCFJD+jmDwi6wcCMrN//HFw717Q4ynzW1+EYqOsQE4OgwYNotPpZMh+D7ZoAeblgWyn8U+bnk7Om5f0OcocHo+Qv80mfbfbJX481c7BQECiVKZPF+dl27bkm2+SR49G1lu7Vuzb//4rA6ealAJAVqwo5BhMBDJwoJC9orOO5c8AACAASURBVCRHssG3G0BMLsFZ/J49ia/l0KHCC7UlW5o1S+19L8fQCb/EcD8jwyAtJOuTVPunPkg1O77HA3btCg4eXEB4ZX/rC1nMlHDQRPiXsshLlqdPnz6dXbp04UUX2fn++2BOTkF73TT+YZ1OCa0rz/B4JHIkEBABsWhStVrJ/v1Td74ffhCTS7Rj1mYT23V0VAspZD9tWvxQ0iCWL9eup1WsVvLmm2Wg+Oyzwg1wb71VtJj/tDT5fcR7Ozj77OLf7xMEOuGXGAIkx5BsRfJMkk9TiF0NqxluF8/LA3Nzwc8+A8ePB3ftKvNbXsRiIZlGUiv8MItkB4o5K4NirnqMIfPP6ZHtzQDpjPpnVRRZ4FJenWseD/m//8nM1mwWc0hGhjYhqiXtKCzmz9eepQdn2kOHRh7z9tuhPmqZPsJXnT71VGKyVStt2xbtmrQWRymK9sBjt4tNf+lSCeFUi0qy20XK2OORwW706MQhnCcwdMIvF3iF4TN8vx88fBjMzg59DwTK/LYXqQQC4KxZTg4a1JYffPAE9+8PxvKT5I2M9Uk4SX5asP9RxjiIB4O0QkwhLhdZv375/gcdMCA++YYXg0GcvEWFzyfSvMnY06tWDR33/feJlS4dDnLFitAx/fold03R5ZxzRFqgMNd0++3akTlOp+SsVdsfjNoJIjgQBu+PyyXrJJYvD+XhdTplALn//vI7iSgGdMIvF3idqY/XL0oxUuQU4sXYJxtqKiapq68GXS6xx9tsoNNp5ty5j5K8itohpo0L7st/JOsx5N+wyOcDU8TZuWhR+f6nzMoqnNmjZcvinU9r8ZDW4BIcfNu2jV/XaJREKKQsFvu//yvcKtvwYrHIYB0+eKjB65WE4/Gkhi0WkUvYtk1CSYNmm6D2vZqu8cGDkizlqafkN+T1SkIWtYFEUxf5xIVO+OUCf7Ec3FZKZNF+ijRyvHrJLboaNUoibKKjbqpWBX2+eMdWD7s32SRHkOxJ8hnKwrYTBOvXyyxSyxQRjIM3m6XekiVFO4/fL9o8hSFeg4F85BEhwHr14tdNTxft96uuEiJM9o0lXmnSJP419euX+K2jRw/xi5CyEvfBB8U/0aWLrCGYOVNMVd9/rx16uWqV9jO64oqiPY9yDJ3wywWGsXzM8EEh86IsrIot7dvHkj0ApqWBS5ZoHWck2SfOvcolubngbzlHXp764qSgfMHAgRIW+b//yQrSouL55wtPuIAMONWqiSNVy2QS7G+jRqldWWs0ivia2x17Pbt3J34zsloleQkpb3mDBskxwfDSoHnGbJbPdeuqh3ouXqz9FlFUf0M5hk74ZY7vKY7NMr+tKS+XXKJO+C4XuGyZ2jEWkpVIblG5TwGSAymRT/aCMpDlToHz2DHJEnXZZTLrvvfeWNJ3OiWGPYhAQGakH3wQfzaqhkCgeDNuk4m86SbtWW5JFrNZ4vh//z3ymmbN0nZsB0u9eiFz3tixiVf9Go2iCBoNj0f6EF3f4ZDncZJBJ/wywT7K6toGTIVUQiBQPsM2x4xRN+mcdpo4oiPr2wvuiYpIFrNInqdyDgPJ5wp150sUWVnkmWeGCDi4lL9vX9meni7x9uHqi/n5Mst3OmXWmpYms+4XXhBbeTCTkha83vhEl0xxuWJn1CUV865WogXKtmzRDqMMZg2bMydUP9lsVyaTulN86tTICCWnU3wDJ7JSqwZ0wi917KWkGyysPIF28XrBNWvkbzl4PMeLzwf27Ak6HKDZLDP79HTwzz/V6ttJqsnQBkheEOc8RoZm+V6SE0n2ogjYlXJs/htvqJs9giuBN26UBVdVq4rT8/PPxTGpNkMPOh7tdvK77+Kft7A5VMtjefjh0PVMmqQeQmkwyFqFf/+NvP5atZI7h8mkvSJ70yZZBNa/v5iaTlK5BZ3wSx3/Y2FkiiUc00hxqGoPErm5arPm8lGWLAGHDgVHjwaPHtWqZ6boD1lJnk9yTcH9Wkq1VciRZSFJD8lLw+oGs24FQzxLGHl52sSbni65WDMyYtUY1cwJ0cXhkFypWkjWhq9lpy9pmeOHH07sgHW5QiGUWk5krUx3/frF90EEr7F9+9Q/9xMMOuGXOhoz2UsNBMCcHAvJSZSZa5eE9cvB40lRUUj+TnIc4/s4DCS/I/kl1QcGO8UkVMJ44QVt4nQ4xDFa1OxQaWnkhAlynqNHycmTZdafnS2hhQ5HcqTdo0fRzl/csnJlYh+BzSamnEAgfr3ffou999u2kZUqRYZlhkdBOZ2i7rlxY8n/Dso54hF+KpKY64hBDUg2x/jw+YBvvwWeesqAbdsGQVG2AwjEPUZRYreR6tuLAlL7PMnDgETXUXA2ADdA8uP449QzArgAkvI4R2W/GcB8SFL1EsTnn8cm+g6ibl0gM1MeajQsFrmx3jgJ7j0eYOVKufF33CHJrxVF2jMYgNzcxP0zm4HLLwdmzACys5O7pmRgsUgfwhO1h8NgAI4dA7p2Bb75JvQjigYJVKgg11WjBrB3r3q9jh2BnTuBmjVD2+rWBVavlkTmc+YADRoAjzwi9VauBBo2BG6+GXC5inetJzu0RoKyLif2DP8nqs1E/X4xyxw9Ci5dKho6AKgohbfNB2f6gUCobN0KDhoE9ukDzphR9LeBuVvAyWvUj0/9G4ZCMe1cSXWV0KAUA0n2pvr6gDSKTk8Jo3p17VnpypXk9derO0KtVpGGSDQDLm5IZIMG8maQihj68DJ6tNjFtdIXOp1kzZrxwyytVlk0FsTIkfHfhm69teSf50kK6CadssC7lPDCdIqa5CXs2vVCArERLeecU/wont9+E8epxSJtbt9e9LYy94OO18BhmnH0xS9er6iE5ueDPp+TIjf9GMkKlPUKaSRbU8xcQYftXKrn7K1GMgX6NInwwAPqkSUtWsj+P/+MtWPbbGT37uIgnDhR2qhVK7U2daNRSHf2bEm4UljBs3glLU2uzeuV9qtUibSl22xk167aETfp6VLn6qtDCpykmHWaN9c+73nnlfzzPEmhE36ZIZvkYgZjzpcvX06Xy0Wj0UgANBgMdDjM/P33SAdvTg44cya4cGFyTtpAADznnNAAUquWvEkU5dbne8G3F4J4Caw2VPt8Pl/ozaLQ58iPvS6Px0DyVZKJZHQHUwbQNMpgWpnqkT8F2LxZ5Bmi5YKLgv/+k1l0cKYe1JhftSpU54cfQrNdq5W87baQauXy5UW38ccrXbpE6u1//HFq2jUYZJCaNk3s5y6XXJPDIdd99tkS7ti0qfrxLpfINWzbpn4/335b+9z33lv853WKosQJH0AnAOsBbALwjMr+SwD8BcAH4MZk2jw5CD8W69evZ//+/dm8eXPedtttXL16PMPNP2PHSlx7erqsVj3tNHDFivi3y+cDu3QJEX5GhpBqso/QHwiR/Z5jQvR4SYpPZcApjlnH71eXXMjPB/fsAcVk8yDjL7baS3ICxXSmEVp38CB56aVCykE9+jfeSOIJhUFNwycvTxKdPPCA6MariYQFArKSNFqeuEqV1JO9ooi8Q/T527cvftvXXENu2KAdfWOxCKm3bKm+32bTJntS5CLU2jYaQ3IKOgqNEiV8iEftXwBnALAAWAWgSVSdegCaA/jyVCf8WARIXkPSwTVrJBlItMmncmUxf8Qj0bPPDk8IDmZlJU/Mc7aAf+0G35gPVn0rRPanv1fsn4dq0erXH3+Efy/mDK9jx1hFSYeDnDIl8bG//CIx9Ioi8fTvvBNfwC07m/zkE5mVDh8eaboI4tixpIk2UFCSqn/66ep9ystLPnZdq9jtyYVD1qkTuwrWZCIvuijubT56lNy+ZA/9zZqHfB8NGkQmNNdRaJQ04V8IYEbY92cBPKtR9wud8NXgIfkhH3+8Ck2mWMI3m8GvvpJbs3Ur+OCDYOvW4pxdvVpmzM2bi/MXAAcMAI8dS/4xTlsvNvsg0eMl+f716pIhfLVy9Cj4xRfh20yUrGF1SNakpFA8QjHfLCSpos8SxJ492g7Qdu3iP4p582Kdng4H+dJL6vV37iRPOy1EeMHwwHA5Z6+XvPbapInWCyO9SHIVrN0emQQ8HGPGFM+EZDKJAFqiehYL+dxzIZ0bh4Ns3Zrcu1e1W9nZokhhtUr3q1YVy5GO1KCkCf9GAKPCvvcBMEyjblzCh8TdLQOwrK7WAoyTGH379o0h+2CpWFG0adLTZQAQHwDocCicM+d2/vZbDdauLWagGTMSP7pAwECPJ6TDP30D2HwEaB8MNhkGfr+25Mg96LANfs/OFn/F0qXh9RRGLl4zUwYBM2VxmovkD+o38p9/tCNiGjaM/xAuuUT9OKdTbM5nnikEP2CAEFqPHrEzYINB5BVISczRoUNS+vUBgB4YORa9mIW0hHWzwvumlt3q4MHiOYdNJvK66+gzWjgUj7MWttOFLF6DH7kWjSLr7d8vZpjZsyURSRxce22sX9nhIBcujP9odCSHkib8niqE/5FGXX2GHweTJk2i3W5XJXy73chzzkk7PosPL61bN2AgYKLPB/76K7hhQzLmnGkMBGrR75cIocI4YIvqrA0/3uuVwebQIXDgQPDZZ4vSlomiqhkFLbEss1nkdeOhWjV18jMaI2f+wcxWWhExRqMk2CiwUfsU0G2MJW0C9MBEL4zcj8q8Cj+zM6bzCOJLKfgAugCOASSS5ttvY69l7drkBNO0wjitVnLlSt5jG0MHso9vVuBjOo5wG+qECN/hEIGzBNi9W/vlq2vXhIfrSALxCN+gHaGfNHYCqBP2vTaA3Slo96TFrl278NRTT+Hiiy/GgAEDsH79egDAddddh1q1aqkek5fnx7p1+ZBxU+ByAZMnA/Pn/wvAB6NR1qyceWbswqnw42Rh1HYoyn4YDLKQSFGSX2xFSl2/X0pk24mhKIDJJOt10tOBF14AXn+9cG0IfABUDjSbgQ8+AByO0DaLRRb9PPdc/CYbN1bf7vcDeXmh714vsG+fbFeDogCjR+NwIBe9ewD2QYB9IHD+HWYsr2qVJmDEf6bqGIdbsQytsAu1cCnmYSVawB/1rxkc3YOffQBeA3AvgD+dPvx5dC2OuY9F9qFevfjXGoTHo769WTPsq9ECXwZuQy6cYX0xIg82vIvHZIPPJwvD7r4bKPgta2HXLsBqVd+3eXNy3dVRDGiNBMkWACYAmwHUR8hp21Sj7hc4hWf4hw8fZo8ePSJm5xKa6eD8+fNJkj///DNtNlvMLN7hcLBChQoR26ZPV1fQ9PvBTz8VO/6RI2Iy2bgR/Pff8Hpq8ezJzc6jtxUmIki9WCizdSNFRiGNIpeQzLHnat/wBQvEfnDeeZL9SMOmLMgiOY78/WnSETXjtVi0p6WKEmsnN5vJhg0ZUMDz7gEtg8L8Iy8oxDMZvMIxnn+iFddWu/i4kzYHdubAxp2oyWsxmXkIndOncu4cgE27gqaBYMbr6bQPtvPVr+8je/cmmzUj77pL5CASadxolebNOWeOtopxWyyK3GAykU8+Gecei+9a7YXCZNIjMVMFlEJYZhcAGyDROgMLtr0CoHvB5zaQN4EcAAcBZCZq82QjfL/fz+bNm1NRFFWTTePGjY/Xa9SoEc1m8/F9iqKwQoUKfOWVV+hwyGAQL9Z++3YDnU6J1mnfviBGvw7ougs892Pw8Rngbk2Bs8KRPSlpDtevT8VPKZhasTCJYm5OwdP5hTIAppF0kjPMZNPqYv+uXp189NH4WuwmUyhLVFqaxKUPGMBFdRU6n410huMlEANtNLR/lWPRm/4o52w27JyOq/g72ocidQwG+lXOm2cAH7sysm3nc+DEJmH1DAYh/RYtCkf2RiPZpw+3blW3WhnhYX98FrNjV6c7+MknIv2vGtjk8XDsbT/zdusE1sDu413MyCC3bk3Bo9RR8oRfEuVkI/yZM2fS5XKpkj0AmkwmHivQC9+3bx+7detGs9lMk8nEtm3bMjMzkzuP7GT7G0y0WsHLL5fZu9rt27jREtl+MxDPgXhBSMHyKlj5TXBHVvKPJJ7dPhAAP/usJH4GyaRZzEz+IcybR153nSS1fumlghj6o4yQwZgO8gqQTRXyyb7ijNy6VRYeaZGjy0V++aWEZP72m8SXL13KMa3NdKkR/kug9YYbImbwweKFkeNwCzMrtpPQ0I4dyXvuUSX8Y2bwrm6xbbe+O6qu3S6RQldeqS79kJamHpmUKfe2WzcVJyuymYnInLfZBhdvtk2hwyHjX7t2Ub7kVavIatUYSE+nx5bGfMXKoc4Xecst5TtH/YmGeISfChu+jiSQmZkJbxzxLKPRCGuBcbNatWqYOnUqjh07hqysLCxevBhNmjTBwDkDcccgP3bsAF57DUhLU29ryRJ76IsB8v5lKfgMwOMHstzAq/MA+AF6gOMG4iAIMRQHv0bvR+S+Q4e09xcdLgD2OPufBdAkuaY++QTo3BmYMgVYsgQYMgRo0QI4+A2O35h3ICEIswFkEvhgLNCsGXDuucDRo9pt+3zAeeeJ2Ne2bcC99wK9e6PZbh8Can4RjwPVd9VFPmKN2Sb40QyZGJ72NLBmDfDrr8BNN6n+oyoAJqu4HPY7ozbk5Un/vF7AZhMfR3T/AwFxChkMQOvWwKxZQBO5t19/Ddx2mxxqMgFnnw38dOt4NHFuP95EvtGJJWyDSfldkZsL5OQAy5cDgwYVVAgE5P7v3w/l6FGY84/BSjeewNuYcNcsNGigdXN1pBK6WmYpoVGjRrBYLHC73TH7TCYTevXqBXPUP6I1yrs1bcM0ZLmJG5sAF16ofa4jR3Jgtxf4GCtClsZFwRcAxi8BNr4MXFcPuP1WIKM7jgtd+kcD3r8B24dS31DAOGSkc5cEpk0DevZMdAeA5FU0g8gGMBjAcITiAJSCdt4E8LjKMRsBfA7gP4h6ZjcgzwM8/nik4mR+PnDgAPDeVGAwgWMAngcQ5peFJwD895981lLJNBqF6Nu0ke9hjt3zALTdBcyvbYTPXODcDRgAjwvHVj0IKz6Oac4LI5ajFTJdF8iGuXOBbt2O7w+Oux4Afa4DDjsijzf5gHuXqvRz9Wr563AADRuC69dDCV5TQZ+3WM/GgXlLcE4rC+xh46zDAXz6KTBiBOB2BwUp7wZm1gM++QSB7BzcP/MWfMVeCIT92PLzgS+/BN57D8DixaKoGY2cHGDkSKBDB5VO60g19Bl+KaFjx46oWbNmDKkDwKWXXophw4YlbMNmsmHqemD5HiBbI7ACAPr1U9CokV3+MfOgSvgAkL0XmLMceGQyUPEG4HcbgLoAHID7buC7ioAQbAiKIiTv9ck/9PLlwC8zgI0bgUAg9toi0QAyY092nkEAAwFMB5AJYCSArwDsgzrZTwLQAjJVHwWJEO4A/LMyNGKFw+0Gpm8G4JNQA4tKk4GANtkHQ5U2bxbSDI/iKcD0ccCAJSYouRUAjwNYez3w6VK4DQ0w2Xl7zCzfDxOOwoXvtrcWCeHrr49oVykoVgA3rQEcHkAp6N7ph4E1I4CnF6p3FwCQmwv/WonbDWI/quIiLEDTo4vQsUMAVasSI0fGHmo2R6kPd+wITJoE3w8/4Uv0hQ+xz/94AFBOjnYYmNpAoKNkoGXrKetystnwSfLAgQPs2bMnzWYzDQYD27Rpw3nz5iV9/KvzXqV9sJ2mV8B+U8CVe0CPii4NCbrd3Thhwuns3x8880XQ8kqUrfc5EE2iJBwAMh0M2MHf+oKTJ4NaiUn+2Q5ecA0IM2iwyoKvBg3M3LXrNNX6UswkX6JWNjDt2H4jyTcZX18nl7IYK/pYJ/nvEO1Y88tM5M31yb4G0qZho09B2Y0avAcf8zTLf6zfwMOmt49gl0svpBuRET4+KMxH4kVawbKwDnjtzWCLe8FNlZWkJBk8Uee8AItohjvGhD97duxdzskhv/iCfOIJWcibmyvb27WLdQ+YTGSvXgUHZmerRws5neRnn4VOsG4dOWNGgogqHfEA3WlbVsgjOYXkWIarQAYCAfr9/kK35va52X18d9oH25n2ehqbj3Qwz6vm2HSQ/IjkUJImHs4DrxwD2gaD6W+AGAjiYnXnsft70HdY2pFwy9j2vX5w1E8gomQgjEaFl1/eUKU/wRIMuYzd5/WHRNzUi5Pkh3HuzgxqR/dcSbZtS5qiGMkJ8meQPpATFDINsXWsVtIWFXapJEfGaiXnuSdZbWg1Gl82cmW1orcTUSwWSYGoJVEc3QfYmVvgMN6EM2hHjkq1QMxCqB07IlUkXC5Ze7Zrl6zxqlgxxOlOp9TdtSusgS++kIE3uDLZ6RS9Hbdb0jsGxe4yMuS+P/CAOMB1FAo64ZcJFpHMoBCciyLp+2ZKWs7cn8lxf4/jou2LGAj0YmRMvZmiP3OU5GcMj0DZehj8YwcIqzrZAxJimejxZLvBFu3Vj7dYLMzLOzNhG9EluZW71eLclT5xjjud3DuSbG0gHSAzQNpBvh1WJxcSoeN0SkhKWpqUTz8lX3DK4OAEaS04tojkPOKlrnS85iBeAvOMRW+nqCUAMBs2bkR95sHCRbiA6TiiWj1ckj4QIDt3jlVqMBpFXYIkDx0i33uPvPNOUWguCDqLxOrV5EMPiZhOeCLxG26IGbB8Ngc5YkScZ65DDTrhlzryKYk8oi/LQdHHTyV8lJlvI5K1KdLC+wv2HaHajLpRI/W1ADVraj0OkV/w+cFcD3jHFBCu2OMrVAA/+gj0+SoxuZDKUEmO8BVqm3UyEhzrkuPXgfwdpMo6BH+uwsDpBpEbXr6cnD5dpBZckIHiDJCLQF5VRMJNS+OA9688blbbXKGI7aSA9AMA82HiYaTRiryYalaznwMHyp0dN04k/rWatFgK+5uNwtGjmm8nW21n8dChYrZ/ikEn/FLHdEpyjujLMpC8q5T7soBkFYYShlTktm3jYlbzms1mZmYGFz6pEa2FpBB+thvctEPWAcyZA7ZpI5m21q2LL+OsVdQ099WLtvBZIJBM1jAD4w1ERw6n88F2HzLvmFd03KMXWykga4CcBxkACkO0RiNZpw6HL/qQbR62c2U10K0UQga5BMsQPBGhlWNFPmvWDPDAAcl9kmihrt1e5B+nYM8eTU2ivagWkRlRR2LohF/qmER1wgfJW8qgPz6KiWkBgwlDvF4v33rrLV5//fV89dVX6Xa7SXZirB08liSjZ+PZ2eCLLyYnyZztBp/4VZKsVHkLvO9HK1fssSYxw7eRfI4ijxw5y//777+5cGEY4c+AmGhU2zGqXKOU3FwbT6u8l88/T/LFF9VnnWkgp0Fs/2dqaA4AYoO+8krxXJpMkuZw1y5m7dvOw3YlYiFVcMYdUFsUVZRSyNy4fij81XINOxlm8FzbWj53/2EeOCD3Viu3SbAYDGTPnsX6cYq9qG7dmMa9MPIL9KHFIs5iHclBJ/xSx0EKQUVflpPk5DLsVyLsocyig1o2TiZjmvH7tVf9hpdAADz/E9D6aihayPIq2O4zY9xVvGIKM1MGUSdFP2ff8V7feOONbNlSNPW974A8C3EIvynJ1xnwW+j1hgaJY8ecfOONpwiI+YJ33qnOcE6FHFWXx6WZn3xSfWCoWpXct0+cjn4/s7cf5LRL3uTfxhYxkTkEGLBai5/EHJA3idtuk1XE778vAjWJFDPT0sTovm5dzC+iYsXEp6xRg8U3u/z6K3PgoAfi0M2FlQdQmXWwjRZLCto/haATfplgBIU0g6TiJNmZpZJsO0nMn/8tJ05szGXLKnLlysu4evUUDhhwN59+uiV//vk6ZmXNYGLbePJl9mbQ9XqsFIDrdfDH9aDPp2gQf7SpyUyyw/HrqF+/PgGwUT3QbS1goRWQ6JuI4xwkh5Mks7I2ccKEW7h3bzVmZjZm//6jCASOc3Vg/Hi61Yjcbo8kxqwskUCIJlWbTcoXXzCwdRsPmaoyBxqhoUGiTjLKJrrkwsaH8D7TkEUTPLzywmOhLubkJGbtihVDztMoJJMp0WYjBw8u2m8wHE9d8w9H4U7+jvZ8FQNZDXsJSOpcHclDJ/wyw0qSD5PsR5kRlh+yHznySR46FBJgc7vFJNOunTh07XY7a9asyezse6j+thJbEunkv7NIZvQx2jK3X8bKdf+hovjpch3l00+/QY/HdLxN9fasDDqnO3XqJIQP8GiQhc4AuRNkFshskLkKyRsZegb5bNlyIwF/BHmZzQEOGEC+MmgQVyoKc8J2ZgPc17kzSdLj83DquqkcuXQk/9q6mPzww5hEKAGAPpuTey+8jl4kSBPocBSZ8DviF9qQe3yTogRYoUJYKPuqVRIjGW0yMhhkW+fO5MaNqr+T4cOT60bVquSkSaSvGD/x7dulneCSCbNZxtFFi4re5qkInfBPcGRnZ3PFihXct29f4spJ4MCBA/z+e4NqMvHVqyMduf/73wCSl1Nmxy7K7DrWQerxgZsPghsPapP02FVgWvQM/56WhDk7gjwcjmzeeecnjEf4gYCdweQnCxcuFPlogHkRs2aQXUDeDbJf9O/pWa5a1ZoZGYdptRWc33KU1ipb+c2iWXQ6nXQAfArgSoB/AOwLsGOHDtx8aDNrvVOLaa+n0T7YTsdrDnZ9tQk9diFsPxS+gadZEQcJBHgGNvFHXEMC3ILTOQp3cBJ6MBe24wNDwGIRUi4YNPJg4UT04CsYxD/QVtO5+w+aqMbR22zkyy9TUjC2aROfrY1GBpwuzvr0X776KjlqlLy45OVpSyOrFaeTvOqq4pH+wYPk669L/vQnniC3bCl6W6cqdMI/QREIBDh48GDa7Xamp6fTarXyxhtvZE4xPVhjx45lloZSpscDusJCLk8/niT7L5JfkfyD5NMUE5WZ/oCVK/eAd0+VhV3mV8AsFY3+QADce0zqGF8OI/zGkwjFF0MeVmseDx6sSI8PdKsMTFn5aSRDi3KmT5/O+vXrc5wCes1RjTkUbp/0Ont/25tNhzflbd/dxsz9FUmCE/6smT0JXAAAIABJREFURFPnR4jWw4nr+hIDbbQ+ZqHNaKBa6GqValXY5pM2NLxsiMwB/JKZ77STIPVBeJkOHKMCPx/FO9yGOsxCGpehJZtjBZ04xjRkMQOH+RsuO97PcFL3Q2E27LwBk+jAMd6MCfQrxtAAUVAmoQfTNOLou3f1k/XrJ2TqfFh4GWbTZcyhwSDEnZFBvvsumR4/8ZYq6U8uz26qUwA64Z+gGDduHB0ORwTh2Gw29unTp8htLl26lHa7nTt2qN/6vLxQzlwAbNGihUZLHopz2s8f1//ISm9WOj7jHbGkqurM/Gg+2PMbsNkIGRjMr4C2GmtUiSM9/Qj/XNKSi7aLjHNOwYIwj08ifR77pWlMjwKBAPOPvMdAX6PIJDhAVgL9o8FluwzHSdr4spHO18A/d4KNPlLTqwcVlWTyAGiob6DlFYuq5HGjhxTuh4V2HCNADsP9zEYoptEHhUeQzjrYdvw6K+NAXHPPbtSgAj+dOMaJ1t4c1bQpXwH4OsBrAL6GphEhleEz/Bd6bxCHbAKWfgeP0q7SRrVq2v7eeAFFvXsX+eepIwWIR/i6eFo5xpAhQ5AbrvAIID8/HxMnTkROTk7cY/0BP37a+BM+/PNDzN069/gDv/nmm5GXl4fhw0XPKrJtYNIkUdEFAIfDgUcffVTjDGYAlQAY0PWsrtj3xD7M7z8ff9/3N+5rMwgBmrBqL9BvCnDpaJFi9viBC+oATasCh58GDj4FXH/5ChgMvpjWPR4L9ls3o+sEoNkI4MU5wM+bgP9bLt9/3nQMHb+8EB8sfhfZnmwAgKIosGZ8CWWMH9gPYA2AfYChH9CkagA100QwzOD1o+cSwHc1sOE/9UvjBUCUECVsAFwXEYrXC6cbuHUV8MCfwFn/AfACO+cYUAtVkQcFVXAAd+BzOBF6fkYQduThCQw9vs0LMxagvcY9BjKQhZrYjRy48KLbgYczM/ECgOcgknKvIRNnYDFsCBdYC8CSn4X7pnRSFXSLxmj0Rx6iNZVF00xF3BUuF/Doo4Az9hAYDEBGRsJT6igj6PLI5Rj79u1T3W4wGHDkyBE41f7jAOzL3od2n7fD/pz98Pg9MBvNOLvK2fj8ks+xZ88eAMDQoUDTpkCPHvJPbbEAK1da8eSTRqSnm+B2u3HHHXfg9ttvT6qvJoMJLWq0KPh2BqasM6DvFCDfJ7EvS3YD7y0GWp0GnJYGOAuUKQcNGoypU7sjJyckw+hw5KN55wW4fkoOfJRtb/8hJd0CuP2AN7Ada//bjkU7F2PY0qFYfvc6pFvTASUHWVnA9Omi1Ni5M1C9urhmHWbA5AdmjwHO3Qu4vEDVzsB+F2JQ6ULgiQXA2wAOAWgEYKgCHPiH+MUNjJpacN0BADOBS9KA5Vl+yEjjR2OshRtW2JEf0a4FXlyAPyO25cOmeV8NCOAIKgAgNuFrRGdUyAXgRnf0w1CMQT+4YcUl+B3D8QBq5BYvSayiAE8+Cbz/vkwGAgEh+csvl3wMX3wRO2mw2YA77yzWaXWUIPQZfjnGJZdcAoOKrG96ejpOO+00zePu+vEubMvahmOeY3D73cj2ZGP1vtV4b9V7x+v4/UCfPpLMondvoGfP+rjoonzMmLEI48ePx5YtW/DRRx9BSTazeRj8gY64d7oPuV4he0CIP9sD1KsALNgOrP/PCMCFxo03YfbsK9Cu3XxYrW7UqLEPL7/sQb2bv4CPPqRZgJ5NgFuaARlWwEch/GC7uV5g59G9GNa/ImCxYF/bbLSqAQwYADz0kOTxHj4cOOoGNh4EeqwBWhSQPQA8N18khiNA4IV5kl7lIAA/gHUAuhG4YS0w7jsg3SPF4ZNr++cwCqT+vQDewBZUgxWx02MfjFiLxmHfTbgY81XvYx5smIweyIELDhyAH+pvdTuRi5F4ALlwwgcT5uAKNMHaJJ4UAKMR/Y1jYTfF6m2fdhoweDAwfz5w//1A377AhAmSQ8ZuB/r1i22uf3+gVavkTq2j9KGIyaeYjShKJwAfQJTXR5EcErXfCuBLAK0g/0M3k9war83WrVtz2bJlxe7biYwNGzagTZs2yMnJgd8vCTQcDgdGjx6Nm266SfUYj98D1+sueAOx2bUq2Suh5lc1kZmZifDnbrFZMHjwYDz5+JOp6ffBDTjv/1oix5sbs69eBnBPa+Cbf5qhQcUz8V/uVDxygR9NqrpQ1XErKjteBVAVY/8eix/X34nPr/XAHwCgACv2AN0nAEdVcgG0sgDLnhO63QugoRnw+ABQyKnNS2b8nufFhEnALZmh4wjgjfbAkIuBfIsBXiUAkw/Ifh2wqsjgH7ECGW5gN2piIF7DNHSFEfk4jGHw4m3I8AAAAzAFm3EV5kfM8nPgQFv8iUw0hQk+fIq70A9fFjgIDCANyFUcMAU8mImrcKsyDl4aUQX7sRvng9gf06dzAayI90BMJqBSJSArS0Z6s1m2paUBH38MT9uL0bFnBSxdKm97drvsnjMHaNlSvclVqyQJT7TFyOkE9u6N0s3XUapQFGU5ydZq+4o9w1cUxQhJSdQZkm+ul6Io0Xnn7gRwmGRDAO9B0hXpSICzzjoLK1asQL9+/dCoUSN07twZM2bM0CR7QJzwAaon7PD6vZg0aRIqV6kMk80kw/OZgKeXBwNzBuKNBW/A69dOw5gsMqwZ8AVi7fIAUNkBXHUGsGrfP/h+3RT8vt2PHl8Cja/IRpUq/4fTajbHkCFDcFPTyzHmei+cFiDdBqRbgeouHDfxRKNSgcH91zOBix8BvM9CpuhXAh6fAUeWNIbNZMNhpxP7UfF45igFwHMLgIMj0/A/j/yP+EzA3HqAN+rlxm1S4LniUmRZqqEVlmMsbsVBVMF+1IYXLwAYH1b7/9ALMzEO+chXAK8B2GCsja7Kd8hEMwAKDPBjBB6AHwqOPvMoBj9+BLXtB9EhMBMN8C+uxQ/IphNu2LALdUAMQbRnwQ7gedjgjWed9fmExXfuBJYtAz74APjmG2D7dqBbN7z7uZC9ogCKQpx9WhbWD/sVLc/M1mzyyy/DkpuEwWAQc5qO8olUmHTOB7CJEhTtAfA1gGuj6lwLYEzB528BdFCKYis4BXHGGWdg1KhRWLduHX766Se0b6/t4AMAq8mKdnXawaBEPlqTwYTrG1+Ps88+G29OfxPG64xAfwC9ANQFvPRi4KyB6DSuE/wBv2rbyaK6qzra120Fc9Svy2kG/ncBUDsdMBmA/2fvvMOjKrcu/jtn+qSAoQWESOg1BAEBERERREAEBBsKiICI2FAUxateBeUqKoKiAioIqBTpNqSKSJESQHpL6B1CyiTTzvfHnplkZs6EQNCr98vi4cnM6efMzH73u/faa2tokIs0qNoGOODE8RO8+OKL9HnoViyG4H62Ze1QpSQYQr45NiMMPgmrK0mrxbRrQFORDlbNwNPDy7XXVabKmoU8ufksFTlOvHKUaerdgWOYzDYqdrwPu0kM6sN3KYy33sctys+0YhlfmPtjuL45Zb+czafevlwkFk9Qhyc70AmoFljisEH/RyBmOMQ9Z6DmsLOsaPZHYL0TKzupzTK1Ha4nRvDWuGhOZMfyOzdwnAq+rfw9rlTkA/sMqA5YqYOBucBO5Vk8kdqa+XHsmDSYbdAA+veX5IbBwIwZErZxOKQDpMejsH2fmWcfPifJjxkzdA935IhMFkKhaRLvL8bfE1fD4F8LHM73/ohvme42mqa5gXSgVOiBFEUZoCjKBkVRNpw+ffoqXNo/E2fPnmX48OEkJSXRpk0bFi1adFn7T+o8iThbHFEmSepGm6O5NuZa3mkr7JDPt31Obq1cqIh8A3wGVENj7eG1LNpT8Pk0TWPtkbVM2DiB5QeXo2ka6TnpvLHyDa7/9Hpu+/I2Hk5+nOT4aOwmib1bjTCoCTxQX7z1gf4472IIy0QCM2fu4cSJ4BUvLYM7qkOVayQBq/qu2+2Ffh544g5whHTZq1waPn4G7Kc6sG9pc9wuCy4snNIq8JA6hR7NbsNTIR4WL6Z340coaS2JUTVyfPFXPOOayErtNn6hNU+oH9O17K9opUrzRUJbHGEcHnwPMl8MpAdQQWYMmXYPmBzQ+lWonucCO7DysPlGylbsQE5OeoHPXXAfsIcSHOcjbuJ24Gntfb6lG46Q5G/QZMjlgjlzmDcP6teH2Fho1kzGgDC2FjZmu7uQka3i6f0wF7ccDFq/ciXMn69/dW433H57IW6jGP8VXA2Wjp6nHjrxLsw2aJo2AZgAEsMv+qX983D+/HkaNmzIqVOnAg3P165dy/Dhw3nppZcKdYzqpapz4MkDTN82nV1ndtGofCN61O2B1SgGIdejw7XzIdudzcI9C7mrVugkTZDlzKL99PZsPr4ZDQ1VUSkXVY4TmSfIcuVZjrVH1vJuu3toXvELTmRBw3go4yMV2UzQtyF8+DuwR/86NA2WLXfT84G8Zd/uhDPZ0KUmnM8Bh288cHnhtB3O2Aj6ptUsBev7gys7hmdm98KZEzxjwB3FnJPDeePzH3lt8WJiB8xmY+lqPFOlE/N23EmOlseCysoxsHy5xi+/wKkqu+FgS9BCe7hagRIYseCOyYVKhPcTNmfBjaNhbweMuLGQw8M5u9jCARbqNtXVhxMzlUkFwIPKD9xBSdK5lWXkYsGKg1n04CGmB/aZ6rqPgT3zermvW6dzYB9UPJznGsy5JxnTaCrmEa8wbJisGzhQn66pqvDmm9KKtxh/T1wND/8I8tX2oyJwLNI2iqIYgRII2+0fgQULFtCoUSOqVq3K0KFDyblqc9ZtwN3AdcBtwErGjx/P6dOnA8YeIDs7mzfeeIMLFy4U+sgxlhgGNh7ImPZjeKjBQwFjD/Bg/Qcxq/rGxagaibPFRTzuv5b/iw3HNpDlyiLblU2mM5P95/cHGXuALFcW76/9gipx0K5qnrH3w++dR2Ik2u2wZo1GVpaEDjRNweTbad5uMfzhHgNBC/9zm4SRzp6Ox2jUzyl4zyXy/qp30F59Bdavp+T362jwURyeMGMunvCyL4+wJGUsNk2vi7yCQXmHR5VmdLeDWSfkYXbDmE1byCKKXCysoxkvM5v5HGEDjbiG4/oPJB+sOLiFFVQmzXdWcGOiE99Rm510ZgGJHGAtzfMejdXG866RZIfn0XWRi4Wt1MeEkxjPeUaMgB9/lMFi7179fcxmeOaZwh2/GP8dXA2D/ztQXVGUREVRzMicc0HINgsAP6G7O7BMuxr0oL8AAwYM4K677mLTpk0cOHCA0aNHEx8fH1YQdfnYBDQH5gKHgKVAB77/fqrugGKxWNi0aVOEY6UDE4F/Az8BXjxeD6sPrWbZwWXkuIOP92jjR0kun6x7JJNq4pGGkYnUU7ZMCTteJOw+K4Y5FN/ugI7TEOP8EKgVwreJioI+veG22+CTT2DqVAu9k+7DokbmrGsqkK+QquV1YFAhIeFQhD08UOF3Lhq8pDmhF1Oown6u0c5h1qFU2pQcSk//gOvP7GIZbYglnaARRnWglTxEG/U3HjwDZp157dRvFfpvz8COAxWNuuzAggsFSGYXn3M34ERnOMNo8GIhh3uZwSx65F0XDlb5irfSqMwamuNUo3gxapyMnHY7WTe05kxuQdSZ4PN5MXIvM1nOLSyiE1lZwse3WMSw66FUWJC2GH83FNng+2LygxFLsxOYqWnadkVRXlcUpbNvs8+AUoqi7AOGAMOKet6/AidOnGDixIlhy9PT0wuoQC0sngeyCP6hZVOx4iFd7rvL5SJed668GZkhPA28BnRnw7GGXPteBe6YfgddZ3Sl7DtlmbtzbmAPq9HK6r6refPWNzGpJlRUzKoZq9HKxM4TqVm6ZsSrvlwWT49ZkJ4DWU44cA6qj4Xus+BoJuKaxoA6ACxVJa4cEwMVK8LSpVC7Npw6BYMHQ7+BHprkdKdpxRvkwHruggYcROaTwFnfYGO15vLyy28QFZWfdeKVmPotr8EFuN5TlZn0wEIGXmbgZDgSXbwY2EPVvNynSBKzGes4Rxzv8gx12UJUzC5o8DTe3GS6qy4e8irk/ADmfLb72ovQeY+GPQKDyQDcwRquMdeldOngbUwmaNpUIb3vM0y2P06UkseHNOJhEv25heVUZw/9aq9my4EYKs4ZC++/DytWYF/+HXa7Pk8iIQEMoZlwIBsbz/MOy7gVkM/CYBD+vTVk3LXb4amndA8fhEOH4MknoUkTqQPZuvXS+xTj6uGq8PD/DPwdePgjRozgX//6l+66MmXKcOpUOCe68ChBfmPix9q1Rtq0MZGdne8HbTRSv359HQ9fA2oA+wJLHC6o8C5cCHFQbUYb2wdtJ/GaREBi8S0+b8H+8/vJdGZiUk2YDCYW3b+I1omtg/b1eD0sT13OsYxjzPhjBj/t/wmPVngmTwmLFE/N2A4ZepEQoGkFGFlF+NtNmkg8+OJFaNUKUlIAE7wz+h3c17t5cemL4EDCQaF2KhNYArbbbPRr7eGt25xEmSUnMG1aT0aOHM6hY/E4yq6D24ZB/BYpmNqpwoIfwTmIKPaThYYwb6xE8RMWKjOz8gu0Sf087NodRhjSBj75BQjhpZurm2n2bDMucpF222vz4rjvKKnzufuRi4Fr2c1ZqoTdXFQULFkCzdT1sGABzJwJaWnB/Ei7HTZulIq6EIwcKTH2/JNTux3+/W94/XWRUgiHBihYrTBsGLz6qrBwHnoIFi0Sjz83VwquPvxQPrdI2L0bbrhBGEEul2xrtcqttGkTeb9iXB7+VB7+/zJKFCAKYrFYinj0srpLmzUzM378h8TExBATE4PNZqNRo0Z8//33OlunAkeDlny3V2QEQuHRPExOmRx4P2btGHaf3R3QoXF5XWS7suk5p2cQj/+TDZ9gG2mj7dS29JnXh+/3fa9v7M8hFU86JQDpOTBpM2REzhWz5aT86Js2zTMabjds25a3zfA9w3njlzfkTT52URDMgB2cPzn56cfrGL9cxZEL6RnQ/Z7pjPi4Dtr9cfDgHVB+ixzDANTywr33A4d8xh4gG4VzJNCarcRTvX/VCBVFFn4+WwPchnwX8QDwMa59Q6i2/iZ+uGszMya+r1t9mx8aBsqQq3tzXi9s3oxYzREj5M1994nVNRqhRg34/ntdYw/w0kvw4osyizKboXRpCdMMHCjPWh9i7OPjxTMHMdKzZsG+fWL0Dx2C8eMLNvYAzz8vg4pfq8nrlcFnwAAZkIvx56PY4BeARx99NKK0wJP+b/8VYziECVbZgAH07t2X06dPs3z5crZv387atWsjhHPCr+2cQ9/gOz1OTmfnUV2//uNr3Vj8xdyL7DqzC4AvNn/B498/Hqja1ULiKKrvHz8D4xGDr/eNcgMX0B0M/ChpE+kFgKNHxRDdfLOP620CqoKzjJNsf/VuJH6ZAg2jwVPbw55v9/L8L17KvwXtukOVytDjVsg5qXMtRiDhLFwTPAXRgN1k0tikYnrwQahSJSie4Tbb+cXdijYbKhDt8gAxSJjtE2AgmvYvJk9+iUGD9nHU/TXTMAYJJIR+VGacrOJmbIQnP1wukTk46GdJRkXBlCkyFTp7VlzoVq0iPBgprHr5ZTh/Hk6elP/9+8sY9swz4u3nh8EglbavviqzrGuuCV5/7bVw001QpkzEUwZh5Up9w374sBQBF+PPR7HBLwBms5mpU6eGGf2WLVsydGhRZQh6k2f0o5H4RC/gbUBmEI0aNSIxMbGAY1zn+5+HWxPzdGbyI9oUTcfqHQPv87N28sOrebEarXg1L88tfi5i1S6AF69Ek9YhRn0Hkm8MhYIY/EildhqcyoRnfoThH0NiVRjyHGz3SyBUQFL9+WEg3Fp6oNRJ+GUpVM30bWOGdA1+T5CSfwBKE06XBPAoEFMKCZPljSheoHTNmrz5zjtUSU+noslER7udKeXL00BJ5CGWsoGVPt/9BeAaJFwnYSGvN4q5c6243cMZSBYjkbHR5XtcvwLrfVtLvVgu3ZgTdnluN3zzDdSsKZWuAZjNpJ6LZdo0+OmnCN662w0//ACTJ2M4sJeSJYM98hEjRFCvbFlZHhsL/fpJLmXYsMtTwMzIkOM1aCADwjffiKEPHTD8MBikELgYfz6K1TIvgZ49e3LXXXfx9ttvc/r0aR555BEaN9YNj10mFKT2/xmEpRMPxF7BMWYCrRDzkUO1OAsDrr+GzzafD1Alo0xRNK3YlPbV2gf27JXUix2nd+Bw55fVVbjGeg3XWK8hPSedDGe+oO4RIAWRiqkLVJXX3gVeMfYAe4H9QBXAglhK/3hxne9yNfIMv/+1IoPUpN8R0Y3QvPAxpGwvMXy/ADSwumHzTDBr0G89vNjCt05FBg0z4ATDEQPea71oar4RIycGvp0Oh9r6LsANPAVMxWQysWvXLv744w+57w6SdP7+h2zwCo3yNP4f0zTgdd9J44HJ8vlYVWhhxFsX3nLDW79Diw2wVssbt8oCq4EEHFT0Z56DHpgYTpcLevcWwzpokCRLJ06UqI6iiMe+bFm+yM6ePXDLLQQ4rh4P9OwJEyYErL6iSGQoI0NCLRcvyuqZM2X30qUpFBwOiTilpuZV3KakwG+/ySzixReDcwhWK9x/v5y7GH8+ig1+IRAdHc3rr7/+Jx3diniUV4r6iDWcg8TzmzOmfUtuq/IdEzdNxOFy0DOpJz3r98SgGriQc4GH5j7E4n2LA7F4VVHxal40NM7lnKPS+5WYe+9cLAaLhHNWIJbIJ0bGH0BtxIDmT/RpyPhT1bceoAHB3zK/0fe/zr9cRbzvUCq6C9iCGHxNAUVnCqNIRWv5TJEsruDynTs/vGAwGKhzsQ5Ho45yIedCYAajfvstpN6CFxN5xQEfU6LEBbzeFWRkZMCtQDPffU8lLCwk496ufEtSgY5gXA/97oKSF/OeRVtYnQB8G4P/IZ4AmgL7sbKeG3QeUjCefVYc988/D5YzyMyETp3g449h5QqNIZ914ZpTJ1DyxVO2TP+Df6ccYdOZBGrWhBdekIEjvxiapkn4p1WrfLOtS2DaNAnR5L+erCwZkHbtEg7/xIli6HNzoW1bSfYW469BMUvnfxSappHpzMRmsmFUzyB8fw+tJ0/ntyObcHoi0GV8KGkpyaAmgxj9w2icHzjzvHg/TIjxKqi/RhLQEfH2CwOPAj9qUtkRigZA14J3N3jBMQJyjDDgTvimvm+FBoZUA+aZZurUqcPChQvJseYwfNlwfj7wM9E5NTkyYgVuZ6j/o1G6tIMzZ6IhVoMnICCfMwooVDmCCRq2hjtWgTnkYbms8Ok6OFMWCQVJnOZjkniMFAoy9iChkPLlRdcmFKoqXnNFxx420zCoEct6mtCa5TiwovliWxaLGHg9QTRFEXXM+vXD14Xi7rthTng0ipgYMfT33gtnzsDOnSJdXalS+LbFKBqKWTr/z7B4/2KqjatG3NtxxLxl5/HvKnLw0DMs2ziEtUfWXtLYA+S4c7i+/PW08UTgy7mASyXrctHny3sV8OoE0RXQlXw3QdVWVeW1pm8EVS/ckgpOFXaVgm9rI8yhhcAnUGNvDQYOnM/58xuoUaM8Pdom8lTFrzg99DSz7vgVu1Vvsqtw5owNKC0hqfwefaGjby64bke4sQd5BtduRkI/44EuAAymH5cy9iChl2OhNe351jkcUpTlCfmZP8tosokKGHsQb1vP2IMY/FX6kv1hSEiQ0JIe/LyD0qWhZctiY//fQLHB/x/DxmMb6TqjKwfOH8DtdZNzxsXHAz1Uq5ZLh5tc5I4GnwRLgcjx5HDv7HtJLJuo/y1Rgcg9WAT70Df4HjN4QqQLNMBjkfyAEUmqKoAJDA0MHLjG171JJ5xj8EBsLjy2Hl5qAzf3Bdc5hCizCTgJO9fs4v33u3DgwBIyM91s3PgqzZqVRlEM3H1zGXIdetbOCSwCBsDpu+FEvhjRzUC4+oIO7HAhEdx65akqXKzoex2FVEqDh8Kpj1ksl6ZC/kE9cgjOiG7k8nJQFkvh9XEGDpQisfxQVanCbdnysk5bjD8BxSGdIsDr9eJ0OrGGlh3+F9F9Zne+3fmtvPECYyFUAQAT8DhQ8tLHs7ltOP7jCE+kGpEuB5+TF9uPQgz1RcRYVwC6kaeL6vFd08KnIPs26NYLVLcY8exSsG4w3D5U9t+O2NtEsJSwkFtSh7+uAafrgDEL4tKC100jfz1aPlQDbgRmkT8eZeA5PLxGHlXWz6FJRZISbrnn+K3QswPY0mEtsBzItfkuJgHJp/iPawLKQuwPMLi5CKf54THAxUowdr9PEwLkg2qE2bwvoredH4pSOP56WxYzl64+sTYnlUjjCAlh29ntYLW6ePXVI1SrlhMYTFRVqp8LK2ienS0sUf+1GY3C+vHnjK1WYf0YLqHoXIyCYbVaqVixIqaQEbagkE6xwb8CuN1uXnnlFcaNG4fD4SAhIYFx48bRsWPHS+/8JyLXnUvZd8py0emr5PQi+mzzCQ5HGIAW4KuYvySuPXUtRyceFa9ek2MZOxm5vsP1bNqyCffvbmm7VNa3/iLwA3A7QWEfFZXoldFc/CMKTqeA0Qzldvuyg9XgkRuh9F4ZGHKRhq0rgA6EdxQHyImFr14G2yRI2CM5gxjfujfRp4gGpg96BVBdgKFIiGU5wn6qSlB4Rc2FGguhSx95HvM/hO23+G7UCnyMjLJZSBuIV4FykLAKuj0I9jOgeGW2MHsmpOc3vFtRlIr8/nscN9105bryJpMY5/yDxnWk8giTqMQRPmIQG2gSdF92u7SE7N79IJoWg6qWQlEUTCaoVu3yaZOaJiElVRWO/dGjEmYCuTaDQXoqh84GilE4aJrG2bNnycjICKNuFxv8q4wnnniCzz//PEhAzWazsXjx4ks2KPkz8fSPT/Ph+g+DK2FdCNF7pe99LNAYsWOhXQsiwKyaceY4xWP2yL6maBM2g42LrosymGgEc9tzkT5ogxDiShVQo1UC3xb1AAAgAElEQVRUVcXtccNxI+weABdvgHJboPYXkHJB1JgsQBOgFmKTcpFShfzQkDz0tnznVhDx0dpIXzXdYh4zYpgjyxvk4QRQTme5FyqvgCPNwK03EgVTKYOWl0wFtxUyQ+Nhso+qiqFu1QrWrtVvMlIQLBbxxuvVExmGUK17PwwGqbY1GoXm2bevyC7s3LmT2NhaqKpCqVISby9KqyKPRxK+3hBGk6II5784jn/l0DSNXbt2Ubt27aDlxUnbq4jMzEwmTZoUppbpcDiKTN10uBzsOrOL9EI1wgiGpmlM3DQxXPbABAGGXwUklHMjhTb2AE6vU+xkHYQFahcphosun9H0EF7IpCIe9/uIsbaDV/Xixi3blnNDzHho0Acavw9TL8jAdAqJiiwElvmuX8+73I0Uevn9FQ8SWpqDePbN0YmxW4F7iOD66yASvcgDqZXEcOsmKSJBkXh+mLH3rQPatxdjPH++VLJeDuLjYehQ6WI4b570pO3QIdyLVhQZEM6cgfXrRRRt9Gho0UK88exshcxMoVcev7Rac4HIydEfMDRNuP7FuHJcSdPAYoN/mTh27BjGCDSE3bt3X9ExNU1j1K+jKPNOGW6YeAPxo+PpO79vodg0fng0Dw5XBI6k32519r0OuXxVUVEKwQq5LJiQglMQ/nzoIzMBNZE2sEsQKnr+scqF0DMvSlXw7VVvl2vU8q3TqyhVEcXMG4DrfecN3FotJNxyOxGF+IPwY4ST7PQd3E1ET75A5CA3kbedoojB/vRTeV+qFHz11eWFUrxeUbIs6cvNNGkiFMmWLUWFwWwWemSZMlJQZbdLcVZMDEydKpIN+Sf8Xq8YfFdo/uYyYDSGe/d+FIdz/noUG/zLRKVKlfDqfIMVRSE5WV9j/lKYtnUaI34ZQZYriwxnBjmeHL754xue+bHw3SSMqpEG8aGVRr5rcyji0UegUZpUE+Wi9EIXhYSezctFoiYFaaQbEZuZgm6bQwzAYTCZTPRJ7kPmi5l8dfdX3HvxXtTUAr66/iKuO4B+kJAoUsuqmoIQ+hXkYZh9rytGONALwHkIcNhzkZGpH2LwIyEbfX5p/qSKA0VRiIuDLl3giy/E4FbMdyk33gi9eolhFmcumwhxKkA89Tp14I038pZZLBLa+ekneOstmDRJBDZrhNT6LVyIbnMUVZVCrkiYPl349Koqf6dPD15vsUjlb6gzqqqRmT+pqanUq1cv8kkLgWPHjtG9e6geRzGKDf5lwmaz8fzzz2MPUZqy2Wz8+9//vqJjvvXrW2EdoxxuB1+kfEGuO7K6osfrCWo4Pr7DeKJMURgUia8YVSMKClqMBv3R148BTAYT53POX9G1B5B/MuJFbGlzoC/6+VENmW30QgaFSBOMaHkW5WPKYzfbub/+/Xz9wdeMeGMEBj2ahxeoLC9rloJdw2HHVomHHzsGbdocBuYhcaOHEN5maoSTH0JmBW8gMaYxCG/0d9//MkgH9vwevRsZJCyI0T8LPIvoTdRFGtWkAU+jaeO5eDGDd98VqQSrVTzqESMkpj5lCrz3HsyadZbExLtQ1Wt852wAbNS9YqcTRo2C/EraiiLhmiFD4J57wrXsASpU0GfNaFpkXv306aJ0mZYm26WlyftQo1+1ap7RNxjE2FeqJMydPwsVKlRg9uzZf94J/qEoNvhXgFdeeYXRo0eTkJCA1WrlxhtvZNmyZVfs4Z/IPKG73Kt5g/VsfEi7kEb7ae2xjLBgHWml6zddOZl5kuaVmrNxwEb6JPehSYUm9L++PxZjwWWuNqMNs2ousM/tJWFEQjQu8oqtFCRq4l/nJs+L9683IuGevkh+IT8UhCGZAG6vm1un3IrxdSMlR5Xk2cXP8tSzTzFgwIBwo+8G3gJGwe1pcG1JCWfExkK5chIbFy/aBlQDQ01hzYQpl/pxTg5GZ6Rvz2HfcgcyhXkF4ab6YUASvZ8jDc2bIdnrg0j2+jNEXvRXYChudw1q1z7CyJGwZo143iNHisc/eDA0aKDxwgttOHz4B7xep+8hbgVaE95JVJCTI+GgwuC77ySeP3myfujFaIygCA0MHx4+K8jOluWhx6hZUyp1a9SA5ORLK2y63W569+5NUlIS3bt3Jzs7m8qVK3PmjLQ027BhA7fccgsAK1euJDk5meTkZBo2bEhGRkbQLGHy5Ml069aN9u3bU716dZ5//vnAeRYvXkzz5s25/vrr6dGjB5m+6cywYcOoU6cOSUlJPPfccwDMmjWLevXq0aBBA26++eaCb+BvimKDfwVQFIXHHnuMtLQ0HA4Hq1evpmnTpld8vGYVm+nG0ONscWH9ZbNd2TSd1JQlB5bg0Ty4vW4W7V3EjZ/fiNvrpmbpmrzQ4gXKx5Rn6papON36eQAFBZvRRvtq7QvsYVto+IqksBA+kzAh9nE1EqcP1dAxAvciNtjse18WccB923o1Lx7NQ3puOh9v+JjO33Rm/Pjx4T0L/H1tc2DsaIlP16olcsuHDoHBYObhR2+DZCNUTgKPFTQj6PDS8y6wIGQDI0K2NyBKqDcgwkC5IduvRpIX9wCncTqf4c03RZYgMzOPjpmVBampa9m9ex+usEC6E/hU94q83vC4u9crcfv27eH220XBcsEC8fi3b5eZgT9+ryh5zUlq1IjM0jkUoXNkpOVmswy+lyoWA8mHDRgwgK1btxIbG8v48eMjbjt69Gg++ugjUlJSWLVqFTadxEdKSgozZsxg27ZtzJgxg8OHD3PmzBlGjBjBkiVL2LRpE40bN+a9997j3LlzzJ07l+3bt7N161ZefvllAF5//XV++ukntmzZwoIFoV1c/xkoNvh/A4y6bRRRpihUJe/jsJvsfND+g6BlADO3zyTTmRnExnF73ZzOOs0Pe3/g6MWjNJnYhIW7F5LpyhQJ4xBYjVZeavkSax5Zw7Ru0yhpLUQFVigKyku6kaKkL4BvEAVNKyKAppcDVRC66HNAH+Ax3/8I41COO4c1R9aw9eRWKlaMFH/Pw+7dotRYvTrce6+TsiXjYUtfUHuBwd9sZBjhXr4RiTmtQ3iikRBKZclCYu0X0I/lK0gs/yOEwvQ92dn6jBi3+yBut97PNJdgobZgJCXlvf71VwmrPPCAxPIXLxbp4wcf1I/bGwwySNatqx/+8SMhwhgZafnloFKlSrRoIXKnDz74IL/++mvEbVu0aMGQIUMYO3YsFy5c0CVVtGnThhIlSmC1WqlTpw5paWmsXbuWHTt20KJFC5KTk5kyZQppaWnExsZitVrp168fc+bMCYRvW7RoQZ8+fZg4cSKey+XL/k1QJIOvKEqcoig/K4qy1/dXV/FaUZQfFUW5oCjKoqKc738BB84f4PPNnzNv17xAfD6pXBLr+q+je53uVC5ZmTaJbfjuge/oUbdH2P67zuwKi/eDGME9Z/cwZu0YHG5HWLMSP1RF5aM7PmLtkbU0ntiYEqNKsOl4pOboVwAN6f+xFAlV70KM/veI7Qv9xmnksXMMSGinEM2wc925vLriVR597tFCdx9zOsXYvfvuUdCGwsGW4PV73w8hJP787mxdROPmBiQEEynsE6oq5uOhYo9wMyqSRXcDbaFAKYVkpG10KOwIv1bn6Gpeu8LRo0WRMjU1mNOflRWppaEocNpsl+bfjxwZ3jTFbpflRUUo5VBRFIxGY4AwkZOvKm3YsGFMmjQJh8NBs2bN2LUrfCDM/x0xGAy43W40TaNt27akpKSQkpLCjh07+OyzzzAajaxfv567776befPm0b69yIp/8sknjBgxgsOHD5OcnMzZs2eLfqN/MYoqjzwMWKpp2ihFUYb53r+gs907yDf00SKe7x8LTdN4+senmbBpAgbFgKqomAwmlvZaSnJ8MnXK1GFG9xmXPE5SuSSizdGB1oR+WIwW6pWtx9xdcwukc0YZo3h+yfNcyLlwWX1pg2+GyJEOL2LAk4EDSM7SL2/sRQaDhojNW4rkPv1CbB2QmP5pJDwdi4iW6bglHreHhb8tZEn8Elrd04rFUxdf+rrLQU4ypFpWguk32JeVb6byKzCb4KnLXkSg/9/IaNQOqfbKDyuSlD1FXttKFfHg433Hm4MMKH7DnYno5DdFBIneinjJilIHTWuLxP39tFsjUVGxZGX10d0nKkqSsGfOSIer3MtMz6iqDA75HWVNk3CT251H8ezZU9YNHy5hnIQEMfb+5UXBoUOHWLNmDc2bN+frr7/mpptuIiMjg40bN3LHHXfw7bffBrbdv38/9evXp379+qxZs4Zdu3YVKp/WrFkzHn/8cfbt20e1atXIzs7myJEjVKhQgezsbDp06ECzZs2oVq1a4DxNmzaladOmLFy4kMOHD1OqVCG8k78RihrSuQuY4ns9Bb/cXwg0TVtKsHL6/zss2L2AzzZ/Ro47J0C/POc4R6evOgU02TVN40LOhQKZOXfXvpvSttIY1bxfo9lgpnLJyrSt2pa6ZepK28EIyHJlkePOuXJjD8Ga9nrrGiK2cSDg77nij+v/iNDQFyJtnvyx5tPAdERn/lNEs+xrYBzhRbEakAWeLz1k5mayPmH9pa+5CaL90xS43gvde8G9S0DxP4dXIKytYDbCwsnx3cAU3wXmj3PkAD2RngZHkJHqR9++Jt//lwjvqfgNUgXXnEgFXv5Yuuj+vITMCuJQ1Z60aLERs1m/DVV2tnTEmjix4MYiZrM+F97rFfli/4wgN1d6C+/dKzOFbdtEklnTxLinpso+qalXx9gD1K5dmylTppCUlMS5c+d47LHHePXVV3nqqado2bJlULJ+zJgxgWSqzWbjjjvuKNQ5ypQpw+TJk7n//vtJSkoKzA4yMjLo1KkTSUlJtGrVivfffx+AoUOHUr9+ferVq8fNN99Mgwb6NOi/M4okraAoygVN00rme39e07RIYZ1bgOc0TetUwPEGAAMAEhISGqWlpUXa9B+HjtM78v2+8Ebk0eZolvZaSrYrm/4L+5N2IQ1FUbinzj183Oljos15FIlMZyZj145lwsYJnMo+hdPjxGq08kD9B3i77duUtJZk15ldJH2cFOhDG4pYcyzZrmzcumGCy0BBXn5+OJGmKH4hs9sRVuF76MfzQ+GnyT+Sb5kHGQzSgH6glFHQ3tYi69PbkcZiocYtF5hTH3avROiXpyLsvBNh6zyCTFH0fjNG3zH2IQbcX+47HPGLQsnsCpK0nU4kvmyFCvryx6oq3ndBAmuKIgZdVYObmuRHVJS0L/zXv/KW/fDDTkqXrh0QTCtTRpK6obo+qgqJiZHbFhbjr8HOnTuvrrSCoihLFEX5Q+f/XVfpmgPQNG2CpmmNNU1rXKawnZH/Ich262THkJj67jO76fRVJ/ad24fL68LpcTJrxyzunnF3YDuHy0GTCU14efnLpF1Mw+F24NE8uLwuBjQaEEi81ipdi9HtRuuyfoyKkQfqP4DNdBUaiJ5GaOp+HZ1IfoOZvBolIxIWv0DEmoAwaIjT7LeXuYj93YfYTC+oqorNUsA9JRJcxeuHBaizEwmrRJrx+EX6WyKc/Ug36m/qm4MkbP20JH+7Q70bO4d+c15BJFkDr7dgYw/ifefmRhZgi4kRlk7duvJa7xzp6bK/3rm8Xin0KsY/C5c0+Jqm3aZpWj2d//OBk4qilAfw/f1//xXYdHwT1cdVR/23iukNE52+6kSOO4f7692P3RQutOX2ulmeujxMFiHXk8uqQ6vYf24/AFO3TmXfuX1hyVinx0mXb7rwyIJHuHfWvczaPotBjQeRHJ+M2ZCnwW5QDJSyl+I/bf9DlWuqYDFcZhNR/2ndiNGdC7avbXSM7ygJtoK8/fzGfQciuXA5ESUv0lbxDyQc7g/fmsBQ3sCtibcSY9GxWn5Emkl4AafN90IvAWdH1DPHo189pnfA/MgF1kTY1454/hApRnY1dA1Dj2EwwNNPi3zxrbdKtWuk85jNkWUR4PKF3Yrx30dRY/gLgN6+172RmvH/tzh4/iBNJjQJGGa31813e7+j1oe16JPch/LR4aJZLreLRbsX6dInzQYzBy8cBOC7vd9FDMMczTjK55s/Z+aOmTw8/2E6fd2JJQ8t4aGkh4gyRWE2mLmzxp383v93Yi2x/PLwLzza6FFK2UqF0T4jwm+TjoI6XqVaVDU+m/YZS88tjcgIAiSysc332osYXxvQiMJTBjQkLD4fEU0zACZQe6hUiK3Al12/JDpSdRAILVQPbmBzBvq6DiAFVMOQQqcCLN8l8QLB+s52ZNrxcL5lV1nLKALMZuHe+2P3zZpJm8TQ+jVVFTXLSGwdRSkO5/wTUVSDPwpoqyjKXoRfNgpAUZTGiqJM8m+kKMoqJPPURlGUI4qiFK6lzz8Mg78frGu409LTWJW2ijPZZ8LWuTQXZxzhy0G8/Lpl6gJQITq0FFUfWa4sVh9ezS+HfmFS50lkvpRJ7su5zL1vLpVKiBZtrCWWD+74gP1P7seoXAZR6w9gKphcJk6cOEGfJ/roe+r+EE8uUmDqb4Ctktev/XZQWlymkYvy7X8DcCd4Y72cc5yj37f9KDDf40bqnHJ8/3MRG7+cSMWqSOLAjNCI5iMj1yngKd/6JkixgRuJUXVA/+eUgDTDnYs05b0ZYeWsI28QKJorbzQWvplITo40N/dDUWDpUql+9Rt3g0F0cWw2MfzXXRdcLOXvl1u2bNjhi/E3R5FomZqmnQXCmp5qmrYBUZjyv/9/0dxsw/HI+v2zd8yOKF8QyUPuVqsbpeylWH5wOY0qNELZqBTsTfuQ6cxkzs45dKmlS5oKYPWh1aiqWjjnNQOxe27hwOeSm2c8Q7v3KYihX4VQMwGjxQhNwF3WN0tRQWvla1iun94IxwUkPL7Hd04PZJmy+M753aXv4RAwGml4ZfZdl64oWCKiy5xAIEkQiEmVQapqywODyePll0DoRE2QeH+ubx8Lop0TjdCW2kW4uKJ594oCzZvD6l81vBF6/vqhaRLOyY9KlURKuXt3We/XxfF4JGkbFyfG/9QpqeAtUUKWFXes+uehuNL2KiIhNnKJYdOKTQOiZoWBUTWy+tBqbCNttJ/eniE/DSm0hLGqqJSw6FP2AE5lnaLRhEZ0n9WdHHch2yrt1FnmBnWNiimU/uJFYvU+Y28wGJj+5XTmfTaP1pVb54WRVIS1czkyuf7xzonMLnIofLTFjRSCbSWCsQc46dtIJU8mIf8gGw08Tbi8chVkCjQE8eIfQZK8tyAjzKUG6isPGblc8GvA2Bd8HqNRPHqLRcI5+33hrp49YaWvSY7XK8b+8OE8zXqbTTz9atVkECg29v9MFBv8q4CVqStpM6UNaen6YQW70U6vpF482fRJ3cStHtxeN2kX0/BqXpweJxnODN1wUST0atAr4roes3qw7eQ2HO4IfD3dC0LXlnhXeIlOiyaxZCKqWxXPfhLiufsQFRVFlSpV6FijIx2qdwge+BogOjqVkPaEBYTi/xpkI8Y6/7NWfMs/Q5Te3kM/yVse6a24EikmqJlv/4IGay3f3ysL72gBz97/V45lxIniuxdFkcKp3Fxh3qxbJxIKmzfDzz+HF2j59fALwvRt06k8pjLqv1Uqj6nM9G3TC97hT8C8efPYsWPHZe+3YsUKfvvtt0tut2DBAkaNGnUll1ZkXLhwoUAdoctFscEvIubtmscd0+9gWeoyTmefDltfNqosKQNTUFWVEbeO4LnmzxFjjrn6DUfywaAYWLQnXMXiWMYxftr3E2sPr43I04+IGujbLAOct5ynelx1WiutMa4zhknLaJpG/foiP6CgBArNAqiG2NhnEQe50eVd2tXHBYIlk88gfNKnEIGg15Eekc8iI1Yy0lglEpPnUp+1X8BfQaYtV6PtqJxTQ0XFG7HhudstOkORmpEU1Pxk+rbpDFg4gLT0NDQ00tLTGLBwwF9u9K/E4Lvd7kIb/M6dOzNs2LArvbwi4Wob/OKetkWApmlcN+Y6Dl88HLauSYUmLLh/AfHR4V0ePF4PN31xE2uPrA1bZ1AMmFQTOZ4r7GDtQ3x0PMefFcubnpPO3TPvZnnq8nBjezlYiuQp/UbAhBhnfzWtvxvVeeBzUJwKNpuNjz/+mF69ZMZx8PxBanxYA7e34Kor088mvGu9/yWRKiNCmYxF+jquQrqyh1q//CEUO9IZ/ieCDXxhK9QKCy9X20+LixOPPzMzr/AKZEZQurSEcvRQeUxl3VnttdHXkfpUakQd/cJg2rRpjB07FqfTSdOmTQPKqE899RSLFi3CZrMxf/589u/fT6dOnShRogQlSpQISC48/vjjnD59GrvdzsSJE6lVqxZ9+vQhLi6OzZs3ExcXx+rVqzEYDJQpU4Zx48Zx4cIFRowYgdPppFSpUkyfPp1y5coxefJkNmzYwIcffkifPn2IjY1lw4YNnDhxgrfffpvu3buzYsUKXn31VcqVK0dKSgrdunWjfv36fPDBBzgcDubNm0fVqlU5ffo0AwcO5JBPUnTMmDG0aNGC1157jUOHDnHgwAEOHTrE008/zZNPPsl9993H/PnzqVmzJm3btuWdd94Jek6XW3hVVC2d/9fIdGZyPFN/zrvzzE5dYw9gUA08WP9Btp7cSrYrOGNpMVrE+y+incvP639gzgMsO7isUAnfAtEGiVL4G4fXR0IxfihIuLoM0BVK7i/JD+N+CJKOTrwmkTdav8GLS1/UP4cX2AOuHa4iP4Mrh5c8sn9ByP88s4HfkMGhMFrp/n0vdzBQudpGv2xZGDgQXnop5EwFdKUCOJSur4N8LPMQO3ZI960rMfo7d+5kxowZrF69GpPJxKBBg5g+fTpZWVk0a9aMkSNH8vzzzzNx4kRefvllOnfuTKdOnQIdrtq0acMnn3xC9erVWbduHYMGDWLZsmUA7NmzhyVLlmAwGHjttdeIjo4O6N2fP3+etWvXoigKkyZN4u233+bdd98Nu77jx4/z66+/smvXLjp37hw475YtW9i5cydxcXFUqVKFfv36sX79ej744APGjRvHmDFjeOqpp3jmmWe46aabOHToELfffjs7d0qCbNeuXSxfvpyMjAxq1qzJY489xqhRo/jjjz9ISUm5/Aepg2KDXwTYTDYsBouut3qploGPXP8IU7ZMYcfpHWS5sjCpJoyqkSl3TeHFZS9y8PzBML0bhcKxdAyKgY7VO+L0ONl6cis/7f2p6Mbej4pE7gjohwrUgtz6uUQnhgflh900jPjoeB5d+CgaWl54yQNMA45yyT7jiqIQExPDxYuZFI0jr4crPV4OUl3rN/gepCS4Zsh2GiLU1ghpz6WGrLvUIKAhSZWr8/N9803o2lW0cvLD6xVFzUh6PAklEnQ9/HK2BFwuOHny8huxAyxdupSNGzfSpIlIUjscDsqWLYvZbKZTJ1FmadSoET///HPYvpmZmfz222/06JGnNJubLznRo0cP/U5pwJEjR7j33ns5fvw4TqeTxMRE3e26dOmCqqrUqVOHkydPBpY3adKE8uWl1qZq1aq0ayesrPr167N8+XIAlixZEhR+unjxIhk+2dKOHTtisViwWCyULVs26NhXC8Ux/CLAqBp5rPFjYYlYu8nOiy0jeLA+WI1WVvddzaTOk3go6SGebvY0KQNT6F63O8t6LaNh+YZYDVasRism1YRJNRVotP2JULvRTpwtjiMXj2AZYaHJxCZ4/kuuskk16c6ANh3fxLh141AVFavRmpfE/QPRHytE73ZN07h4MVRVrbC4EkNZmJ+KlTzFTBdC0byX8ASvhujsVAg5bmE+J7+edBqxsdLJKyYGxo6F66+XWHxMTOGajCiKaOl07Sr9dD/7LORMPnpmJBmHkW1GYjMGf/etBjuDao5E0+DChULcjg40TaN3794B2eLdu3fz2muvYTKZArLJfonjUHi9XkqWLBnYNyUlJeBBgxAIIuGJJ55g8ODBbNu2jU8//TRIgjk/8kst5w+J51+uqmrgvaqqgWv1er2sWbMmcG1Hjx4lxqdtoSfhfLVRbPCLiLdue4s+DfpgNVqJNkcTZYpieMvh9E3uG9jm6MWjDF86nDu/upOXl73M+qPrcbgcmAwm7qt3H192/ZK3275NjVJSlVSpRCV+7/87uwbv4vf+vzPy1pFB6ph6qF26Nt1rd+f11q9Tt0xdfjn0y59634VBrjuXhvENg5atO7KOxhMas+nEJnI8OWQ4M/BoHlH43EbkoteIiCWSR6woqk73o15IUraGzh4FwYvw6u0IlUjvnF6gJFIOPB3x4A8iiQ8/NN92FQindhpCjuskPIGrAC5MphI895y0Mjx5Ep54AjZuFJnilSth/XqphA3Vq4e8wqmff5bG5gCzZ0eWUTgfod1xz/o9+fiOCcTbrkNBId52HS/Vn8Ad14pk5pXG8Nu0acPs2bM55RPrOXfuXIGFdTExMQEvOTY2lsTERGbNmgWIQd6yZcsl9wNIT0/nWt+UZMqUKbr7FBXt2rXjww8/DLy/VKgm9BqLimKDX0QYVSMfdfyIU8+dYn2/9XzX8zvaVW0X8Ma3nNhC7Y9qM/q30Szau4iRq0bSdFJTSv6nJBXfrUj86Hg6f92ZrSe3hh37upLXUa9sPZalLrskhXJkm5HMumcWfZL7sDJt5Z9yr3Bpjr8fFoOFyiUr88iCR/h2x7eBZHHveb11ZypevJis+lQRs9kccRouxlvfa1NVhXLl8ofWGiC6OFG+15cbP49GGpnPAxb73qvIjCEO0c3/A7gVkU3Yhxj30vmO4e/pWJifnjHCNUYBpalWDTp2FI68H/Hx0LAhNGokHPs335TCqvzweoWC+dRTectcrsgGvyBeR+/re7LszlR+7+Rl4a2pAWOvqtJD+EpQp04dRowYQbt27UhKSqJt27YcL4Afet999/HOO+/QsGFD9u/fz/Tp0/nss89o0KABdevWZf58fcWXO++8k7lz55KcnMyqVat47bXX6NGjBy1btqR06dK6+z/ExXQAACAASURBVBQVY8eOZcOGDSQlJVGnTh0++eSTArcvVaoULVq0oF69egwdOrTI5y9m6RQSBw8eJD09nbp162LS4bD9vP9n7vv2PtweNxoaMeYY5t8/n8HfD2bd0XUFHltBwW6y82vfX0mOD2/cMOi7QUzYOCGihn1iyURSBqYwc/tMNh/fzPgNV4/GlR9fdvmSs9lnGfrz0Ii6PiXMJbAYLaTnpgcqi6NMUXSo3oEZ3WdgesMU8T5GJozkzSfeJCsruKOX/8eXnp6u09sVxPMOp0QqikLp0qU5fdpPlx0P9EcM6UYk1l6YMl+/Qf8WuCnfci+Qghjg6uQZZw9SwJWDUJv6c7WZOkajyoED4cZcD1FR+q0MFUW89xIlRAK5SROYMyePpQNiuOvUKbjVocsl8f+cHDmm1yvSzuXDpaOKcZVRzNK5yjhy5Ahdu3Zl+/btGI1GDAYDn376Kffcc09gm+MZx+kyo0sQ4ybDmcFtX95Gem76Jc+hoZHtyualpS8xpPkQvtr2Faqi0qtBL26+7mYG3zCYKVumhDF6VFQebvgwAxoNIOH9BNxed9g2Vwtmg5nT2ad5YckLEY293WRn1cOraPpZ0yAZiSxXFt/v/Z5fD/2K1WjVbdEIcPedd3Nx90U++OCDQNzT4/FQt25d7rnnHgYPHhzh6iJIVmhaSBy0LHlf+UZI4vQxpHDAjX6ytjrSe7YN4pXnZ9eo5Gk/54cRaVYCItVQGGOvoapKgeqUeVDp379wxh7EoOsZfE2DNm2k523dujBkSLBQmp+lU5CxB8kb1Kkjuvsul4SRikLJLMafh2IPvwBomka9evXYvXt3EB/cbrfz22+/BTrevLP6Hf61/F9hWjnR5mhyXDmFbjZiMVgwqkayXFkoKNhMNh5r/Bij243muz3f0XdBX7KcWXi8Hppc24SZPWZSLqocVcZWIfVC6lW7bz1Em6Pxat6IA0r1uOos672M2TtmM2zJMF3doBdvepGM3Aw+/P3DsHVlo8py8jlhJWzZsoXWrVuTmZkZ8OgVRSHSd9VisQQxMUKhqqqvF2pv4ENEzH8hUkjQBTHQy4EHCU8i1CNP7vPPgP+evMTGGrhUHrpECRg1Ch599NI9Z/146y144w39Rih2O/znP+AfS7ds2UmpUrUDaph6OYBi/H1w1Rug/H/Gxo0bSUtLCyv+yc3NZdy4cYH3p7JO6Ro4l8dFowqNCq097/Q4A96v3+sf//t4dp7eSccaHTn+7HE2PbqJA08d4JeHfyE+Op695/ZyKuvPbUNgN9npWb9nRGOvorK+/3oqxlakhKWEboLZYrBgw8bUV6aKNpmLQE5SReW3vnkVj99++y3Z2dlB4ZuCHJMBAwZgvYQbajKZiI5ehHSgqoNIFj+LaOD8hHj5ejmEfYi2zp8Fv+yCGPuCjHiFCjBunBRD6XnskfD889C6tf667Gz45pu892azdLq69tpiY/+/iGKDXwBOnjypmyz0eDyBSrlMZya3Jt4a1IrQD4Nq4IP2H9CsYrMC+8z6oZfM9Ggevt8rrRFVRaVGqRqUj/nzg6N+6YdyUeV4q81bNK7QOKJ2vsVoCSRyu9buqruNqqi8d/97pG9Mh1+QtvZfAmPBuMfImtQ1gW0XLVpUoMceip49e/LEE09EXO/1enG5XJQoYcVk+pg8nWSH7+8jSKxdz4oaERG0oqDws2j/uJbf8PsrXs+cgUGDoG9fCbUsWVK4YxoMMGJEZAMeG1voyyvGPxzFBr8ANGnSBKcOCdlut+Ou6sb4upGYt2Lo8FUHzAZzEB8/yhRF9zrdaVqxKSv6rLjitoJGxUiUOZyFcuD8ATYe20hCbIJuRa/NaMOkFF6GUkHBqBgpbS/NdSWu48mmT9KlVhcu5l7kleWvsGjPoogzlc41Owf40SWtJVl4/0JKWEoQa4kl1hJLtDmaQbZBXDidj5jtRDj358H5jZN+N/djpU+usWy5slLBW51w5mIIoqOjadq0Ke3btw/iMevh6NGjEZK+TiSJG6rzDJKALaWzPJIR1xNAu7KEbcOGolN/3XVw7lye/EFGhvzt0kVeFwbJyVJRGzqDiIqCxx67ossrxj8QxamVAlC2bFmeeeYZxo4dG2COWCwWLCUsLL9medDv+pzjHDXialAuuhwmg4n+1/fnnrp5iV27yR4xWVkQvJqXDtU7BN4fyzhGl2+68MepPwLFWENbDOXd397F7XXjcDuwGW00q9iMPsl9eGjuQ7rHbVKhCe2rtefLLcK8qRZXjXEdxnFTwk1k5GZQ48ManM46jUfz4HA7+GHvD6iqikExBLFs7CY74+4YF3Ts1omtOfHcCSZsnEB6Tjr9r+/Pk488WcBNQm5WLnfeeScrt61k082boCHyfA3AEjBsMGC1WoMYPBaLhVWrVgHQqlUrypQpw5EjRy77GQtOo+//OBBdnYcRzXv/T+YYwqUPNeZ+Df2isXI0TVQsC4KqwqJF0LatcOpr1pTiKz0oCnz3nbQ1zM6W47vdYux9xavF+H+A4qTtJaBpGnPnzmXMmDFcuHCBLl268K72LtlG/SBqxosZuuGdvvP7Mm3rtEuqVKqKSpQpihx3Di6vC6vRioLCkOZDeP2W12k4oSHbT20PM7qL7l/EwQsHOZ5xnBYJLWh2bTMqvFeB8znhVTM/P/gzG09s5PWVrwfi8ibVRJwtjjHtxzDkxyEczwrnPduNdpLik9h4bCMAdcvWZfJdk2kQ3yBouz1n99BuajvOOs6iKipOj5Pmh5uz/NPlBd57TEwM5i5mzlU9FxzeckHN9TVZ8eUKzpw5w+zZs6levTr333+/NHDxYf/+/bRp06bg7lcFoh5SFavH+e4AfINoOGvACWQQqAbcD9yIGPnLkTy4Uj0dQVSU6NPnrysqXVoGiooR5C/cbli2TMJDLVuGM330koAFYvp0GD5cKr4SEmDkSBHX/wtxyy23MHr0aBo3bkyHDh346quvAPjqq68YNGgQAMeOHePJJ59k9uzZf+m1/dkopmVeZSiKQrdu3ejWrVtg2Yh/j4i4/YHzB0gqlxR4f85xjvbT2rPj9I4CE48g8gjv3/4+yw4uY+GehQCBBiXvrXkPh8vBvrP7wnjsDpeDSZsnMb1bniztgt0LIipSdpvZjVxPLk5PXrjK5XVxznGOB+c8GJEnjwIPJz/M0l5LcXlclLCGF2B5NS/tprbjUPqhIKO9tvxaFIOC5on8DFxuF85MZ1guQzEpNHq0EfHx8cTHx1OvXj3d/Xfs2MHRo0cjHv/SyEakPkORAMwgT6xfQSie84C9SPzfyuU16vUf58qRkxNs7EEMeePGcOKE/j5GI7SL1HjrcjF9OgwYkJdBTkuT9/CXG30/vv9e8l2pqamMHz8+YPArVKjwP2fsrwTFMfwrQIwlJuI6vzyCHw/Pf5iUEylkubIuSc+MNkdza+VbWbB7QbhRdzt4b+17uhW3GhqH04MlmtNz0iNq72Q4M4KMvR8uryuysScvaWw32YOMvcfr4YvNX9BsUjPqfFSH4xnHw86dQw43v34zZrNenFyQm5OLqUZ43kFD46xDr+FIHlJSUujcuXO4/ogFaTr1ODAASH6oADt7AEnihqI/4QweA+LNRwFPIjGovw6qGrnr1MmTsHv3X3ARw4eH04Wys2V5EZCamkqtWrXo3bs3SUlJdO/enezsbJYuXUrDhg2pX78+ffv21U3sV65cmTNnzjBs2DD2799PcnIyQ4cOJTU1NeAoeDwennvuOerXr09SUlKAcTds2DDq1KlDUlJSQEHzfw1FMviKosQpivKzoih7fX/D+tgripKsKMoaRVG2K4qyVVGUe4tyzr8DRt46Unf5XTXuwmrMyzJmObP4cd+PhW42kuXMotGERgV2ttIz4jajjY7VOwYta53YGrfn6okvmVQTiSUTaXVdq7B1Pef05IkfnmDd0XXsPrsbpzd8MNHQMFUy4XA4AgneUCiKgjsm/JrtJjvdanfT2SMP7du3D19oRDort0AkmysAHabCnXpH8FvPON/G+ZGAjByh0IDJvtd/re9kMEgbwkjwty78U3FIXx454vLLwO7duxkwYABbt24lNjaW9957jz59+jBjxgy2bduG2+3m4/zd2EMwatQoqlatSkpKSpiG/IQJEzh48CCbN29m69at9OzZk3PnzjF37ly2b9/O1q1befnll4t8D39HFPVbOgxYqmladWReq9cWJhvopWlaXaRVxhhFUUoW8bz/VQy+YTDvtnsXm1GYNwbFQO8GvZlz75yg7QrqF6vHeHFrbnK9hacj+o9TNqosAxsPDFpeMbYiQ1sMDRqALoWCqKNda3VlRZ8VYcZ6y4ktLNyz8JIJabvJzt217yYnJydiaMvr9fJO23fC1EcdLgdfbvkykDsIxZ49e/SlZOsj/cXzO+dm3/Ig10TxLfgPQh2aiYik+Z/HMvSb4BqRmP/lfWZXA14vVK4cef0tt/wFF5EQoYdzpOWXgUqVKtGiRQsAHnzwQZYuXUpiYiI1asgMunfv3vzyy5UJBC5ZsoSBAwdi9JUDx8XFERsbi9VqpV+/fsyZMwf7/2gRQlEN/l2AX1ZuClK2GARN0/ZomrbX9/oYcIpwF+ofhyHNh5A9PBvtVQ33K24md5kclEAEiLPFUblk5bB9DYqBrrW6YlIvp3t3MEyqiaSySQy9cSibHt2kG09/vfXrzOg+Q5c/r6ISHxWP1WglxhxDrCWWRxs9qnsui8HCpM6TiLPFha1bdWjVJbto2U12qsdVp3eD3tjt9rDnFDiPxfJ/7Z15dFTFtoe/6iHpdEIYAqISkhAGEUNAZVAGI5MoCuIlKBARLpMgPLxXQMhD5C59KMhDBJzI9QUEuRDFCceHcEFAQQYNAiKDTyIzSBRIQkKGen9Up0nSpztzp5PUt1bW6T6nzjnVRbO7zq69f5tJnSaxYfgGWjVo5ey3RPLN8W+IWR7Dod8L+yr27t3L7be7qYkYiXGkZR6FC7cggUvAE0AAyge0AxiEig3NAH5DRezkk4ZaxF1PxerklAx/f1i50jhRa/RoLyVNzZnjeiO7Xe0vJ+6eAisCKaXL9S0WCzt37mTQoEF89NFHxk+MNYDyGvzGUsrTAI7tdZ4aCyE6of4LGj5wCiHGCSF2CyF2XxO88l3yZB6bft3E8uTl7Dvrmn4vhCBxQCKB1kCncQ+wBBBiD+G/ev6X20SmklA/oD47xuzg+Z7PGxrifAbcNIApd04pNGsWCAL9Atk6aitH/+Mo20Zt4/y087S/ob3hk4fFZOG9n94zvH7jwMaGP1x+Zj/aX9+ePpF9ePmel9k+erszF2HMmDGG18qvG9q6YWt+u/Sbyw/JlZwrPPf1c4X2PfXUU6SlGc2+UUKa7rxaLvHrd1BYj74taqZ/2LHtA8wFDgK7UX770ahM3P1UTB3aktOzJ9x5pypEHhWlMmRDQmDBAnjrLS91Ii4OEhJUooAQapuQUCELtr/99hvbt6tkvNWrV9O7d2+OHTvG0aNHAVi5ciUxMa7uxXw8yQrfc889vPnmm871ntTUVNLS0rh48SL9+vXjlVdeqbAKU75GsSEFQogNgFGhs1KtzAghbgBWAiOkNJ4SSikTgARQYZmlub63OZN2hpjlMZy6fAopJXkyj96RvXn/4fexmq8ZwK5hXdk3YR+v7XqN7Se206ZhG2bfPZvQ4FCGRg1lzYE1Hl0/7vgz808e//RxVjy0oti283rPI7xuOAu2L+D3jN/pFtaNl/q8RIsGLQBoEtzE+ZmMFnMzczI5k2Yc9tH/pv74mV2n0VaTlS/ivjBMClu6dClBQUEsWbKE7Oxs/P39iY+PZ/bs2QAcTT2Kv9nfZVzyZB5JB5KY23suTeuqKfqOHa51gZ3sAToX2ZeHmrAfK9q4ODncccDzqALmBfFDuX+8O8tfulRtO3aEfZUp9VMccXGVEpFz88038/bbb/P444/TsmVLFi1axB133MHgwYPJycmhY8eOjB8/3u35BWWF77vvPiZOnOg8NmbMGA4fPkx0dDRWq5WxY8cyaNAgHnzwQafLceHChRX+mXyBcsXhCyEOAXdLKU87DPpmKWXRem4IIYKBzcCLUkrjqWIRfCUO3x29V/Tm62NfF4q8CbAEMOuuWS7Vrn48+yP9VvXjYtZFTMJEbl4uS/sv5aHWD/Hwew+z8deN+Jv9uZx12eOCbVFsZhtnp50l2L9icuM3/bqJAWsGkHa18Iw50BrIF3Ff0D28u+F5+87u46GkhziTdgYhBIHWQNbEruHuiLvL1I/z6ecJWxjmtpD7A60e4JOhKmy1adOmnpOtIoG/gDUwgOwcCedbwrt3wZ8fo2Lp8//9glHx90V9IfklByWq/uKTXAvdbIoqdGI8LpWBzaa0bx58sHKuX+o4/Erg2LFjPPDAA+zfv79K+1Ed8LZ42jqUBCGOrUulASGEH/AhsKKkxt7XuZh5ka2/bXUJs7ySc4WEPQmF9mXnZtN7RW9OXj5J2tU0LmVdIj07nbHrxnLsz2N8OuxTfp74M+uGrmPhvQsJtLovwVYUk8nE+z+9zwtbX+DdA++SlVO+xcO7I+6mc5POhdw/dqudbmHd6BbWze15bRu35ch/HGHX2F1s++s2Tk05VWZjD9AosBGPRLkP5vry6JfOhd8pU6Z4llT4P2ABhK9PwPY/P2NJTCYgawEhId8XqWtwCRXSk4F6DJAUrrUogOFAKsr1cwXl1+9OxdfUNSYyUileVpax19R8yjvDD0E5OMNQ3/7BUspUIUQHYLyUcowQ4lFgGXCgwKkjpZQenWS+PMM/n36e0IWhhu6PxoGNOTP1mvvjiyNfMGTtEC5dddW97deiH5/FfeZ8n5WTRdTrUfx28TfD0MaimIUZm8VGZk4mAdYAgv2D2T56O2F1yx4lcTX3Kgl7Ekj8IREhBKPaj2Lc7eMKuam8QXZuNgFzAgzzAvzMfmTOzEQIQV5eHn379mVDMUpiZvN75ObGFtn7NfAiqohJBmq2vwy4D7Ug+xDu4wtyUQu3mY42JZs72Wzw8MOqNGFpS5ZaLEpvvjLxhRm+puR4NdNWSnkBVRmi6P7dqOkSUsp3UM/CNYZ6tnpu1+gGti4cqPRH5h9u3TSfH/2c1q+25qcnfmL/+f10TexayJ0SGhxKfLd4zlw+w/zt88nOvZYYZTFZkFI6wyHTrqaRcTWD4R8O5+uRZS9x6Gf2Y1KnSUzq5K7YiHLhrDu0Dn+LP4PbDCasbliFR1VYzVaGtR3Gmn1ryJbXrJzVZOUvrf/ivJ/JZOLll1+mU6dObopONwD+TW5uW4NjMaiqV7koRcxWqHj8b4EhKBkFd+SiZvvNSvyZbrwRTpxQPve1a0tv8N3JJWg0JUVn2paBTw5/gtnkmuYoEC6JSXeF3+UxAerQhUP8Y/M/6PxWZxff+YlLJ6hrq8tzPZ/jx/E/MiRqCBH1IogJjyHA4jr7zSOPLSlbGLp2aKVVvnr6q6fp/FZnZm+eTfxb8TRr3QyT2URISAhz5sxxFBopG1KqGgD50TmL7l1Eq4atCPILws/sR5BfEM0bNOfVfoULqLRt25aBAwe6ce0kADfj/queX2O2E6oAeR2gL56Koyv8KI2xb9IEdu1SwSzR0fDQQ0oLp6TY7fCPf5S8vUZjhBZPKwPPbnqW57c877LfhInnejxHpyad+O7kd5xNO0t43XAOpx5mefJytxm39W31DUXOACLrR/LLZNco1pCXQki9kmp4jlmY6duiL58N+8zwOKgnghV7V7Dx141E1o9kQocJRNaPdNseYOfJnfR4u4f6MTmJSjIt8JHsdjvjx49nwYIFHq9jxDs/vsPTXz3NufRz1PGvw4yuM3i669NIJF/98hU/nf+JmxvdTJ/IPoY/trm5uSxfvpx58+bx66+/kpOTgxB2pLxIVUtGBQQoKYSVK1Vh75AQaNkSVq9WUYxnzqiZv8mkiovXratCLX/4AdLToV49pWf/uHGaRIWiXTrVi9K6dLTBLwMr967kic+fcJmRB1mDaGhvyNn0s4U0b2xmG03rNuVI6hHD6wVZg0jLNo4lr+dfjz9muP4YTPh0AonJiYbrCPlsGrHJcPE09UoqHRI6cDb9LBnZGVhNVqxmK+uGrKNXpIuHzsmU/53Cwh0LlbzDKpRuWBECAgI4d+4cQUGuiqHu+Ojnj4j7oHBFLbvVzjN3PUN8t3gPZ7onKwsaNChdZShvUKeOcuW0bq2kja+/Ht5/Xxn+b79VcglZWSqxymSCpCQlX1yJeUiF0Aa/eqFLHHqB2DaxBFoDCyVOmYUZieRU2ikXgbPM3ExOXnKv4uhJluCO0DsM97/Y+0Ui60c6K1MZMW39NMP9L2x9gZOXTzoNbHZeNhnZGYz4aARSSqSU7Dq5i88Of8b59GsJcCZhunY/N1UVLRZLqTXpZ22a5eKCysjOYN62eeTmeRCM8YCR0oIvcPmyirT58Ue4/34YMQL++ldVvSojQxl7UNsrV2DMGEpY2LyqWAVEoExJhOO977F582a+/fbb4hvWcLTBLwMB1gB2jNnB3eF3YzFZsJgs9GzWE4vJ4nbGnZGTQeuQ1obHJNLQcJuFmTcfeNPwnHq2euybsI8eEW6KlQI/nDGuoPHBwQ8M+/lH5h98c/wb2rzehp4rejLsg2E0XdiUZ/79DFJKhkQNwWZ1aPM0Nr5nTk4OoaVcXXRXgD0jO8PlKaqkNG7sflZsMqm/qiQ3F37+WS3epnuQIUpPB98NR1+FSkhLQUUxpDje+5bRz8nJ0QbfgTb4ZSSiXgQbR2zkcvxlLsdfZv3w9cWe0zKkJXvH76V5/eYuBl4isZgsBFoD8TP70blJZw5OPEh4vXC317OYLPxzwD/dHq/jZxxlYlSgBZTM8ROfPcGRC0ecOQNZuVm8suMVPj70MbffeDtT7pyCzWLD0tPiohhst9uZNGlSqdw5AG0atTHcX9dW16MUtSf8/WHqVLAaRJNOnar85FVNTk7xYZbZ2eqz+CYzca0DnEEpk/BdSE9P5/7776ddu3ZERUWRlJREREQE06dPp1OnTnTq1MkpsZCSkkKvXr2Ijo6mV69ezlrTI0eO5KmnnqJHjx488sgjvPnmmyxcuJD27ds7q6TVRrTBLyc2i82pSDno5kFuBdECrYEMjx5OdONoIutHGsoc2612Vg9aTdYzWewYs4OWIS2LvX9k/Ugei34Msyi8kBlgCWDc7eMMz5nYcaKLIqVZmIm6Loqjqa4FVtKz01n83WJACbLtHb+XucPnMnnxZKKiozCbzTRq1Ihnn32WuXPnFtvnosztNdepPJqP3WrnhV4vGOoNHTh3gKT9SSSf8ax3MnjwtaLgBVm4sGS+fbtdlQ10h8VSPt96To5nieOS9KFqcSeDXD555C+//JIbb7yRvXv3sn//fqeQWXBwMDt37mTSpEn87W9/A2DSpEk89thjTpnjyZOvldI8fPgwGzZs4P3332f8+PH8/e9/Jzk5me7dvZcZ7Wtog1+BzOszj6Z1m7pIEgdYAri3xb0MajMIgK5Nu2Izu8oWX829StvGRvHinlnafyn9W/XHZrFR178uNouNfi378XxP10gigLG3j+XhNg87lTLr+NWheYPmPN/jeSwm44iWghFBrUJaMaXLFBaNX8S+vUqb/Ny5c0yfPt2tEqYnejTrwSdDP+G2628jwBJAywYteav/W4y9bWyhdpk5mfR9py8d/9mRsZ+MpWtiV7ov687lLGORrDVrjO8nRPGGFpQ4Wb9+7o83cK9ZV2GMGeO9BdvS4y7Br3zyyG3btmXDhg1Mnz6drVu3UtfxODZ06FDnNl9Ybfv27QwbNgyA4cOHs23bNud1Bg8ejNldlZhaii5xWIE0tDfk4MSDfHDwA7ambOX3jN8JqxvGgJsG0C2smzNZaELHCSzZuYSrV646k7LsFjsDbx5oKKdcHDaLjQ+HfMivf/zK4QuHuanhTR6vYxImlg1cxqyYWew6uYvQ4FC6NO1Cdl624YzaZrYVW4CkvPSK7MWex4317vOZ+e+ZbEnZUkhUbdfJXTz55ZMkPpjo0j4nx3jBUwhVQMRT4pPVqlR+nyuqlVbg+O+/Gz9BVBSBgcr95LvMQfnsCz4u2R37y06rVq3Ys2cPn3/+OfHx8dzjqMlYMLnPUxGdfAJLk+hQS9Az/ArGz+zHkKghvHb/ayQNTmL+PfPpHt690BfxusDr2D1uN7G3xFLPVo/Q4FBmxczi7YFve7hy8TSr34y+LfqW+Ecjsn4kj0Q9Qtewrggh8DP7sfSBpditdqfhD7AEcGPwjUzuPLmYq1U+id8nuihoZuVm8a99/zIsqjJokJIyMKJFCyUpXBSbDerXVzHznTtfkx4uSnZ26aJn/P1VgXGLmylWYKDKxLXbIShIhWt+/rlafPZd4lCJbeGoJLVwx/vyqWeeOnUKu93Oo48+ytSpU/n+++8BSEpKcm7vvPNOALp06cIax6PcqlWr6NbNWPPJk1xybULP8KuIiHoRJMUmVXU3XHgk6hFahbTi1Z2vcvzScfq17MfoW0eXefG0IjGq5wtKdydP5rmsY3ToABMmwBtvqILfJpOamb/4IowcqWbPq1cr987998OsWcrgN29+zTBPnAivvw5XCwQ1+fkpY1+cNIIQqvKU2QwxMaovffqohKqCWCwQGwvLlqlatNnZcMstVR9JVDLiKK+BL8q+ffuYNm0aJpMJq9XKG2+8QWxsLFlZWXTu3Jm8vDxWr14NwOLFixk1ahTz58+nUaNGLFu2zPCa/fv3JzY2lo8//pglS5bUWj++TrzSVBse+NcDfHH0C5fCKF2bdmXbqG1uzoLvv4cPPlCGdcgQlfRUGnbtgrFjVXik2ayMc3AwJCYW/iEoismkflyefvravr174a67lFG/ckXN7OvVg9271ay+qvHVxKuIiAh2795Nw4bF1S2oK/m0jgAACe9JREFUXXhVPE2j8SaL7l3E9re2cyX7CldyrmCz2PAz+7nNVcjnttvUX1np2BGSk1Vkj9Wq/i5fVslSjuhAQ6RUM/uCtGunzklMhC+/hIMH4Y8/oH9/mDsXerlPdNZoyo02+JpqQ/MGzTk06RAJexLYdXIX7a5vx/gO4w2ralUGBcu31qlTvA/fZDL2/zdqBDfcADt3XgsP3b1bGf1166B374rrc03h2LFjVd2FGoE2+JpqRUN7Q/6z+39WdTfIyoLibJDdDikpcOuthfdLCTNmuOYCXLkC06fDHs/BShpNmakWy0Iaja/h51e8vHF2tquxB2XYz7nRIjp4sPx902jcoQ2+RlMGhIBJk9zLHuRXtgo3UMaw2ZRLyIiw8uUsaTQe0QZfoykDmzbB8uXX1C2Lkpmpwj2NZvImE8THF14TAF3kRFP5lMvgCyEaCCG+EkIccWzrG7QJF0LsEUIkCyEOCCHGl+eeGo03OH4c3nsPtmxxXZw9dEhp1J8+7fkaq1erXAAjNcxp0+DZZ1VIpsWiFnIXL1Zho9WJVatWERERgclkIiIiglWryq+U+eeff/L666+X6dyRI0eydu3acvehplLeGf4MYKOUsiWw0fG+KKeBLlLK9kBnYIYQ4sZy3lejqRSkhMmToVUrGD1aJWS1aFF4gXbxYs/x9/nk5UFqKhjZQCHUAu2FC6rN2bPqftWJVatWMW7cOFJSUpBSkpKSwrhx48pt9Mtj8DWeKa/BfxDI1wN4GxhYtIGU8qqUMv/B178C7qnRVBpJSSpGPjNTxdqnpalIm4EFvtmHDpW8AHl6uqpk5Q6TSfnzfVcgzT0zZ84ko0ioUUZGBjNnlk8eecaMGfzyyy+0b9+eadOmMX/+fDp27Eh0dDSzZ892tluxYgXR0dG0a9eO4cOHO/dv2bKFLl26EBkZqWf7RShvWGZjKeVpACnlaSHEdUaNhBBNgc+AFsA0KeUpN+3GodSYCNOrV5oq4NVXXV0weXlw+DD88ouSXYiJgW++UT8KxWGz+bK8cfnI154v6f6SMnfuXPbv309ycjLr169n7dq17Ny5EyklAwYMYMuWLYSEhDBnzhy++eYbGjZsSGrqNTXX06dPs23bNn7++WcGDBhAbGxsufpTkyjW4AshNgBGmS0l/hmXUh4Hoh2unI+EEGullC5F6KSUCSj1JTp06OCbmg+aGs2lS8b7LRY14welibNkiQq7LE5m2WqFUaMqto++QlhYGCkpKYb7K4r169ezfv16bnXEt6alpXHkyBH27t1LbGysU2qhQQGt6oEDB2IymWjTpg1nfbXWZRVRrHtFStlbShll8PcxcFYIcQOAY+smuth5rVPAAaB2KhdpfJ7Bg40VNq1WpZwJSvXy++9h+HC47jrl41+0CE6cgL59VVs/P9V+82ZfV7wsO3PmzMFeJNTIbrczZ0755JELIqUkPj6e5ORkkpOTOXr0KKNHj0ZK6VYi2b9ArKyvaoVVFeX1p68DRjhejwA+LtpACBEqhAhwvK4PdAUOlfO+Gk2l8OSTKnY+P6nKYoGAAKVkWVDaODRU7Tt7Fo4cUQu9TZoofZzUVBXBs29f+TR8fJ24uDgSEhIIDw9HCEF4eDgJCQnExZVPPbOglHHfvn1JTEwkLU3VNj558iTnzp2jV69evPvuu1y4cAGgkEtH457y+vDnAu8KIUaj6poNBhBCdADGSynHADcDC4QQEiWa/d9Syn3lvK9GUykEB6vZ+zvvKOMdFqZcOKXxw5eypG+1Ji4urtwGvighISF07dqVqKgo7rvvPoYNG+bUvw8KCuKdd97hlltuYebMmcTExGA2m7n11ltZvnx5hfajJqLlkTUajRNflUfWGFNaeWQdIqnRaDS1BG3wNRqNppagDb5GoymEr7p5NYUpy7+TNvgajcaJzWbjwoUL2uj7OFJKLly4gM0ohtgDugCKRqNxEhoayokTJzh//nxVd0VTDDabjdDQ0FKdow2+RqNxYrVaadasWVV3Q1NJaJeORqPR1BK0wddoNJpagjb4Go1GU0vw2UxbIcR5wFWKT9EQ+N2L3alO6LFxjx4b9+ixMaY6jku4lLKR0QGfNfieEELsdpc6XNvRY+MePTbu0WNjTE0bF+3S0Wg0mlqCNvgajUZTS6iuBj+hqjvgw+ixcY8eG/fosTGmRo1LtfThazQajab0VNcZvkaj0WhKiTb4Go1GU0uoFgZfCNFACPGVEOKIY1vfQ9tgIcRJIcSr3uxjVVGSsRFCtBdCbBdCHBBC/CiEeKQq+uoNhBD3CiEOCSGOCiFmGBz3F0IkOY5/J4SI8H4vq4YSjM1TQoifHN+RjUKI8KroZ1VQ3NgUaBcrhJCOMq7Vjmph8IEZwEYpZUtgo+O9O54HvvZKr3yDkoxNBvCYlPIW4F7gFSFEPS/20SsIIczAa8B9QBtgqBCiTZFmo4E/pJQtgIXAPO/2smoo4dj8AHSQUkYDa4GXvNvLqqGEY4MQog4wGfjOuz2sOKqLwX8QeNvx+m1goFEjIcTtQGNgvZf65QsUOzZSysNSyiOO16eAc4BhJl41pxNwVEr5f1LKq8Aa1PgUpOB4rQV6CSGEF/tYVRQ7NlLKTVLKDMfbHUDptHerLyX53oCaTL4EZHqzcxVJdTH4jaWUpwEc2+uKNhBCmIAFwDQv962qKXZsCiKE6AT4Ab94oW/epglwvMD7E459hm2klDnARSDEK72rWkoyNgUZDXxRqT3yHYodGyHErUBTKeWn3uxYReMzevhCiA3A9QaHZpbwEk8An0spj9e0CVsFjE3+dW4AVgIjpJR5FdE3H8PoH75o3HFJ2tRESvy5hRCPAh2AmErtke/gcWwck8mFwEhvdaiy8BmDL6Xs7e6YEOKsEOIGKeVph9E6Z9DsTqC7EOIJIAjwE0KkSSk9+furBRUwNgghgoHPgGeklDsqqatVzQmgaYH3ocApN21OCCEsQF0g1Tvdq1JKMjYIIXqjJhIxUsosL/WtqilubOoAUcBmx2TyemCdEGKAlHK313pZAVQXl846YITj9Qjg46INpJRxUsowKWUEMBVYUROMfQkodmyEEH7Ah6gxec+LffM2u4CWQohmjs88BDU+BSk4XrHAv2XtyD4sdmwcboulwAAppeHEoYbicWyklBellA2llBEO+7IDNUbVythD9TH4c4E+QogjQB/He4QQHYQQb1Vpz6qekozNw8BdwEghRLLjr33VdLfycPjkJwH/CxwE3pVSHhBCPCeEGOBo9j9AiBDiKPAUniO+agwlHJv5qKfj9xzfkaI/ljWSEo5NjUBLK2g0Gk0tobrM8DUajUZTTrTB12g0mlqCNvgajUZTS9AGX6PRaGoJ2uBrNBpNLUEbfI1Go6klaIOv0Wg0tYT/BzhQi5Y8pcSXAAAAAElFTkSuQmCC\n",
      "text/plain": [
       "<Figure size 432x288 with 1 Axes>"
      ]
     },
     "metadata": {
      "needs_background": "light"
     },
     "output_type": "display_data"
    }
   ],
   "source": [
    "from matplotlib.colors import ListedColormap\n",
    "colors = ListedColormap(['blue', 'green', 'red', 'yellow', 'black'])\n",
    "\n",
    "scatter = plt.scatter(X_train_PCA[:,0].tolist(), X_train_PCA[:,1].tolist(), c = labels_train, cmap = colors)\n",
    "plt.legend(handles = scatter.legend_elements()[0], labels = labels_names)"
   ]
  },
  {
   "cell_type": "markdown",
   "metadata": {},
   "source": [
    "The reduction in two dimensions shows five distinct groups. However, some classes overlay which is quite difficult to distinguish. Let's now reduce also the test set."
   ]
  },
  {
   "cell_type": "code",
   "execution_count": 50,
   "metadata": {},
   "outputs": [],
   "source": [
    "X_test_PCA = PCA.fit_transform(X_test)"
   ]
  },
  {
   "cell_type": "code",
   "execution_count": 51,
   "metadata": {},
   "outputs": [
    {
     "data": {
      "text/plain": [
       "array([[-0.12208305,  0.41239729],\n",
       "       [ 0.10711755,  0.03463925],\n",
       "       [ 0.01801274, -0.12706668],\n",
       "       [-0.12980577, -0.13917603],\n",
       "       [-0.02041477, -0.03531787],\n",
       "       [ 0.14715378, -0.01836032],\n",
       "       [ 0.13816726,  0.00541235],\n",
       "       [ 0.10440463, -0.05457508],\n",
       "       [-0.41457109,  0.43512974],\n",
       "       [ 0.17622108, -0.00550196]])"
      ]
     },
     "execution_count": 51,
     "metadata": {},
     "output_type": "execute_result"
    }
   ],
   "source": [
    "X_test_PCA[0:10]"
   ]
  },
  {
   "cell_type": "markdown",
   "metadata": {},
   "source": [
    "Now let's train a SVM on this new dataset. Indeed, if we apply our SVM trained with 500 dimension vectors, the accuracy will be very bad. Again we have to find the best parameters for our model. Let's make a randomized search cross validation."
   ]
  },
  {
   "cell_type": "code",
   "execution_count": 52,
   "metadata": {},
   "outputs": [
    {
     "data": {
      "text/plain": [
       "SVC(C=1.0, break_ties=False, cache_size=200, class_weight=None, coef0=0.0,\n",
       "    decision_function_shape='ovr', degree=3, gamma='scale', kernel='rbf',\n",
       "    max_iter=-1, probability=False, random_state=None, shrinking=True,\n",
       "    tol=0.001, verbose=False)"
      ]
     },
     "execution_count": 52,
     "metadata": {},
     "output_type": "execute_result"
    }
   ],
   "source": [
    "pca_svm = SVC()\n",
    "pca_svm"
   ]
  },
  {
   "cell_type": "code",
   "execution_count": 53,
   "metadata": {},
   "outputs": [],
   "source": [
    "param_grid = {'C': [x for x in np.linspace(0.1, 1, 10)],\n",
    "             'kernel': ['poly', 'rbf', 'linear'],\n",
    "             'degree': [1, 2, 3, 4],\n",
    "             'gamma': [0.1, 1, 10, 100]}"
   ]
  },
  {
   "cell_type": "code",
   "execution_count": 54,
   "metadata": {},
   "outputs": [
    {
     "data": {
      "text/plain": [
       "RandomizedSearchCV(cv=None, error_score=nan,\n",
       "                   estimator=SVC(C=1.0, break_ties=False, cache_size=200,\n",
       "                                 class_weight=None, coef0=0.0,\n",
       "                                 decision_function_shape='ovr', degree=3,\n",
       "                                 gamma='scale', kernel='rbf', max_iter=-1,\n",
       "                                 probability=False, random_state=None,\n",
       "                                 shrinking=True, tol=0.001, verbose=False),\n",
       "                   iid='deprecated', n_iter=10, n_jobs=None,\n",
       "                   param_distributions={'C': [0.1, 0.2, 0.30000000000000004,\n",
       "                                              0.4, 0.5, 0.6, 0.7000000000000001,\n",
       "                                              0.8, 0.9, 1.0],\n",
       "                                        'degree': [1, 2, 3, 4],\n",
       "                                        'gamma': [0.1, 1, 10, 100],\n",
       "                                        'kernel': ['poly', 'rbf', 'linear']},\n",
       "                   pre_dispatch='2*n_jobs', random_state=None, refit=True,\n",
       "                   return_train_score=False, scoring=None, verbose=0)"
      ]
     },
     "execution_count": 54,
     "metadata": {},
     "output_type": "execute_result"
    }
   ],
   "source": [
    "from sklearn.model_selection import RandomizedSearchCV\n",
    "clf_pca = RandomizedSearchCV(pca_svm, param_distributions = param_grid)\n",
    "clf_pca.fit(X_train_PCA, labels_train)"
   ]
  },
  {
   "cell_type": "code",
   "execution_count": 55,
   "metadata": {},
   "outputs": [
    {
     "data": {
      "text/plain": [
       "{'kernel': 'poly', 'gamma': 100, 'degree': 1, 'C': 0.4}"
      ]
     },
     "execution_count": 55,
     "metadata": {},
     "output_type": "execute_result"
    }
   ],
   "source": [
    "clf_pca.best_params_"
   ]
  },
  {
   "cell_type": "code",
   "execution_count": 56,
   "metadata": {},
   "outputs": [],
   "source": [
    "pca_svm = clf_pca.best_estimator_"
   ]
  },
  {
   "cell_type": "code",
   "execution_count": 57,
   "metadata": {},
   "outputs": [
    {
     "data": {
      "text/plain": [
       "SVC(C=0.4, break_ties=False, cache_size=200, class_weight=None, coef0=0.0,\n",
       "    decision_function_shape='ovr', degree=1, gamma=100, kernel='poly',\n",
       "    max_iter=-1, probability=False, random_state=None, shrinking=True,\n",
       "    tol=0.001, verbose=False)"
      ]
     },
     "execution_count": 57,
     "metadata": {},
     "output_type": "execute_result"
    }
   ],
   "source": [
    "pca_svm"
   ]
  },
  {
   "cell_type": "code",
   "execution_count": 58,
   "metadata": {},
   "outputs": [
    {
     "data": {
      "text/plain": [
       "SVC(C=0.4, break_ties=False, cache_size=200, class_weight=None, coef0=0.0,\n",
       "    decision_function_shape='ovr', degree=1, gamma=100, kernel='poly',\n",
       "    max_iter=-1, probability=False, random_state=None, shrinking=True,\n",
       "    tol=0.001, verbose=False)"
      ]
     },
     "execution_count": 58,
     "metadata": {},
     "output_type": "execute_result"
    }
   ],
   "source": [
    "pca_svm.fit(X_train_PCA, labels_train)"
   ]
  },
  {
   "cell_type": "code",
   "execution_count": 59,
   "metadata": {},
   "outputs": [],
   "source": [
    "pca_svm_predicted = pca_svm.predict(X_test_PCA)"
   ]
  },
  {
   "cell_type": "code",
   "execution_count": 60,
   "metadata": {},
   "outputs": [
    {
     "data": {
      "text/plain": [
       "0.3707865168539326"
      ]
     },
     "execution_count": 60,
     "metadata": {},
     "output_type": "execute_result"
    }
   ],
   "source": [
    "np.mean( pca_svm_predicted == labels_test)"
   ]
  },
  {
   "cell_type": "markdown",
   "metadata": {},
   "source": [
    "As predicted the accuracy is very low. It means that the classifier can't really learn to split this data in our five classes. We lost too many information in 2 dimensions. Now we will implement the TSNE method in order to see if it works better."
   ]
  },
  {
   "cell_type": "markdown",
   "metadata": {},
   "source": [
    "**8.2. TSNE** <a class=\"anchor\" id=\"tsne\"></a>"
   ]
  },
  {
   "cell_type": "code",
   "execution_count": 31,
   "metadata": {},
   "outputs": [],
   "source": [
    "from sklearn import manifold\n",
    "from sklearn.manifold import TSNE"
   ]
  },
  {
   "cell_type": "code",
   "execution_count": 32,
   "metadata": {},
   "outputs": [],
   "source": [
    "TSNE = TSNE(n_components = 2)"
   ]
  },
  {
   "cell_type": "code",
   "execution_count": 33,
   "metadata": {},
   "outputs": [],
   "source": [
    "X_train_TSNE = TSNE.fit_transform(X_train)"
   ]
  },
  {
   "cell_type": "code",
   "execution_count": 34,
   "metadata": {},
   "outputs": [],
   "source": [
    "X_test_TSNE = TSNE.fit_transform(X_test)"
   ]
  },
  {
   "cell_type": "code",
   "execution_count": 35,
   "metadata": {
    "scrolled": true
   },
   "outputs": [
    {
     "data": {
      "text/plain": [
       "<matplotlib.legend.Legend at 0x19af9b72648>"
      ]
     },
     "execution_count": 35,
     "metadata": {},
     "output_type": "execute_result"
    },
    {
     "data": {
      "image/png": "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\n",
      "text/plain": [
       "<Figure size 432x288 with 1 Axes>"
      ]
     },
     "metadata": {
      "needs_background": "light"
     },
     "output_type": "display_data"
    }
   ],
   "source": [
    "from matplotlib.colors import ListedColormap\n",
    "colors = ListedColormap(['blue', 'green', 'red', 'yellow', 'black'])\n",
    "\n",
    "scatter = plt.scatter(X_train_TSNE[:,0].tolist(), X_train_TSNE[:,1].tolist(), c = labels_train, cmap = colors)\n",
    "plt.legend(handles = scatter.legend_elements()[0], labels = labels_names)"
   ]
  },
  {
   "cell_type": "markdown",
   "metadata": {},
   "source": [
    "As we can see, the TSNE works a little bit better. Indeed, classes are more distinguishable, even if there are yet some overlays. Let's train a SVM on TSNE data. Again we search the best parameters."
   ]
  },
  {
   "cell_type": "code",
   "execution_count": 36,
   "metadata": {},
   "outputs": [],
   "source": [
    "tsne_svm = SVC()"
   ]
  },
  {
   "cell_type": "code",
   "execution_count": 38,
   "metadata": {},
   "outputs": [],
   "source": [
    "param_grid = {'C': [x for x in np.linspace(0.1, 1, 10)],\n",
    "             'kernel': ['poly', 'rbf', 'linear']}"
   ]
  },
  {
   "cell_type": "code",
   "execution_count": 39,
   "metadata": {},
   "outputs": [
    {
     "data": {
      "text/plain": [
       "RandomizedSearchCV(cv=None, error_score=nan,\n",
       "                   estimator=SVC(C=1.0, break_ties=False, cache_size=200,\n",
       "                                 class_weight=None, coef0=0.0,\n",
       "                                 decision_function_shape='ovr', degree=3,\n",
       "                                 gamma='scale', kernel='rbf', max_iter=-1,\n",
       "                                 probability=False, random_state=None,\n",
       "                                 shrinking=True, tol=0.001, verbose=False),\n",
       "                   iid='deprecated', n_iter=10, n_jobs=None,\n",
       "                   param_distributions={'C': [0.1, 0.2, 0.30000000000000004,\n",
       "                                              0.4, 0.5, 0.6, 0.7000000000000001,\n",
       "                                              0.8, 0.9, 1.0],\n",
       "                                        'kernel': ['poly', 'rbf', 'linear']},\n",
       "                   pre_dispatch='2*n_jobs', random_state=None, refit=True,\n",
       "                   return_train_score=False, scoring=None, verbose=0)"
      ]
     },
     "execution_count": 39,
     "metadata": {},
     "output_type": "execute_result"
    }
   ],
   "source": [
    "from sklearn.model_selection import RandomizedSearchCV\n",
    "clf_tsne = RandomizedSearchCV(tsne_svm, param_distributions = param_grid)\n",
    "clf_tsne.fit(X_train_TSNE, labels_train)"
   ]
  },
  {
   "cell_type": "code",
   "execution_count": 40,
   "metadata": {},
   "outputs": [
    {
     "data": {
      "text/plain": [
       "{'kernel': 'rbf', 'C': 0.6}"
      ]
     },
     "execution_count": 40,
     "metadata": {},
     "output_type": "execute_result"
    }
   ],
   "source": [
    "clf_tsne.best_params_"
   ]
  },
  {
   "cell_type": "code",
   "execution_count": 41,
   "metadata": {},
   "outputs": [],
   "source": [
    "tsne_svm = clf_tsne.best_estimator_"
   ]
  },
  {
   "cell_type": "code",
   "execution_count": 42,
   "metadata": {},
   "outputs": [
    {
     "data": {
      "text/plain": [
       "SVC(C=0.6, break_ties=False, cache_size=200, class_weight=None, coef0=0.0,\n",
       "    decision_function_shape='ovr', degree=3, gamma='scale', kernel='rbf',\n",
       "    max_iter=-1, probability=False, random_state=None, shrinking=True,\n",
       "    tol=0.001, verbose=False)"
      ]
     },
     "execution_count": 42,
     "metadata": {},
     "output_type": "execute_result"
    }
   ],
   "source": [
    "tsne_svm"
   ]
  },
  {
   "cell_type": "code",
   "execution_count": 43,
   "metadata": {},
   "outputs": [
    {
     "data": {
      "text/plain": [
       "SVC(C=0.6, break_ties=False, cache_size=200, class_weight=None, coef0=0.0,\n",
       "    decision_function_shape='ovr', degree=3, gamma='scale', kernel='rbf',\n",
       "    max_iter=-1, probability=False, random_state=None, shrinking=True,\n",
       "    tol=0.001, verbose=False)"
      ]
     },
     "execution_count": 43,
     "metadata": {},
     "output_type": "execute_result"
    }
   ],
   "source": [
    "tsne_svm.fit(X_train_TSNE, labels_train)"
   ]
  },
  {
   "cell_type": "code",
   "execution_count": 44,
   "metadata": {},
   "outputs": [],
   "source": [
    "tsne_predicted = tsne_svm.predict(X_test_TSNE)"
   ]
  },
  {
   "cell_type": "code",
   "execution_count": 45,
   "metadata": {
    "scrolled": true
   },
   "outputs": [
    {
     "data": {
      "text/plain": [
       "0.033707865168539325"
      ]
     },
     "execution_count": 45,
     "metadata": {},
     "output_type": "execute_result"
    }
   ],
   "source": [
    "np.mean(tsne_predicted == labels_test)"
   ]
  },
  {
   "cell_type": "markdown",
   "metadata": {},
   "source": [
    "In this case, the accuracy is very low too: it means that we lost a lot of information using TSNE reduction. Let's try with the factor analysis reduction."
   ]
  },
  {
   "cell_type": "markdown",
   "metadata": {},
   "source": [
    "**8.3. Factor analysis** <a class=\"anchor\" id=\"factorialAnalysis\"></a>"
   ]
  },
  {
   "cell_type": "code",
   "execution_count": 61,
   "metadata": {},
   "outputs": [],
   "source": [
    "from sklearn.decomposition import FactorAnalysis"
   ]
  },
  {
   "cell_type": "code",
   "execution_count": 62,
   "metadata": {},
   "outputs": [],
   "source": [
    "factor_analysis = FactorAnalysis(n_components = 2)"
   ]
  },
  {
   "cell_type": "code",
   "execution_count": 63,
   "metadata": {},
   "outputs": [],
   "source": [
    "X_train_FA = factor_analysis.fit_transform(X_train)"
   ]
  },
  {
   "cell_type": "code",
   "execution_count": 64,
   "metadata": {},
   "outputs": [
    {
     "data": {
      "text/plain": [
       "array([[ 1.44577958,  0.95106405],\n",
       "       [ 0.94063994,  0.783561  ],\n",
       "       [-1.38800304,  1.09495203],\n",
       "       ...,\n",
       "       [ 1.01254483, -0.11688836],\n",
       "       [-0.30935038, -0.16268548],\n",
       "       [ 0.27903357, -0.92491199]])"
      ]
     },
     "execution_count": 64,
     "metadata": {},
     "output_type": "execute_result"
    }
   ],
   "source": [
    "X_train_FA"
   ]
  },
  {
   "cell_type": "code",
   "execution_count": 65,
   "metadata": {},
   "outputs": [
    {
     "data": {
      "text/plain": [
       "<matplotlib.legend.Legend at 0x19af9cac688>"
      ]
     },
     "execution_count": 65,
     "metadata": {},
     "output_type": "execute_result"
    },
    {
     "data": {
      "image/png": "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\n",
      "text/plain": [
       "<Figure size 432x288 with 1 Axes>"
      ]
     },
     "metadata": {
      "needs_background": "light"
     },
     "output_type": "display_data"
    }
   ],
   "source": [
    "from matplotlib.colors import ListedColormap\n",
    "colors = ListedColormap(['blue', 'green', 'red', 'yellow', 'black'])\n",
    "\n",
    "scatter = plt.scatter(X_train_FA[:,0].tolist(), X_train_FA[:,1].tolist(), c = labels_train, cmap = colors)\n",
    "plt.legend(handles = scatter.legend_elements()[0], labels = labels_names)"
   ]
  },
  {
   "cell_type": "markdown",
   "metadata": {},
   "source": [
    "Regarding this plot, it seems that factor analysis better separate the data among the 5 classes. Let's try a SVM on this data."
   ]
  },
  {
   "cell_type": "code",
   "execution_count": 66,
   "metadata": {},
   "outputs": [],
   "source": [
    "fa_svm = SVC()"
   ]
  },
  {
   "cell_type": "code",
   "execution_count": 69,
   "metadata": {},
   "outputs": [],
   "source": [
    "param_grid = {'C': [x for x in np.linspace(0.1, 1, 10)],\n",
    "             'kernel': ['poly', 'rbf', 'linear']}"
   ]
  },
  {
   "cell_type": "code",
   "execution_count": 70,
   "metadata": {},
   "outputs": [
    {
     "data": {
      "text/plain": [
       "RandomizedSearchCV(cv=None, error_score=nan,\n",
       "                   estimator=SVC(C=1.0, break_ties=False, cache_size=200,\n",
       "                                 class_weight=None, coef0=0.0,\n",
       "                                 decision_function_shape='ovr', degree=3,\n",
       "                                 gamma='scale', kernel='rbf', max_iter=-1,\n",
       "                                 probability=False, random_state=None,\n",
       "                                 shrinking=True, tol=0.001, verbose=False),\n",
       "                   iid='deprecated', n_iter=10, n_jobs=None,\n",
       "                   param_distributions={'C': [0.1, 0.2, 0.30000000000000004,\n",
       "                                              0.4, 0.5, 0.6, 0.7000000000000001,\n",
       "                                              0.8, 0.9, 1.0],\n",
       "                                        'kernel': ['poly', 'rbf', 'linear']},\n",
       "                   pre_dispatch='2*n_jobs', random_state=None, refit=True,\n",
       "                   return_train_score=False, scoring=None, verbose=0)"
      ]
     },
     "execution_count": 70,
     "metadata": {},
     "output_type": "execute_result"
    }
   ],
   "source": [
    "from sklearn.model_selection import RandomizedSearchCV\n",
    "clf_fa = RandomizedSearchCV(fa_svm, param_distributions = param_grid)\n",
    "clf_fa.fit(X_train_FA, labels_train) "
   ]
  },
  {
   "cell_type": "code",
   "execution_count": 72,
   "metadata": {},
   "outputs": [
    {
     "data": {
      "text/plain": [
       "{'kernel': 'linear', 'C': 0.1}"
      ]
     },
     "execution_count": 72,
     "metadata": {},
     "output_type": "execute_result"
    }
   ],
   "source": [
    "clf_fa.best_params_"
   ]
  },
  {
   "cell_type": "code",
   "execution_count": 73,
   "metadata": {},
   "outputs": [],
   "source": [
    "fa_svm = clf_fa.best_estimator_"
   ]
  },
  {
   "cell_type": "code",
   "execution_count": 74,
   "metadata": {},
   "outputs": [
    {
     "data": {
      "text/plain": [
       "SVC(C=0.1, break_ties=False, cache_size=200, class_weight=None, coef0=0.0,\n",
       "    decision_function_shape='ovr', degree=3, gamma='scale', kernel='linear',\n",
       "    max_iter=-1, probability=False, random_state=None, shrinking=True,\n",
       "    tol=0.001, verbose=False)"
      ]
     },
     "execution_count": 74,
     "metadata": {},
     "output_type": "execute_result"
    }
   ],
   "source": [
    "fa_svm.fit(X_train_FA, labels_train)"
   ]
  },
  {
   "cell_type": "code",
   "execution_count": 75,
   "metadata": {},
   "outputs": [],
   "source": [
    "X_test_FA = factor_analysis.fit_transform(X_test)"
   ]
  },
  {
   "cell_type": "code",
   "execution_count": 76,
   "metadata": {},
   "outputs": [],
   "source": [
    "fa_svm_predict = fa_svm.predict(X_test_FA)"
   ]
  },
  {
   "cell_type": "code",
   "execution_count": 77,
   "metadata": {},
   "outputs": [
    {
     "data": {
      "text/plain": [
       "0.7528089887640449"
      ]
     },
     "execution_count": 77,
     "metadata": {},
     "output_type": "execute_result"
    }
   ],
   "source": [
    "np.mean(fa_svm_predict == labels_test)"
   ]
  },
  {
   "cell_type": "code",
   "execution_count": 78,
   "metadata": {},
   "outputs": [
    {
     "data": {
      "text/plain": [
       "0.7797752808988764"
      ]
     },
     "execution_count": 78,
     "metadata": {},
     "output_type": "execute_result"
    }
   ],
   "source": [
    "np.mean(fa_svm.predict(X_train_FA) == labels_train)"
   ]
  },
  {
   "cell_type": "markdown",
   "metadata": {},
   "source": [
    "Indeed, the factorial analysis seems to be the best way to reduce dimension here. The accuracy is quite satisfactory, which means that we didn't lose a lot of information like we did with PCA or TSNE. "
   ]
  },
  {
   "cell_type": "markdown",
   "metadata": {},
   "source": [
    "Now let's analyse the results obtained for this SVM"
   ]
  },
  {
   "cell_type": "code",
   "execution_count": 80,
   "metadata": {},
   "outputs": [
    {
     "data": {
      "image/png": "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\n",
      "text/plain": [
       "<Figure size 1008x576 with 2 Axes>"
      ]
     },
     "metadata": {
      "needs_background": "light"
     },
     "output_type": "display_data"
    }
   ],
   "source": [
    "from sklearn.metrics import plot_confusion_matrix\n",
    "fig, ax = plt.subplots(figsize=(14, 8))\n",
    "plot_confusion_matrix(fa_svm, X_test_FA, labels_test, values_format = 'd', display_labels = labels_names,\n",
    "                      cmap = plt.cm.Blues,\n",
    "                      ax = ax)\n",
    "plt.title('Confusion Matrix')\n",
    "plt.show()"
   ]
  },
  {
   "cell_type": "code",
   "execution_count": 82,
   "metadata": {},
   "outputs": [
    {
     "name": "stdout",
     "output_type": "stream",
     "text": [
      "               precision    recall  f1-score   support\n",
      "\n",
      "     business       0.82      0.62      0.71        87\n",
      "entertainment       0.69      0.65      0.67        88\n",
      "     politics       0.96      0.82      0.88        87\n",
      "        sport       0.86      0.92      0.89        91\n",
      "         tech       0.56      0.75      0.64        92\n",
      "\n",
      "     accuracy                           0.75       445\n",
      "    macro avg       0.78      0.75      0.76       445\n",
      " weighted avg       0.77      0.75      0.76       445\n",
      "\n"
     ]
    }
   ],
   "source": [
    "from sklearn.metrics import classification_report\n",
    "print(classification_report(labels_test, fa_svm_predict, target_names = labels_names))"
   ]
  },
  {
   "cell_type": "markdown",
   "metadata": {},
   "source": [
    "As predicted the models works the best on sport, politics and business. Indeed, according to the confusion matrix, sport and politics labels have the less false positive and true negative. Moreover, the F1-score shows a good working prediction for politics and sport. <br>\n",
    "This is confirmed by the plot we made before. Indeed, we can see that red and yellow labels are separated from the others. They correspond exactly to sport and politics labels. The blue one (business) is also distinguishable from the others. For tech and entertainment, we can see that they overlay a little bit, which is not beneficial for the prediction.\n",
    "<br>\n",
    "Dimensional reduction using Factorial analysis doesn't really affect sport and politics labels. The three others labels are a little bit affected, which means that the factorial analysis generated a loss of information in texts belonging to business, entertainement and tech."
   ]
  },
  {
   "cell_type": "markdown",
   "metadata": {},
   "source": [
    "Therefore, the dimensional reduction in 2 dimensions is useful here to visualize plot with the 5 distinct labels. However, passing the data from 500 dimensions to 2 dimensions made us lose information and decrease the accuracy. <br>\n",
    "If we want to apply dimensional reduction, we could just try to other dimensions (maybe 20-100) in order to determine a trehsold where too much information is lost. <br>\n",
    "We can also notice that **we considerably reduced information when building our tf-idf vector**. Indeed, the word count vectors matrix has a dimension  in order of magnitude of thousands (number of word in corpus train) for instance, whereas our tf-idf matrix has \"only\" a dimension of 500."
   ]
  },
  {
   "cell_type": "markdown",
   "metadata": {},
   "source": [
    "## Conclusion <a class=\"anchor\" id=\"conclusion\"></a>"
   ]
  },
  {
   "cell_type": "markdown",
   "metadata": {},
   "source": [
    "In conclusion, at the end of the 6th section, we can observe that our models performed very well. Indeed all accuracies are over 90%, which means that our data was well prepared. Even if, random forests overfit, the other models perform very well (KNN less better but still satisfactory). After hesitations between SVM and Naive Bayes Classifier, we picked the SVM for two main reasons:\n",
    "- later if we want to reduce data dimension, we would like to work with negative input data X, which is impossible for a Naive Bayes Classifier. Passing to absolute would probably lose some data information\n",
    "- a Naive Bayes makes the assumption of strong independency between vectors, which is not really the case here\n",
    "\n",
    "<br>\n",
    "Also, we saw that our 5 labels are visible if we reduce our data to 2 dimensions (with a better performance for factorial analysis especially). However, reducing to two dimensions is too strong, with an accuracy decrease due to information loss. We could study in more details the dimensionality reduction in order to find a good reduction which increases accuracy, but doesn't lose so much information."
   ]
  },
  {
   "cell_type": "markdown",
   "metadata": {},
   "source": [
    "Finally, we can find some limits and some improvements to our project:\n",
    "\n",
    "- clearly, there are many other themes in newspapers and texts. Limiting to these five labels doesn't make a general classifier. However, this themes are in a certain way covering many labels. To improve that, we can think about other classes, and add them to our dataset with corresponding texts <br>\n",
    "- add more texts to the dataset. Here we have 1780 features for the train part. It is quite good, but we could improve that with much more texts (~10.000). <br>\n",
    "- even if we demonstrated that thanks to our pre processing step the text length doesn't influence our results, we could remove these outliers. <br>\n",
    "- here we used Machine Learning classifiers. These classifiers need a train phase (supervised learning) and clusters. To improve our classifier, we could think about unsupervised methods (neural networks) like **word2vec** or **Bert** for example. These technologies can work better because rather than taking into account independently each work, they also consider group of words that are often present in texts. It can really helps to improve **accuracy** but mostly to **generalize** our classifier."
   ]
  },
  {
   "cell_type": "markdown",
   "metadata": {},
   "source": [
    "## Bibliography <a class=\"anchor\" id=\"bibliography\"></a>"
   ]
  },
  {
   "cell_type": "markdown",
   "metadata": {},
   "source": [
    "- Dataset: D. Greene and P. Cunningham. \"Practical Solutions to the Problem of Diagonal Dominance in Kernel Document Clustering\", Proc. ICML 2006.\n",
    "- Sklearn library and documentation: https://scikit-learn.org\n",
    "- \"The Elements of Statistical Learning\", Jerome H. Friedman, Robert Tibshirani et Trevor Hastie"
   ]
  },
  {
   "cell_type": "markdown",
   "metadata": {},
   "source": [
    "<hr>"
   ]
  },
  {
   "cell_type": "markdown",
   "metadata": {},
   "source": [
    "<h1 align=\"center\" style=\"text-weight: bold\">*** END ***</h1> "
   ]
  }
 ],
 "metadata": {
  "kernelspec": {
   "display_name": "Python 3",
   "language": "python",
   "name": "python3"
  },
  "language_info": {
   "codemirror_mode": {
    "name": "ipython",
    "version": 3
   },
   "file_extension": ".py",
   "mimetype": "text/x-python",
   "name": "python",
   "nbconvert_exporter": "python",
   "pygments_lexer": "ipython3",
   "version": "3.7.4"
  }
 },
 "nbformat": 4,
 "nbformat_minor": 2
}
